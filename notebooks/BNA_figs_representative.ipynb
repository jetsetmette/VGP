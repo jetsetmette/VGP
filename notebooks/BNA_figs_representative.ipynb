{
 "cells": [
  {
   "cell_type": "code",
   "execution_count": 1,
   "id": "712f3168",
   "metadata": {},
   "outputs": [],
   "source": [
    "import os\n",
    "import numpy as np\n",
    "\n",
    "import matplotlib.pyplot as plt\n",
    "import seaborn as sns\n",
    "\n",
    "import trompy as tp\n",
    "\n",
    "%run \"..//src//vgp_helper_fx\""
   ]
  },
  {
   "cell_type": "code",
   "execution_count": 170,
   "id": "fcc1044a",
   "metadata": {},
   "outputs": [
    {
     "name": "stdout",
     "output_type": "stream",
     "text": [
      "File is excel file. Making csv metafile first\n",
      "File is excel file. Making csv metafile first\n",
      "File is excel file. Making csv metafile first\n"
     ]
    }
   ],
   "source": [
    "DATA_FOLDER = \"D:\\VGP\"\n",
    "\n",
    "#casein session 1\n",
    "animal=\"VGP505\"\n",
    "day=\"037\"\n",
    "day_meta='C2'\n",
    "date=\"20230418\"\n",
    "\n",
    "\n",
    "\n",
    "s2p_folder = os.path.join(DATA_FOLDER,\n",
    "                          \"2P\",\n",
    "                          \"proc_s2p\\\\\"\n",
    "                          \"sub-{}\\\\ses-{}-{}\\\\suite2p\\\\plane0\"\n",
    "                          .format(animal, day, date))\n",
    "\n",
    "# to get event file in single folder\n",
    "# rows,header=tp.metafilereader('C:\\\\Users\\\\mko102\\\\UiT Office 365\\\\O365-Pipette 2 - Dokumenter\\\\People\\\\Mette\\\\GitHub\\\\2P\\\\Metafile_VGP2.4.xls',sheetname='analysis')\n",
    "rows,header=tp.metafilereader('C:\\\\Users\\\\mko102\\\\UiT Office 365\\\\O365-Pipette 2 - Dokumenter\\\\People\\\\Mette\\\\GitHub\\\\2P\\\\VGP2\\\\Metafile_VGP2.4.xls',sheetname='analysis')\n",
    "folder= \"D:\\\\VGP\\\\Bonsai\\\\\"\n",
    "\n",
    "for row in rows: \n",
    "    if row[0]== animal and row[3] == day_meta: \n",
    "        events_file=folder+row[6]\n",
    "C1 = assemble_data(s2p_folder,events_file,animal=\"VGP118\", diet=\"NR\", solution=\"Casein\")\n",
    "\n",
    "\n",
    "# Casein session 2 \n",
    "\n",
    "animal=\"VGP505\"\n",
    "day=\"031\"\n",
    "day_meta='C1'\n",
    "date=\"20230412\"\n",
    "s2p_folder = os.path.join(DATA_FOLDER,\n",
    "                          \"2P\",\n",
    "                          \"proc_s2p\\\\\"\n",
    "                          \"sub-{}\\\\ses-{}-{}\\\\suite2p\\\\plane0\"\n",
    "                          .format(animal, day, date))\n",
    "\n",
    "# to get event file in single folder\n",
    "# rows,header=tp.metafilereader('C:\\\\Users\\\\mko102\\\\UiT Office 365\\\\O365-Pipette 2 - Dokumenter\\\\People\\\\Mette\\\\GitHub\\\\2P\\\\Metafile_VGP2.4.xls',sheetname='analysis')\n",
    "rows,header=tp.metafilereader('C:\\\\Users\\\\mko102\\\\UiT Office 365\\\\O365-Pipette 2 - Dokumenter\\\\People\\\\Mette\\\\GitHub\\\\2P\\\\VGP2\\\\Metafile_VGP2.4.xls',sheetname='analysis')\n",
    "folder= \"D:\\\\VGP\\\\Bonsai\\\\\"\n",
    "\n",
    "for row in rows: \n",
    "    if row[0]== animal and row[3] == day_meta: \n",
    "        events_file=folder+row[6]\n",
    "C2 = assemble_data(s2p_folder,events_file,animal=\"VGP118\", diet=\"NR\", solution=\"Casein\")\n",
    "\n",
    "\n",
    "# Casein session 3 \n",
    "\n",
    "animal=\"VGP504\"\n",
    "day=\"073\"\n",
    "day_meta='C6'\n",
    "date=\"20230524\"\n",
    "s2p_folder = os.path.join(DATA_FOLDER,\n",
    "                          \"2P\",\n",
    "                          \"proc_s2p\\\\\"\n",
    "                          \"sub-{}\\\\ses-{}-{}\\\\suite2p\\\\plane0\"\n",
    "                          .format(animal, day, date))\n",
    "\n",
    "# to get event file in single folder\n",
    "# rows,header=tp.metafilereader('C:\\\\Users\\\\mko102\\\\UiT Office 365\\\\O365-Pipette 2 - Dokumenter\\\\People\\\\Mette\\\\GitHub\\\\2P\\\\Metafile_VGP2.4.xls',sheetname='analysis')\n",
    "rows,header=tp.metafilereader('C:\\\\Users\\\\mko102\\\\UiT Office 365\\\\O365-Pipette 2 - Dokumenter\\\\People\\\\Mette\\\\GitHub\\\\2P\\\\VGP2\\\\Metafile_VGP2.4.xls',sheetname='analysis')\n",
    "folder= \"D:\\\\VGP\\\\Bonsai\\\\\"\n",
    "\n",
    "for row in rows: \n",
    "    if row[0]== animal and row[3] == day_meta: \n",
    "        events_file=folder+row[6]\n",
    "C3 = assemble_data(s2p_folder,events_file,animal=\"VGP118\", diet=\"NR\", solution=\"Casein\")"
   ]
  },
  {
   "cell_type": "code",
   "execution_count": 171,
   "id": "0163631b-fd49-479e-a585-2d2631f3cc0e",
   "metadata": {
    "tags": []
   },
   "outputs": [
    {
     "name": "stdout",
     "output_type": "stream",
     "text": [
      "47\n"
     ]
    },
    {
     "data": {
      "text/html": [
       "<div>\n",
       "<style scoped>\n",
       "    .dataframe tbody tr th:only-of-type {\n",
       "        vertical-align: middle;\n",
       "    }\n",
       "\n",
       "    .dataframe tbody tr th {\n",
       "        vertical-align: top;\n",
       "    }\n",
       "\n",
       "    .dataframe thead th {\n",
       "        text-align: right;\n",
       "    }\n",
       "</style>\n",
       "<table border=\"1\" class=\"dataframe\">\n",
       "  <thead>\n",
       "    <tr style=\"text-align: right;\">\n",
       "      <th></th>\n",
       "      <th>responsive</th>\n",
       "      <th>activated</th>\n",
       "      <th>inhibited</th>\n",
       "    </tr>\n",
       "  </thead>\n",
       "  <tbody>\n",
       "    <tr>\n",
       "      <th>pump_all</th>\n",
       "      <td>8</td>\n",
       "      <td>7</td>\n",
       "      <td>1</td>\n",
       "    </tr>\n",
       "    <tr>\n",
       "      <th>lick_all</th>\n",
       "      <td>8</td>\n",
       "      <td>5</td>\n",
       "      <td>3</td>\n",
       "    </tr>\n",
       "    <tr>\n",
       "      <th>pump_only</th>\n",
       "      <td>5</td>\n",
       "      <td>4</td>\n",
       "      <td>1</td>\n",
       "    </tr>\n",
       "    <tr>\n",
       "      <th>lick_only</th>\n",
       "      <td>5</td>\n",
       "      <td>2</td>\n",
       "      <td>3</td>\n",
       "    </tr>\n",
       "    <tr>\n",
       "      <th>both</th>\n",
       "      <td>3</td>\n",
       "      <td>3</td>\n",
       "      <td>0</td>\n",
       "    </tr>\n",
       "    <tr>\n",
       "      <th>neither</th>\n",
       "      <td>34</td>\n",
       "      <td>38</td>\n",
       "      <td>43</td>\n",
       "    </tr>\n",
       "  </tbody>\n",
       "</table>\n",
       "</div>"
      ],
      "text/plain": [
       "           responsive  activated  inhibited\n",
       "pump_all            8          7          1\n",
       "lick_all            8          5          3\n",
       "pump_only           5          4          1\n",
       "lick_only           5          2          3\n",
       "both                3          3          0\n",
       "neither            34         38         43"
      ]
     },
     "execution_count": 171,
     "metadata": {},
     "output_type": "execute_result"
    }
   ],
   "source": [
    "print(len(C1['pump_responsive']))\n",
    "C1['df_responsive']"
   ]
  },
  {
   "cell_type": "code",
   "execution_count": 167,
   "id": "dd0a605d-9515-4261-b953-c1e62ae0bcbe",
   "metadata": {},
   "outputs": [
    {
     "name": "stdout",
     "output_type": "stream",
     "text": [
      "54\n"
     ]
    },
    {
     "data": {
      "text/html": [
       "<div>\n",
       "<style scoped>\n",
       "    .dataframe tbody tr th:only-of-type {\n",
       "        vertical-align: middle;\n",
       "    }\n",
       "\n",
       "    .dataframe tbody tr th {\n",
       "        vertical-align: top;\n",
       "    }\n",
       "\n",
       "    .dataframe thead th {\n",
       "        text-align: right;\n",
       "    }\n",
       "</style>\n",
       "<table border=\"1\" class=\"dataframe\">\n",
       "  <thead>\n",
       "    <tr style=\"text-align: right;\">\n",
       "      <th></th>\n",
       "      <th>responsive</th>\n",
       "      <th>activated</th>\n",
       "      <th>inhibited</th>\n",
       "    </tr>\n",
       "  </thead>\n",
       "  <tbody>\n",
       "    <tr>\n",
       "      <th>pump_all</th>\n",
       "      <td>7</td>\n",
       "      <td>2</td>\n",
       "      <td>5</td>\n",
       "    </tr>\n",
       "    <tr>\n",
       "      <th>lick_all</th>\n",
       "      <td>31</td>\n",
       "      <td>23</td>\n",
       "      <td>8</td>\n",
       "    </tr>\n",
       "    <tr>\n",
       "      <th>pump_only</th>\n",
       "      <td>0</td>\n",
       "      <td>1</td>\n",
       "      <td>4</td>\n",
       "    </tr>\n",
       "    <tr>\n",
       "      <th>lick_only</th>\n",
       "      <td>24</td>\n",
       "      <td>22</td>\n",
       "      <td>7</td>\n",
       "    </tr>\n",
       "    <tr>\n",
       "      <th>both</th>\n",
       "      <td>7</td>\n",
       "      <td>1</td>\n",
       "      <td>1</td>\n",
       "    </tr>\n",
       "    <tr>\n",
       "      <th>neither</th>\n",
       "      <td>23</td>\n",
       "      <td>30</td>\n",
       "      <td>42</td>\n",
       "    </tr>\n",
       "  </tbody>\n",
       "</table>\n",
       "</div>"
      ],
      "text/plain": [
       "           responsive  activated  inhibited\n",
       "pump_all            7          2          5\n",
       "lick_all           31         23          8\n",
       "pump_only           0          1          4\n",
       "lick_only          24         22          7\n",
       "both                7          1          1\n",
       "neither            23         30         42"
      ]
     },
     "execution_count": 167,
     "metadata": {},
     "output_type": "execute_result"
    }
   ],
   "source": [
    "print(len(C2['pump_responsive']))\n",
    "C2['df_responsive']"
   ]
  },
  {
   "cell_type": "code",
   "execution_count": 4,
   "id": "9dff10d0-e46f-4719-b5f6-26a7f92d120d",
   "metadata": {},
   "outputs": [
    {
     "name": "stdout",
     "output_type": "stream",
     "text": [
      "File is excel file. Making csv metafile first\n"
     ]
    },
    {
     "name": "stderr",
     "output_type": "stream",
     "text": [
      "C:\\Users\\mko102\\GitHub\\VGP\\src\\vgp_helper_fx.py:57: VisibleDeprecationWarning: Creating an ndarray from ragged nested sequences (which is a list-or-tuple of lists-or-tuples-or ndarrays with different lengths or shapes) is deprecated. If you meant to do this, you must specify 'dtype=object' when creating the ndarray.\n",
      "  return np.array(snips)\n"
     ]
    },
    {
     "ename": "IndexError",
     "evalue": "too many indices for array: array is 1-dimensional, but 2 were indexed",
     "output_type": "error",
     "traceback": [
      "\u001b[1;31m---------------------------------------------------------------------------\u001b[0m",
      "\u001b[1;31mIndexError\u001b[0m                                Traceback (most recent call last)",
      "\u001b[1;32m<ipython-input-4-ff5d40809054>\u001b[0m in \u001b[0;36m<module>\u001b[1;34m\u001b[0m\n\u001b[0;32m     70\u001b[0m     \u001b[1;32mif\u001b[0m \u001b[0mrow\u001b[0m\u001b[1;33m[\u001b[0m\u001b[1;36m0\u001b[0m\u001b[1;33m]\u001b[0m\u001b[1;33m==\u001b[0m \u001b[0manimal\u001b[0m \u001b[1;32mand\u001b[0m \u001b[0mrow\u001b[0m\u001b[1;33m[\u001b[0m\u001b[1;36m3\u001b[0m\u001b[1;33m]\u001b[0m \u001b[1;33m==\u001b[0m \u001b[0mday_meta\u001b[0m\u001b[1;33m:\u001b[0m\u001b[1;33m\u001b[0m\u001b[1;33m\u001b[0m\u001b[0m\n\u001b[0;32m     71\u001b[0m         \u001b[0mevents_file\u001b[0m\u001b[1;33m=\u001b[0m\u001b[0mfolder\u001b[0m\u001b[1;33m+\u001b[0m\u001b[0mrow\u001b[0m\u001b[1;33m[\u001b[0m\u001b[1;36m6\u001b[0m\u001b[1;33m]\u001b[0m\u001b[1;33m\u001b[0m\u001b[1;33m\u001b[0m\u001b[0m\n\u001b[1;32m---> 72\u001b[1;33m \u001b[0mM3\u001b[0m \u001b[1;33m=\u001b[0m \u001b[0massemble_data\u001b[0m\u001b[1;33m(\u001b[0m\u001b[0ms2p_folder\u001b[0m\u001b[1;33m,\u001b[0m\u001b[0mevents_file\u001b[0m\u001b[1;33m,\u001b[0m\u001b[0manimal\u001b[0m\u001b[1;33m=\u001b[0m\u001b[1;34m\"VGP118\"\u001b[0m\u001b[1;33m,\u001b[0m \u001b[0mdiet\u001b[0m\u001b[1;33m=\u001b[0m\u001b[1;34m\"NR\"\u001b[0m\u001b[1;33m,\u001b[0m \u001b[0msolution\u001b[0m\u001b[1;33m=\u001b[0m\u001b[1;34m\"Casein\"\u001b[0m\u001b[1;33m)\u001b[0m\u001b[1;33m\u001b[0m\u001b[1;33m\u001b[0m\u001b[0m\n\u001b[0m",
      "\u001b[1;32m~\\GitHub\\VGP\\src\\vgp_helper_fx.py\u001b[0m in \u001b[0;36massemble_data\u001b[1;34m(s2p_folder, events_file, animal, diet, solution, baseline_frames, total_frames)\u001b[0m\n\u001b[0;32m    137\u001b[0m \u001b[1;33m\u001b[0m\u001b[0m\n\u001b[0;32m    138\u001b[0m         \u001b[0mpump_snips\u001b[0m \u001b[1;33m=\u001b[0m \u001b[0mget_snips\u001b[0m\u001b[1;33m(\u001b[0m\u001b[0mdelta_f\u001b[0m\u001b[1;33m,\u001b[0m \u001b[0mpump_frames\u001b[0m\u001b[1;33m,\u001b[0m \u001b[0mbaseline_frames\u001b[0m\u001b[1;33m=\u001b[0m\u001b[0mbaseline_frames\u001b[0m\u001b[1;33m,\u001b[0m \u001b[0mtotal_frames\u001b[0m\u001b[1;33m=\u001b[0m\u001b[0mtotal_frames\u001b[0m\u001b[1;33m)\u001b[0m\u001b[1;33m\u001b[0m\u001b[1;33m\u001b[0m\u001b[0m\n\u001b[1;32m--> 139\u001b[1;33m         \u001b[0mr\u001b[0m\u001b[1;33m,\u001b[0m \u001b[0mp\u001b[0m \u001b[1;33m=\u001b[0m \u001b[0mget_responsive\u001b[0m\u001b[1;33m(\u001b[0m\u001b[0mpump_snips\u001b[0m\u001b[1;33m)\u001b[0m\u001b[1;33m\u001b[0m\u001b[1;33m\u001b[0m\u001b[0m\n\u001b[0m\u001b[0;32m    140\u001b[0m \u001b[1;33m\u001b[0m\u001b[0m\n\u001b[0;32m    141\u001b[0m         \u001b[1;32mif\u001b[0m \u001b[1;33m(\u001b[0m\u001b[0mp\u001b[0m \u001b[1;33m<\u001b[0m \u001b[1;36m0.05\u001b[0m\u001b[1;33m)\u001b[0m \u001b[1;33m&\u001b[0m \u001b[1;33m(\u001b[0m\u001b[0mr\u001b[0m \u001b[1;33m<\u001b[0m \u001b[1;36m0\u001b[0m\u001b[1;33m)\u001b[0m\u001b[1;33m:\u001b[0m\u001b[1;33m\u001b[0m\u001b[1;33m\u001b[0m\u001b[0m\n",
      "\u001b[1;32m~\\GitHub\\VGP\\src\\vgp_helper_fx.py\u001b[0m in \u001b[0;36mget_responsive\u001b[1;34m(snips, range1, range2)\u001b[0m\n\u001b[0;32m     58\u001b[0m \u001b[1;33m\u001b[0m\u001b[0m\n\u001b[0;32m     59\u001b[0m \u001b[1;32mdef\u001b[0m \u001b[0mget_responsive\u001b[0m\u001b[1;33m(\u001b[0m\u001b[0msnips\u001b[0m\u001b[1;33m,\u001b[0m \u001b[0mrange1\u001b[0m\u001b[1;33m=\u001b[0m\u001b[0mrange\u001b[0m\u001b[1;33m(\u001b[0m\u001b[1;36m30\u001b[0m\u001b[1;33m,\u001b[0m\u001b[1;36m50\u001b[0m\u001b[1;33m)\u001b[0m\u001b[1;33m,\u001b[0m \u001b[0mrange2\u001b[0m\u001b[1;33m=\u001b[0m\u001b[0mrange\u001b[0m\u001b[1;33m(\u001b[0m\u001b[1;36m50\u001b[0m\u001b[1;33m,\u001b[0m\u001b[1;36m70\u001b[0m\u001b[1;33m)\u001b[0m\u001b[1;33m)\u001b[0m\u001b[1;33m:\u001b[0m\u001b[1;33m\u001b[0m\u001b[1;33m\u001b[0m\u001b[0m\n\u001b[1;32m---> 60\u001b[1;33m     \u001b[0mpre\u001b[0m \u001b[1;33m=\u001b[0m \u001b[0mnp\u001b[0m\u001b[1;33m.\u001b[0m\u001b[0mmean\u001b[0m\u001b[1;33m(\u001b[0m\u001b[0msnips\u001b[0m\u001b[1;33m[\u001b[0m\u001b[1;33m:\u001b[0m\u001b[1;33m,\u001b[0m \u001b[0mrange1\u001b[0m\u001b[1;33m]\u001b[0m\u001b[1;33m,\u001b[0m \u001b[0maxis\u001b[0m\u001b[1;33m=\u001b[0m\u001b[1;36m0\u001b[0m\u001b[1;33m)\u001b[0m\u001b[1;33m\u001b[0m\u001b[1;33m\u001b[0m\u001b[0m\n\u001b[0m\u001b[0;32m     61\u001b[0m     \u001b[0mpost\u001b[0m \u001b[1;33m=\u001b[0m \u001b[0mnp\u001b[0m\u001b[1;33m.\u001b[0m\u001b[0mmean\u001b[0m\u001b[1;33m(\u001b[0m\u001b[0msnips\u001b[0m\u001b[1;33m[\u001b[0m\u001b[1;33m:\u001b[0m\u001b[1;33m,\u001b[0m \u001b[0mrange2\u001b[0m\u001b[1;33m]\u001b[0m\u001b[1;33m,\u001b[0m \u001b[0maxis\u001b[0m\u001b[1;33m=\u001b[0m\u001b[1;36m0\u001b[0m\u001b[1;33m)\u001b[0m\u001b[1;33m\u001b[0m\u001b[1;33m\u001b[0m\u001b[0m\n\u001b[0;32m     62\u001b[0m \u001b[1;33m\u001b[0m\u001b[0m\n",
      "\u001b[1;31mIndexError\u001b[0m: too many indices for array: array is 1-dimensional, but 2 were indexed"
     ]
    }
   ],
   "source": [
    "# animal=\"VGP504\"\n",
    "# day=\"065\"\n",
    "# day_meta='M4'\n",
    "# date=\"20230516\"\n",
    "\n",
    "\n",
    "\n",
    "# s2p_folder = os.path.join(DATA_FOLDER,\n",
    "#                           \"2P\",\n",
    "#                           \"proc_s2p\\\\\"\n",
    "#                           \"sub-{}\\\\ses-{}-{}\\\\suite2p\\\\plane0\"\n",
    "#                           .format(animal, day, date))\n",
    "\n",
    "# # to get event file in single folder\n",
    "# # rows,header=tp.metafilereader('C:\\\\Users\\\\mko102\\\\UiT Office 365\\\\O365-Pipette 2 - Dokumenter\\\\People\\\\Mette\\\\GitHub\\\\2P\\\\Metafile_VGP2.4.xls',sheetname='analysis')\n",
    "# rows,header=tp.metafilereader('C:\\\\Users\\\\mko102\\\\UiT Office 365\\\\O365-Pipette 2 - Dokumenter\\\\People\\\\Mette\\\\GitHub\\\\2P\\\\VGP2\\\\Metafile_VGP2.4.xls',sheetname='analysis')\n",
    "# folder= \"D:\\\\VGP\\\\Bonsai\\\\\"\n",
    "\n",
    "# for row in rows: \n",
    "#     if row[0]== animal and row[3] == day_meta: \n",
    "#         events_file=folder+row[6]\n",
    "# M1 = assemble_data(s2p_folder,events_file,animal=\"VGP118\", diet=\"NR\", solution=\"Casein\")\n",
    "\n",
    "# #Malt 2\n",
    "\n",
    "# animal=\"VGP504\"\n",
    "# day=\"071\"\n",
    "# day_meta='M5'\n",
    "# date=\"20230522\"\n",
    "\n",
    "\n",
    "\n",
    "# s2p_folder = os.path.join(DATA_FOLDER,\n",
    "#                           \"2P\",\n",
    "#                           \"proc_s2p\\\\\"\n",
    "#                           \"sub-{}\\\\ses-{}-{}\\\\suite2p\\\\plane0\"\n",
    "#                           .format(animal, day, date))\n",
    "\n",
    "# # to get event file in single folder\n",
    "# # rows,header=tp.metafilereader('C:\\\\Users\\\\mko102\\\\UiT Office 365\\\\O365-Pipette 2 - Dokumenter\\\\People\\\\Mette\\\\GitHub\\\\2P\\\\Metafile_VGP2.4.xls',sheetname='analysis')\n",
    "# rows,header=tp.metafilereader('C:\\\\Users\\\\mko102\\\\UiT Office 365\\\\O365-Pipette 2 - Dokumenter\\\\People\\\\Mette\\\\GitHub\\\\2P\\\\VGP2\\\\Metafile_VGP2.4.xls',sheetname='analysis')\n",
    "# folder= \"D:\\\\VGP\\\\Bonsai\\\\\"\n",
    "\n",
    "# for row in rows: \n",
    "#     if row[0]== animal and row[3] == day_meta: \n",
    "#         events_file=folder+row[6]\n",
    "# M2 = assemble_data(s2p_folder,events_file,animal=\"VGP118\", diet=\"NR\", solution=\"Casein\")\n",
    "\n",
    "# # Malt 3\n",
    "\n",
    "animal=\"VGP504\"\n",
    "day=\"075\"\n",
    "day_meta='M6'\n",
    "date=\"20230526\"\n",
    "\n",
    "\n",
    "\n",
    "s2p_folder = os.path.join(DATA_FOLDER,\n",
    "                          \"2P\",\n",
    "                          \"proc_s2p\\\\\"\n",
    "                          \"sub-{}\\\\ses-{}-{}\\\\suite2p\\\\plane0\"\n",
    "                          .format(animal, day, date))\n",
    "\n",
    "# to get event file in single folder\n",
    "# rows,header=tp.metafilereader('C:\\\\Users\\\\mko102\\\\UiT Office 365\\\\O365-Pipette 2 - Dokumenter\\\\People\\\\Mette\\\\GitHub\\\\2P\\\\Metafile_VGP2.4.xls',sheetname='analysis')\n",
    "rows,header=tp.metafilereader('C:\\\\Users\\\\mko102\\\\UiT Office 365\\\\O365-Pipette 2 - Dokumenter\\\\People\\\\Mette\\\\GitHub\\\\2P\\\\VGP2\\\\Metafile_VGP2.4.xls',sheetname='analysis')\n",
    "folder= \"D:\\\\VGP\\\\Bonsai\\\\\"\n",
    "\n",
    "for row in rows: \n",
    "    if row[0]== animal and row[3] == day_meta: \n",
    "        events_file=folder+row[6]\n",
    "M3 = assemble_data(s2p_folder,events_file,animal=\"VGP118\", diet=\"NR\", solution=\"Casein\")"
   ]
  },
  {
   "cell_type": "code",
   "execution_count": null,
   "id": "3b2c5e8b-edaf-4a15-8df1-5ee2a17204c7",
   "metadata": {},
   "outputs": [],
   "source": [
    "print(len(C1['pump_responsive']))\n",
    "C1['df_responsive']"
   ]
  },
  {
   "cell_type": "code",
   "execution_count": null,
   "id": "08cabcdc-83de-43bc-aa54-0e98c602e34c",
   "metadata": {
    "tags": []
   },
   "outputs": [],
   "source": [
    "print(len(C1['pump_responsive']))\n",
    "C1['df_responsive']"
   ]
  },
  {
   "cell_type": "code",
   "execution_count": null,
   "id": "1dce7bee-fe20-4789-903f-a606bc8046d9",
   "metadata": {},
   "outputs": [],
   "source": [
    "print(len(C2['pump_responsive']))\n",
    "C2['df_responsive']"
   ]
  },
  {
   "cell_type": "code",
   "execution_count": null,
   "id": "51d0e52a-0cbf-4efd-89f4-a6bc9447d242",
   "metadata": {},
   "outputs": [],
   "source": [
    "print(len(C3['pump_responsive']))\n",
    "M3['df_responsive']"
   ]
  },
  {
   "cell_type": "code",
   "execution_count": null,
   "id": "2be65741",
   "metadata": {},
   "outputs": [],
   "source": [
    "# heatplot to show pump and lick \n",
    "\n",
    "f, ax = plt.subplots(figsize=(6,5),ncols=3, gridspec_kw={\"width_ratios\": [1,1,0.1]})\n",
    "f.subplots_adjust(wspace=0.15,hspace=0.5, bottom=0.15, left=0.1, right=0.85)\n",
    "\n",
    "\n",
    "\n",
    "y1 = np.mean(C1[\"pump_snips_all\"], axis=1)\n",
    "y2 = np.mean(C1[\"lick_snips_all\"], axis=1)\n",
    "\n",
    "sns.heatmap(y1, ax = ax[0],cbar=False,cmap=\"magma\")\n",
    "sns.heatmap(y2, ax = ax[1], cbar_ax=ax[2],cmap=\"magma\")\n",
    "\n",
    "ax[0].text(50,-2, \"Pump\", size=13)\n",
    "ax[0].vlines([50],0,77, color=\"white\", linestyle=\"--\",lw=1.7)\n",
    "\n",
    "ax[1].text(50,-2, \"First lick\", size=13)\n",
    "ax[1].vlines([50],0,77, color=\"white\", linestyle=\"--\",lw=1.7)\n",
    "\n",
    "for axis in [ax[0], ax[1]]:\n",
    "    axis.set_xticks([0,50,100,150])\n",
    "    axis.set_xlabel(\"Time (sec)\", size=13)\n",
    "    axis.set_xticklabels([\"-5\", \"0\", \"5\", \"10\"], rotation=0, size=13)\n",
    "\n",
    "ax[0].set_ylabel(\"Cell #\", size=13)\n",
    "# ax[0].set_yticks([0,2,4,6,8,10,12,14,16,18,20,22,24,26,28,30,32])\n",
    "# ax[0].set_yticklabels([0,2,4,6,8,10,12,14,16,18,20,22,24,26,28,30,32],size=11)\n",
    "ax[1].set_yticks([])\n",
    "\n",
    "ax[2].set_ylabel(\"Delta F / F\", size=12)\n",
    "\n",
    "\n",
    "# f.savefig(\"..//output//heatmap_allcells.png\")"
   ]
  },
  {
   "cell_type": "code",
   "execution_count": null,
   "id": "05f73556",
   "metadata": {
    "jupyter": {
     "source_hidden": true
    },
    "tags": []
   },
   "outputs": [],
   "source": [
    "# shaded error plots to show activation Casein 1\n",
    "\n",
    "f, ax = plt.subplots(ncols=2, sharey=True)\n",
    "\n",
    "y1 = np.mean(C1[\"pump_snips_all\"], axis=1)\n",
    "y1_resp = np.mean(C1[\"pump_snips_all\"][np.where(C1[\"pump_responsive\"] == 1)], axis=1)\n",
    "y2_resp = np.mean(C1[\"pump_snips_all\"][np.where(C1[\"pump_responsive\"] == -1)], axis=1)\n",
    "\n",
    "# print('all cells',len(C3[\"pump_snips_all\"]))\n",
    "# print('pump act cells',len ((C3[\"pump_snips_all\"][np.where(C2[\"pump_responsive\"] == 1)])))\n",
    "# print('pump inhib cells',len ((C2[\"pump_snips_all\"][np.where(C2[\"pump_responsive\"] == -1)])))\n",
    "\n",
    "ax[0].text(100, 0.5, \"All cells\", size=12)\n",
    "ax[0].text(100, 0.7, \"Activated\", color=\"#b2182b\",size=12)\n",
    "ax[0].text(100, 0.6, \"Inhibited\", color=\"#fc9272\",size=12)\n",
    "\n",
    "ax[0].vlines([50],-0.6,0.6, color=\"black\", linestyle=\"--\", linewidth=1.2)\n",
    "\n",
    "tp.shadedError(ax[0], y1, linecolor=\"#636363\")\n",
    "tp.shadedError(ax[0], y1_resp, linecolor=\"#b2182b\")\n",
    "tp.shadedError(ax[0], y2_resp, linecolor=\"#fc9272\")\n",
    "\n",
    "\n",
    "y2 = np.mean(C1[\"lick_snips_all\"], axis=1)\n",
    "y3_resp = np.mean(C1[\"lick_snips_all\"][np.where(C1[\"lick_responsive\"] == 1)], axis=1)\n",
    "y4_resp = np.mean(C1[\"lick_snips_all\"][np.where(C1[\"lick_responsive\"] == -1)], axis=1)\n",
    "\n",
    "# print('all cells',len(C2[\"lick_snips_all\"]))\n",
    "# print('lick act cells',len ((C2[\"lick_snips_all\"][np.where(C2[\"lick_responsive\"] == 1)])))\n",
    "# print('lick inhib cells',len ((C2[\"lick_snips_all\"][np.where(C2[\"lick_responsive\"] == -1)])))\n",
    "\n",
    "tp.shadedError(ax[1], y2, linecolor=\"#636363\")\n",
    "tp.shadedError(ax[1], y3_resp, linecolor=\"#2166ac\")\n",
    "tp.shadedError(ax[1], y4_resp, linecolor=\"#9ecae1\")\n",
    "\n",
    "\n",
    "ax[1].text(100, 0.5, \"All cells\", size=12)\n",
    "ax[1].text(100, 0.7, \"Activated\", color=\"#2166ac\",size=12)\n",
    "ax[1].text(100, 0.6, \"Inhibited\", color=\"#9ecae1\",size=12)\n",
    "\n",
    "ax[1].vlines([50],-0.6,0.6, color=\"black\", linestyle=\"--\",linewidth=1.2)\n",
    "\n",
    "\n",
    "for axis in ax:\n",
    "    axis.set_xticks([0,50,100,150])\n",
    "    axis.set_xticklabels([\"-5\", \"0\", \"5\", \"10\"],rotation=0, size=12)\n",
    "    axis.spines[\"top\"].set_visible(False)\n",
    "    axis.spines[\"right\"].set_visible(False)\n",
    "    \n",
    "ax[0].set_xlabel(\"Time from pump (sec)\", size=12)\n",
    "ax[1].set_xlabel(\"Time from lick (sec)\", size=12)\n",
    "\n",
    "ax[0].set_ylabel(\"Delta F / F\", size=12)\n",
    "ax[0].set_yticks([-0.6,-0.4,-0.2, 0.0, 0.2,0.4,0.6])\n",
    "ax[1].set_yticks([-0.6,-0.4,-0.2, 0.0, 0.2,0.4,0.6])\n",
    "ax[0].set_yticklabels([-0.6,-0.4,-0.2, 0.0, 0.2,0.4,0.6], size=12)\n",
    "\n",
    "# f.savefig(\"..//output//shadederror.png\")"
   ]
  },
  {
   "cell_type": "markdown",
   "id": "6cfc9c5b-8ba1-42c4-b441-892874f7170e",
   "metadata": {},
   "source": [
    "### Lick activated cells Casein session 1, 2 and 3 "
   ]
  },
  {
   "cell_type": "code",
   "execution_count": null,
   "id": "37840213-a1c9-491d-a50f-c3e87603a458",
   "metadata": {},
   "outputs": [],
   "source": [
    "# shaded error plots to show activation Casein 1\n",
    "\n",
    "f, ax = plt.subplots(figsize=(10,4),ncols=3, sharey=True)\n",
    "\n",
    "y1 = np.mean(C1[\"lick_snips_all\"][np.where(C1[\"lick_responsive\"] == 0)], axis=0)\n",
    "y1_act = np.mean(C1[\"lick_snips_all\"][np.where(C1[\"lick_responsive\"] == 1)], axis=1)\n",
    "y1_inh = np.mean(C1[\"lick_snips_all\"][np.where(C1[\"lick_responsive\"] == -1)], axis=1)\n",
    "\n",
    "# print('all cells',len(C3[\"pump_snips_all\"]))\n",
    "# print('pump act cells',len ((C3[\"pump_snips_all\"][np.where(C2[\"pump_responsive\"] == 1)])))\n",
    "# print('pump inhib cells',len ((C2[\"pump_snips_all\"][np.where(C2[\"pump_responsive\"] == -1)])))\n",
    "\n",
    "ax[0].text(90, 0.4, \"Non-responsive\", size=12)\n",
    "ax[0].text(90, 0.6, \"Activated\", color=\"#b2182b\",size=12)\n",
    "ax[0].text(90, 0.5, \"Inhibited\", color=\"#fc9272\",size=12)\n",
    "\n",
    "ax[0].vlines([50],-0.6,0.6, color=\"black\", linestyle=\"--\", linewidth=1.2)\n",
    "\n",
    "tp.shadedError(ax[0], y1, linecolor=\"#636363\")\n",
    "tp.shadedError(ax[0], y1_act, linecolor=\"#b2182b\")\n",
    "tp.shadedError(ax[0], y1_inh, linecolor=\"#fc9272\")\n",
    "\n",
    "\n",
    "y2 = np.mean(C2[\"lick_snips_all\"][np.where(C2[\"lick_responsive\"] == 0)], axis=0)\n",
    "y2_act = np.mean(C2[\"lick_snips_all\"][np.where(C2[\"lick_responsive\"] == 1)], axis=1)\n",
    "y2_inh = np.mean(C2[\"lick_snips_all\"][np.where(C2[\"lick_responsive\"] == -1)], axis=1)\n",
    "\n",
    "tp.shadedError(ax[1], y2, linecolor=\"#636363\")\n",
    "tp.shadedError(ax[1], y2_act, linecolor=\"#b2182b\")\n",
    "tp.shadedError(ax[1], y2_inh, linecolor=\"#fc9272\")\n",
    "\n",
    "ax[1].vlines([50],-0.6,0.6, color=\"black\", linestyle=\"--\",linewidth=1.2)\n",
    "\n",
    "y3 = np.mean(C3[\"lick_snips_all\"][np.where(C3[\"lick_responsive\"] == 0)], axis=0)\n",
    "y3_act = np.mean(C3[\"lick_snips_all\"][np.where(C3[\"lick_responsive\"] == 1)], axis=1)\n",
    "y3_inh = np.mean(C3[\"lick_snips_all\"][np.where(C3[\"lick_responsive\"] == -1)], axis=1)\n",
    "\n",
    "tp.shadedError(ax[2], y3, linecolor=\"#636363\")\n",
    "tp.shadedError(ax[2], y3_act, linecolor=\"#b2182b\")\n",
    "tp.shadedError(ax[2], y3_inh, linecolor=\"#fc9272\")\n",
    "\n",
    "ax[2].vlines([50],-0.6,0.6, color=\"black\", linestyle=\"--\",linewidth=1.2)\n",
    "\n",
    "\n",
    "for axis in ax:\n",
    "    axis.set_xticks([0,50,100,150])\n",
    "    axis.set_xticklabels([\"-5\", \"0\", \"5\", \"10\"],rotation=0, size=12)\n",
    "    axis.spines[\"top\"].set_visible(False)\n",
    "    axis.spines[\"right\"].set_visible(False)\n",
    "    \n",
    "ax[0].set_xlabel(\"Time from lick (sec)\", size=12)\n",
    "ax[1].set_xlabel(\"Time from lick (sec)\", size=12)\n",
    "ax[2].set_xlabel(\"Time from lick (sec)\", size=12)\n",
    "\n",
    "ax[0].set_title(\"Casein 1\", size=12)\n",
    "ax[1].set_title(\"Casein 2\", size=12)\n",
    "ax[2].set_title(\"Casein 3\", size=12)\n",
    "\n",
    "\n",
    "ax[0].set_ylabel(\"Delta F / F\", size=12)\n",
    "ax[0].set_yticks([-0.6,-0.4,-0.2, 0.0, 0.2,0.4,0.6])\n",
    "ax[0].set_yticklabels([-0.6,-0.4,-0.2, 0.0, 0.2,0.4,0.6], size=12)"
   ]
  },
  {
   "cell_type": "code",
   "execution_count": null,
   "id": "57706c41-f627-4062-a251-6960527b437a",
   "metadata": {},
   "outputs": [],
   "source": [
    "f, ax = plt.subplots(figsize=(10,4),ncols=3, sharey=True)\n",
    "\n",
    "y1 = np.mean(C1[\"lick_snips_all\"][np.where(C1[\"lick_responsive\"] == 1)], axis=1)\n",
    "y2 = np.mean(C2[\"lick_snips_all\"][np.where(C2[\"lick_responsive\"] == 1)], axis=1)\n",
    "y3 = np.mean(C3[\"lick_snips_all\"][np.where(C3[\"lick_responsive\"] == 1)], axis=1)\n",
    "\n",
    "# print('all cells',len(C3[\"pump_snips_all\"]))\n",
    "# print('pump act cells',len ((C3[\"pump_snips_all\"][np.where(C2[\"pump_responsive\"] == 1)])))\n",
    "# print('pump inhib cells',len ((C2[\"pump_snips_all\"][np.where(C2[\"pump_responsive\"] == -1)])))\n",
    "\n",
    "ax[0].text(120, 0.4, \"Cas 1\",color='#a1dab4', size=12)\n",
    "ax[0].text(120, 0.5, \"Cas 2\", color=\"#41b6c4\",size=12)\n",
    "ax[0].text(120, 0.6, \"Cas 3\", color=\"#225ea8\",size=12)\n",
    "\n",
    "ax[0].vlines([50],-0.6,0.6, color=\"black\", linestyle=\"--\", linewidth=1.2)\n",
    "\n",
    "tp.shadedError(ax[0], y1, linecolor=\"#a1dab4\")\n",
    "tp.shadedError(ax[0], y2, linecolor=\"#41b6c4\")\n",
    "tp.shadedError(ax[0], y3, linecolor=\"#225ea8\")\n",
    "\n",
    "\n",
    "z1 = np.mean(M1[\"lick_snips_all\"][np.where(M1[\"lick_responsive\"] == 1)], axis=1)\n",
    "z2 = np.mean(M2[\"lick_snips_all\"][np.where(M2[\"lick_responsive\"] == 1)], axis=1)\n",
    "z3 = np.mean(M3[\"lick_snips_all\"][np.where(M3[\"lick_responsive\"] == 1)], axis=1)\n",
    "\n",
    "# print('all cells',len(C3[\"pump_snips_all\"]))\n",
    "# print('pump act cells',len ((C3[\"pump_snips_all\"][np.where(C2[\"pump_responsive\"] == 1)])))\n",
    "# print('pump inhib cells',len ((C2[\"pump_snips_all\"][np.where(C2[\"pump_responsive\"] == -1)])))\n",
    "\n",
    "ax[1].text(120, 0.4, \"Malt 1\",color='#fecc5c', size=12)\n",
    "ax[1].text(120, 0.5, \"Malt 2\", color=\"#fd8d3c\",size=12)\n",
    "ax[1].text(120, 0.6, \"Malt 3\", color=\"#e31a1c\",size=12)\n",
    "\n",
    "ax[1].vlines([50],-0.6,0.6, color=\"black\", linestyle=\"--\", linewidth=1.2)\n",
    "\n",
    "tp.shadedError(ax[1], z1, linecolor=\"#fecc5c\")\n",
    "tp.shadedError(ax[1], z2, linecolor=\"#fd8d3c\")\n",
    "tp.shadedError(ax[1], z3, linecolor=\"#e31a1c\")\n",
    "\n",
    "\n",
    "tp.shadedError(ax[2], y3, linecolor='#225ea8')\n",
    "tp.shadedError(ax[2], z3, linecolor=\"#e31a1c\")\n",
    "ax[2].vlines([50],-0.6,0.6, color=\"black\", linestyle=\"--\", linewidth=1.2)\n",
    "\n",
    "ax[2].text(120, 0.5, \"Malt 3\", color=\"#e31a1c\",size=12)\n",
    "ax[2].text(120, 0.6, \"Cas 3\", color=\"#225ea8\",size=12)\n",
    "\n",
    "\n",
    "\n",
    "\n",
    "\n",
    "\n",
    "for axis in ax:\n",
    "    axis.set_xticks([0,50,100,150])\n",
    "    axis.set_xticklabels([\"-5\", \"0\", \"5\", \"10\"],rotation=0, size=12)\n",
    "    axis.spines[\"top\"].set_visible(False)\n",
    "    axis.spines[\"right\"].set_visible(False)\n",
    "\n",
    "ax[0].set_xlabel(\"Time from lick (sec)\", size=12)\n",
    "ax[0].set_ylabel(\"Delta F / F\", size=12)\n",
    "ax[0].set_yticks([-0.6,-0.4,-0.2, 0.0, 0.2,0.4,0.6])\n",
    "ax[0].set_yticklabels([-0.6,-0.4,-0.2, 0.0, 0.2,0.4,0.6], size=12)\n",
    "\n",
    "\n",
    "# f.savefig(\"..//output//NR_cas_504.png\")\n",
    "\n"
   ]
  },
  {
   "cell_type": "code",
   "execution_count": null,
   "id": "39f316e7-8676-4f8b-9489-9797ffbc66ae",
   "metadata": {},
   "outputs": [],
   "source": [
    "\n",
    "\n"
   ]
  },
  {
   "cell_type": "code",
   "execution_count": null,
   "id": "0fdc6e73-41ef-4bbd-8d8c-d12758bd445a",
   "metadata": {},
   "outputs": [],
   "source": [
    "# print('Total number of cells',len(C1['lick_responsive']))\n",
    "\n",
    "# C1[\"df_responsive\"].activated\n"
   ]
  },
  {
   "cell_type": "code",
   "execution_count": null,
   "id": "4cfa58b8-ad0b-4bc9-8f1c-bc68f44ed31a",
   "metadata": {},
   "outputs": [],
   "source": [
    "# C1[\"df_responsive\"].activated[2:6]"
   ]
  },
  {
   "cell_type": "code",
   "execution_count": null,
   "id": "f011878e",
   "metadata": {},
   "outputs": [],
   "source": [
    "# make pie chart showing activated cells\n",
    "\n",
    "pie_colors = ['#d73027','#4393c3','#8073ac','#bdbdbd']\n",
    "labels = ['Pump','Lick','Both','Neither']\n",
    "\n",
    "f, [ax1, ax2, ax3] = plt.subplots(figsize=(12,4), ncols=3, gridspec_kw={\"wspace\":0.5})\n",
    "\n",
    "ax1.pie(C1[\"df_responsive\"].activated[2:6], labels=labels, autopct='%1.1f%%',\n",
    "    startangle=90, colors=pie_colors,labeldistance=1.1,textprops={'fontsize': 10})\n",
    "\n",
    "ax2.pie(C2[\"df_responsive\"].activated[2:6], labels=labels, autopct='%1.1f%%',\n",
    "    startangle=90, colors=pie_colors,labeldistance=1.1,textprops={'fontsize': 12})\n",
    "\n",
    "ax3.pie(C3[\"df_responsive\"].activated[2:6], labels=labels, autopct='%1.1f%%',\n",
    "    startangle=90, colors=pie_colors,labeldistance=1.1,textprops={'fontsize': 12})\n",
    "\n",
    "ax1.set_title(\"Session 1\", size=13)\n",
    "ax2.set_title(\"Session 2\", size=13)\n",
    "ax3.set_title(\"Session 3\", size=13)\n",
    "\n",
    "# f.savefig(\"..//output//pies_activated.png\")"
   ]
  },
  {
   "cell_type": "code",
   "execution_count": null,
   "id": "d6d36841-72ec-46e0-b121-caa1ee487b1b",
   "metadata": {},
   "outputs": [],
   "source": [
    "plt.pie?"
   ]
  },
  {
   "cell_type": "code",
   "execution_count": null,
   "id": "a531831f",
   "metadata": {},
   "outputs": [],
   "source": [
    "np.shape(C1[\"pump_snips_all\"])\n",
    "np.shape(C1[\"lick_snips_all\"][np.where(C1[\"lick_responsive\"] == 1)])"
   ]
  },
  {
   "cell_type": "code",
   "execution_count": null,
   "id": "eaa751db",
   "metadata": {},
   "outputs": [],
   "source": [
    "s = assemble_data(s2p_folder,events_file)"
   ]
  },
  {
   "cell_type": "code",
   "execution_count": null,
   "id": "037f3c70",
   "metadata": {},
   "outputs": [],
   "source": [
    "get_number_cells"
   ]
  },
  {
   "cell_type": "code",
   "execution_count": null,
   "id": "5d5e8930",
   "metadata": {},
   "outputs": [],
   "source": [
    "s = assemble_data(s2p_folder,events_file)\n",
    "np.shape(s)"
   ]
  },
  {
   "cell_type": "code",
   "execution_count": null,
   "id": "855a63e9",
   "metadata": {},
   "outputs": [],
   "source": [
    "s.keys()"
   ]
  },
  {
   "cell_type": "code",
   "execution_count": null,
   "id": "c292c01a",
   "metadata": {},
   "outputs": [],
   "source": [
    "np.shape(s[\"lick_snips_all\"])"
   ]
  },
  {
   "cell_type": "code",
   "execution_count": null,
   "id": "9930b97c",
   "metadata": {},
   "outputs": [],
   "source": [
    "l = s[\"lick_snips_all\"][np.where(s[\"lick_responsive\"] == 1)]\n",
    "p = s[\"pump_snips_all\"][np.where(s[\"pump_responsive\"] == -1)]\n",
    "l.shape"
   ]
  },
  {
   "cell_type": "code",
   "execution_count": null,
   "id": "24d73ced",
   "metadata": {},
   "outputs": [],
   "source": [
    "plt.plot(np.mean(l, axis=1).T);"
   ]
  },
  {
   "cell_type": "code",
   "execution_count": null,
   "id": "29890ea1",
   "metadata": {},
   "outputs": [],
   "source": [
    "import trompy as tp\n",
    "\n",
    "f, ax = plt.subplots()\n",
    "\n",
    "for sol in [cas, malt]:\n",
    "    s = sol\n",
    "    l = s[\"lick_snips_all\"][np.where(s[\"lick_responsive\"] == 1)]\n",
    "    p = s[\"pump_snips_all\"][np.where(s[\"pump_responsive\"] == -1)]\n",
    "\n",
    "    y = np.mean(l, axis=1)\n",
    "\n",
    "    tp.shadedError(ax, y)"
   ]
  },
  {
   "cell_type": "code",
   "execution_count": null,
   "id": "471707a5",
   "metadata": {},
   "outputs": [],
   "source": [
    "import seaborn as sns\n",
    "\n",
    "f, ax = plt.subplots(ncols=2)\n",
    "\n",
    "for sol, axis in zip([cas, malt], ax):\n",
    "    y = np.mean(sol[\"lick_snips_all\"], axis=1)\n",
    "    sns.heatmap(y, ax = axis)"
   ]
  },
  {
   "cell_type": "code",
   "execution_count": null,
   "id": "9d7af2eb",
   "metadata": {},
   "outputs": [],
   "source": [
    "# pie chart for activated cells \n",
    "sizes_a = [n_pump_a_only, n_lick_a_only, n_both_a, n_non_a]\n",
    "sizes_i = [n_pump_i_only, n_lick_i_only, n_both_i, n_non_i]\n",
    "sizes_r = [n_pump_r, n_lick_r, n_both_r, n_non_r]\n",
    "labels = 'Pump','Lick','Both','Neither'\n",
    "\n",
    "f1, ax1 = plt.subplots()\n",
    "ax1.pie(sizes_a, labels=labels, autopct='%1.1f%%',\n",
    "    startangle=90, colors=['green','red','yellow','dimgrey'])"
   ]
  },
  {
   "cell_type": "code",
   "execution_count": null,
   "id": "72381120",
   "metadata": {},
   "outputs": [],
   "source": [
    "def get_ncells_overlap(cond1, cond2):\n",
    "    \n",
    "    n_both = sum(np.logical_and(cond1, cond2))\n",
    "    n_neither = sum(~np.logical_or(cond1, cond2))\n",
    "    n_cond1 = int(sum(cond1) - n_both)\n",
    "    n_cond2 = int(sum(cond2) - n_both)\n",
    "\n",
    "    return (n_cond1, n_cond2, n_both, n_neither)\n",
    "\n",
    "s = cas\n",
    "\n",
    "# responsive cells\n",
    "pump_r = abs(s[\"pump_responsive\"])\n",
    "lick_r = abs(s[\"lick_responsive\"])\n",
    "\n",
    "# activated cells\n",
    "pump_a = s[\"pump_responsive\"] == 1\n",
    "lick_a = s[\"lick_responsive\"] == 1\n",
    "\n",
    "# inhibited cells\n",
    "pump_i = s[\"pump_responsive\"] == -1\n",
    "lick_i = s[\"lick_responsive\"] == -1\n",
    "\n",
    "import pandas as pd\n",
    "return pd.DataFrame([get_ncells_overlap(pump_r, lick_r),\n",
    "                   get_ncells_overlap(pump_a, lick_a),\n",
    "                   get_ncells_overlap(pump_i, lick_i)],\n",
    "                  columns=[\"pump\", \"lick\", \"both\", \"neither\"],\n",
    "                  index=[\"responsive\", \"activated\", \"inhibited\"]).T\n",
    "\n",
    "pie_colors = ['green','red','yellow','dimgrey']\n",
    "labels = 'Pump','Lick','Both','Neither'\n",
    "\n",
    "\n",
    "f, [ax1, ax2, ax3]  = plt.subplots(ncols=3)\n",
    "\n",
    "ax1.pie(get_ncells_overlap(pump_r, lick_r), labels=labels, autopct='%1.1f%%',\n",
    "    startangle=90, colors=pie_colors);\n",
    "\n",
    "ax2.pie(get_ncells_overlap(pump_a, lick_a), labels=labels, autopct='%1.1f%%',\n",
    "    startangle=90, colors=pie_colors);\n",
    "\n",
    "ax3.pie(get_ncells_overlap(pump_i, lick_i), labels=labels, autopct='%1.1f%%',\n",
    "    startangle=90, colors=pie_colors);\n",
    "\n"
   ]
  },
  {
   "cell_type": "code",
   "execution_count": null,
   "id": "fc8d2497",
   "metadata": {},
   "outputs": [],
   "source": [
    "df"
   ]
  },
  {
   "cell_type": "code",
   "execution_count": null,
   "id": "020c43b6",
   "metadata": {},
   "outputs": [],
   "source": [
    "f, ax = plt.subplots()\n",
    "\n",
    "pie_colors = ['green','red','yellow','dimgrey']\n",
    "\n",
    "pump_r = abs(cas[\"pump_responsive\"])\n",
    "lick_r = abs(cas[\"lick_responsive\"])\n",
    "cas_bars = get_ncells_overlap(pump_r, lick_r)\n",
    "\n",
    "pump_r = abs(malt[\"pump_responsive\"])\n",
    "lick_r = abs(malt[\"lick_responsive\"])\n",
    "malt_bars = get_ncells_overlap(pump_r, lick_r)\n",
    "\n",
    "bottom=[0, 0]\n",
    "for i, bars_c, bars_m in zip(range(4), cas_bars, malt_bars):\n",
    "    ax.bar(1, bars_c, bottom=bottom[0], color=pie_colors[i])\n",
    "    ax.bar(2, bars_m, bottom=bottom[1], color=pie_colors[i])\n",
    "    \n",
    "    bottom[0] += bars_c\n",
    "    bottom[1] += bars_m\n",
    "    \n",
    "    print(i, bottom)\n",
    "    "
   ]
  },
  {
   "cell_type": "code",
   "execution_count": null,
   "id": "e7029b45",
   "metadata": {},
   "outputs": [],
   "source": [
    "pump_a = s[\"pump_responsive\"] == 1\n",
    "pump_a"
   ]
  },
  {
   "cell_type": "code",
   "execution_count": null,
   "id": "5b4a420a",
   "metadata": {},
   "outputs": [],
   "source": [
    "np.logical_or(c3, c4)\n",
    "~np.logical_or(c1, c2)"
   ]
  },
  {
   "cell_type": "code",
   "execution_count": null,
   "id": "b22b36aa",
   "metadata": {},
   "outputs": [],
   "source": [
    "n_non_r + n_both_r + n_lickonly_r + n_pumponly_r"
   ]
  },
  {
   "cell_type": "code",
   "execution_count": null,
   "id": "d701bfd0",
   "metadata": {},
   "outputs": [],
   "source": [
    "int(sum(abs(s[\"lick_responsive\"]) * abs(s[\"pump_responsive\"])))\n"
   ]
  },
  {
   "cell_type": "code",
   "execution_count": null,
   "id": "2333490c",
   "metadata": {},
   "outputs": [],
   "source": [
    "pie_colors = ['green','red','yellow','dimgrey']\n",
    "labels = 'Pump','Lick','Both','Neither'\n",
    "\n",
    "sizes_r = [n_pump_r, n_lick_r, n_both_r, n_neither_r]\n",
    "sizes_a = [n_pump_a, n_lick_a, n_both_a, n_neither_a]\n",
    "sizes_i = [n_pump_i, n_lick_i, n_both_i, n_neither_i]\n",
    "\n",
    "f, [ax1, ax2, ax3]  = plt.subplots(ncols=3)\n",
    "ax1.pie(sizes_r, labels=labels, autopct='%1.1f%%',\n",
    "    startangle=90, colors=pie_colors);\n"
   ]
  },
  {
   "cell_type": "code",
   "execution_count": null,
   "id": "f81ba6ad",
   "metadata": {},
   "outputs": [],
   "source": [
    "np.count_nonzero(s[\"lick_responsive\"] == 1)"
   ]
  },
  {
   "cell_type": "code",
   "execution_count": null,
   "id": "525a0347",
   "metadata": {},
   "outputs": [],
   "source": [
    "cas = assemble_data(s2p_folder,events_file)\n",
    "malt = assemble_data(s2p_folder,events_file)"
   ]
  },
  {
   "cell_type": "code",
   "execution_count": null,
   "id": "77cb9d52",
   "metadata": {},
   "outputs": [],
   "source": [
    "METAFILE = \"..\\\\data\\\\\""
   ]
  }
 ],
 "metadata": {
  "kernelspec": {
   "display_name": "Python 3",
   "language": "python",
   "name": "python3"
  },
  "language_info": {
   "codemirror_mode": {
    "name": "ipython",
    "version": 3
   },
   "file_extension": ".py",
   "mimetype": "text/x-python",
   "name": "python",
   "nbconvert_exporter": "python",
   "pygments_lexer": "ipython3",
   "version": "3.8.8"
  }
 },
 "nbformat": 4,
 "nbformat_minor": 5
}
