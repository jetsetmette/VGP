{
 "cells": [
  {
   "cell_type": "markdown",
   "id": "881936f4-669a-4202-b939-3ec0ef2e80d0",
   "metadata": {},
   "source": [
    "## Imports"
   ]
  },
  {
   "cell_type": "code",
   "execution_count": 1,
   "id": "2f5fb849-1044-404e-814e-1982e71f4ffc",
   "metadata": {},
   "outputs": [],
   "source": [
    "import csv\n",
    "import matplotlib.pyplot as plt\n",
    "\n",
    "import numpy as np\n",
    "import trompy as tp\n",
    "from datetime import datetime\n",
    "import pandas as pd\n",
    "\n",
    "%matplotlib inline\n",
    "\n",
    "\n",
    "from scipy import stats"
   ]
  },
  {
   "cell_type": "code",
   "execution_count": 2,
   "id": "97edb651-2d35-4f63-a9d0-71f28f216281",
   "metadata": {},
   "outputs": [
    {
     "name": "stdout",
     "output_type": "stream",
     "text": [
      "File is excel file. Making csv metafile first\n"
     ]
    }
   ],
   "source": [
    "#Open file \n",
    "\n",
    "rows,header=tp.metafilereader('C:\\\\Users\\\\mko102\\\\UiT Office 365\\\\O365-Pipette 2 - Dokumenter\\\\People\\\\Mette\\\\GitHub\\\\2P\\\\Metafile_VGP2.2.xls',sheetname='Homecage')"
   ]
  },
  {
   "cell_type": "code",
   "execution_count": 3,
   "id": "98b930e0-f242-4ccf-93bb-67756ada1377",
   "metadata": {},
   "outputs": [],
   "source": [
    "homecage_data={}\n",
    "\n",
    "for row in rows: \n",
    "    \n",
    "    key=row[0]+'_'+row[1]\n",
    "        \n",
    "        \n",
    "    homecage_data[key]={}\n",
    "    homecage_data[key]['mouse']=row[0]\n",
    "    homecage_data[key]['day']=row[1]\n",
    "    homecage_data[key]['solution']=row[2]\n",
    "    homecage_data[key]['session']=row[9]\n",
    "    homecage_data[key]['diet']=row[8]\n",
    "    homecage_data[key]['intake']=row[6]"
   ]
  },
  {
   "cell_type": "code",
   "execution_count": 4,
   "id": "2e53b864-202e-49d7-a39a-5595107f87cb",
   "metadata": {},
   "outputs": [
    {
     "data": {
      "text/plain": [
       "['VGP118',\n",
       " 'VGP202',\n",
       " 'VGP203',\n",
       " 'VGP204',\n",
       " 'VGP302',\n",
       " 'VGP310',\n",
       " 'VGP306',\n",
       " 'VGP307',\n",
       " '']"
      ]
     },
     "execution_count": 4,
     "metadata": {},
     "output_type": "execute_result"
    }
   ],
   "source": [
    "mice=[]\n",
    "\n",
    "for key in homecage_data.keys(): \n",
    "    d=homecage_data[key]\n",
    "    mouseid=d['mouse']\n",
    "    if mouseid not in mice: mice.append(mouseid)\n",
    "\n",
    "\n",
    "for m in mice: \n",
    "    if m == 'VGP305':\n",
    "        mice.remove(m)\n",
    "        \n",
    "mice"
   ]
  },
  {
   "cell_type": "markdown",
   "id": "f4860906-019a-4a6b-81de-270480a1b073",
   "metadata": {},
   "source": [
    "Ensure"
   ]
  },
  {
   "cell_type": "code",
   "execution_count": 5,
   "id": "8b91ea1f-52b3-4769-9308-bfabdd39e38c",
   "metadata": {
    "tags": []
   },
   "outputs": [
    {
     "name": "stdout",
     "output_type": "stream",
     "text": [
      "[14.15, 15.1, 8.649999999999999, 18.899999999999995, 19.833333333333332]\n",
      "[19.849999999999998, 19.600000000000005, 9.999999999999996, 17.25, 17.05]\n",
      "_\n",
      "[13.05, 14.65, 14.633333333333333]\n",
      "[18.000000000000007, 18.2, 11.199999999999996]\n"
     ]
    }
   ],
   "source": [
    "PR_E=[]\n",
    "NR_E=[]\n",
    "PRNR_E=[]\n",
    "NRPR_E=[]\n",
    "animal=[]\n",
    "\n",
    "for mouse in mice: \n",
    "    temp_PR=[]\n",
    "    temp_NR=[]\n",
    "    temp_PRNR=[]\n",
    "    temp_NRPR=[]\n",
    "   \n",
    "    \n",
    "    for key in homecage_data.keys():\n",
    "        d=homecage_data[key]\n",
    "        if d['mouse']==mouse and d['solution']=='Ensure' and d['diet']== 'PR':\n",
    "            temp_PR.append(d['intake'])\n",
    "            \n",
    "        elif d['mouse']==mouse and d['solution']=='Ensure' and d['diet']== 'NR':\n",
    "            temp_NR.append(d['intake'])\n",
    "    \n",
    "        elif d['mouse']==mouse and d['solution']=='Ensure' and d['diet']== 'PRNR': \n",
    "            temp_PRNR.append(d['intake'])\n",
    "            \n",
    "        elif d['mouse']==mouse and d['solution']=='Ensure' and d['diet']== 'NRPR': \n",
    "            temp_NRPR.append(d['intake'])\n",
    "            \n",
    "\n",
    "            \n",
    "    if len(temp_PR)>0: \n",
    "        PR_E.append(np.mean(temp_PR))\n",
    "    if len(temp_NR)>0:\n",
    "        NR_E.append(np.mean(temp_NR))\n",
    "    if len(temp_PRNR)>0: \n",
    "        PRNR_E.append(np.mean(temp_PRNR))\n",
    "    if len(temp_NRPR)>0: \n",
    "        NRPR_E.append(np.mean(temp_NRPR))\n",
    "    \n",
    "print(PR_E)\n",
    "print(PRNR_E)\n",
    "print('_')\n",
    "print(NR_E)\n",
    "print(NRPR_E)\n"
   ]
  },
  {
   "cell_type": "markdown",
   "id": "aa90a573-9337-4af9-b9ef-b0bcb8e8df21",
   "metadata": {},
   "source": [
    "Casein"
   ]
  },
  {
   "cell_type": "code",
   "execution_count": 6,
   "id": "01a57898-5cde-4984-b85b-703b6e135219",
   "metadata": {
    "jupyter": {
     "source_hidden": true
    },
    "tags": []
   },
   "outputs": [
    {
     "name": "stdout",
     "output_type": "stream",
     "text": [
      "[11.300000000000002, 7.633333333333332, 4.033333333333331, 6.733333333333332, 6.8666666666666645]\n",
      "[8.466666666666667, 8.299999999999999, 5.199999999999999, 5.899999999999999, 5.7499999999999964]\n",
      "_\n",
      "[2.1, 9.866666666666669, 5.399999999999999]\n",
      "[6.333333333333333, 6.400000000000001, 1.600000000000005]\n"
     ]
    }
   ],
   "source": [
    "PR_C=[]\n",
    "NR_C=[]\n",
    "PRNR_C=[]\n",
    "NRPR_C=[]\n",
    "\n",
    "for mouse in mice: \n",
    "    temp_PR=[]\n",
    "    temp_NR=[]\n",
    "    temp_PRNR=[]\n",
    "    temp_NRPR=[]\n",
    "    \n",
    "    for key in homecage_data.keys():\n",
    "        d=homecage_data[key]\n",
    "        if d['mouse']==mouse and d['solution']=='Cas' and d['diet']== 'PR':\n",
    "            temp_PR.append(d['intake'])\n",
    "            \n",
    "        elif d['mouse']==mouse and d['solution']=='Cas' and d['diet']== 'NR':\n",
    "            temp_NR.append(d['intake'])\n",
    "            \n",
    "        elif d['mouse']==mouse and d['solution']=='Cas' and d['diet']== 'PRNR': \n",
    "            temp_PRNR.append(d['intake'])\n",
    "            \n",
    "        elif d['mouse']==mouse and d['solution']=='Cas' and d['diet']== 'NRPR': \n",
    "            temp_NRPR.append(d['intake'])\n",
    "            \n",
    "\n",
    "    \n",
    "            \n",
    "    if len(temp_PR)>0: \n",
    "        PR_C.append(np.mean(temp_PR))\n",
    "    if len(temp_NR)>0:\n",
    "        NR_C.append(np.mean(temp_NR))\n",
    "    if len(temp_PRNR)>0: \n",
    "        PRNR_C.append(np.mean(temp_PRNR))\n",
    "    if len(temp_NRPR)>0: \n",
    "        NRPR_C.append(np.mean(temp_NRPR))\n",
    "    \n",
    "print(PR_C)\n",
    "print(PRNR_C)\n",
    "print('_')\n",
    "print(NR_C)\n",
    "print(NRPR_C)"
   ]
  },
  {
   "cell_type": "markdown",
   "id": "3de9750e-73c5-4d5a-ba76-0135a7d6e297",
   "metadata": {},
   "source": [
    "Maltodextrin"
   ]
  },
  {
   "cell_type": "code",
   "execution_count": 7,
   "id": "1d48078a-1d59-4c8f-991c-cc8217940401",
   "metadata": {
    "jupyter": {
     "source_hidden": true
    },
    "tags": []
   },
   "outputs": [
    {
     "name": "stdout",
     "output_type": "stream",
     "text": [
      "[5.166666666666669, 5.166666666666667, 8.799999999999997, 6.3666666666666645, 3.3999999999999986]\n",
      "[4.933333333333331, 8.733333333333334, 7.533333333333334]\n",
      "[6.033333333333329, 9.699999999999998, 6.600000000000001, 6.549999999999997, 4.949999999999999]\n",
      "[5.850000000000001, 6.000000000000004, 1.0500000000000043]\n"
     ]
    }
   ],
   "source": [
    "PR_M=[]\n",
    "NR_M=[]\n",
    "PRNR_M=[]\n",
    "NRPR_M=[]\n",
    "\n",
    "for mouse in mice: \n",
    "    temp_PR=[]\n",
    "    temp_NR=[]\n",
    "    temp_PRNR=[]\n",
    "    temp_NRPR=[]\n",
    "    \n",
    "    for key in homecage_data.keys():\n",
    "        d=homecage_data[key]\n",
    "        if d['mouse']==mouse and d['solution']=='Malt' and d['diet']== 'PR':\n",
    "            temp_PR.append(d['intake'])\n",
    "            \n",
    "        elif d['mouse']==mouse and d['solution']=='Malt' and d['diet']== 'NR':\n",
    "            temp_NR.append(d['intake'])\n",
    "            \n",
    "        elif d['mouse']==mouse and d['solution']=='Malt' and d['diet']== 'PRNR': \n",
    "            temp_PRNR.append(d['intake'])\n",
    "            \n",
    "        elif d['mouse']==mouse and d['solution']=='Malt' and d['diet']== 'NRPR': \n",
    "            temp_NRPR.append(d['intake'])\n",
    "           \n",
    "\n",
    "    \n",
    "            \n",
    "    if len(temp_PR)>0: \n",
    "        PR_M.append(np.mean(temp_PR))\n",
    "    if len(temp_NR)>0:\n",
    "        NR_M.append(np.mean(temp_NR))\n",
    "    if len(temp_PRNR)>0: \n",
    "        PRNR_M.append(np.mean(temp_PRNR))\n",
    "    if len(temp_NRPR)>0: \n",
    "        NRPR_M.append(np.mean(temp_NRPR))\n",
    "    \n",
    "print(PR_M)\n",
    "print(NR_M)\n",
    "print(PRNR_M)\n",
    "print(NRPR_M)"
   ]
  },
  {
   "cell_type": "markdown",
   "id": "e21b5254-270a-4f90-8160-56a42e5a577d",
   "metadata": {},
   "source": [
    "Plots - PR,PRNR and NR,NRPR \n",
    "Ensure (green)\n",
    "Casein (blue)\n",
    "Maltodextrin (red)"
   ]
  },
  {
   "cell_type": "code",
   "execution_count": 8,
   "id": "3af01d37-5bef-4f97-80eb-7ad3ecef59fa",
   "metadata": {},
   "outputs": [],
   "source": [
    "# PR_E=['forestgreen','darkgreen']\n",
    "# PR_C=['b','midnightblue']\n",
    "# PR_M=['r','maroon']\n",
    "# NR=['black','dimgray']\n",
    "\n",
    "# f,ax=plt.subplots(figsize=(6,10), ncols=2, nrows=3, sharey='row')\n",
    "# f.subplots_adjust(wspace=0.15,hspace=0.35, bottom=0.05, left=0.15)\n",
    "\n",
    "# #Ensure\n",
    "# tp.barscatter([PR_E,PRNR_E], \n",
    "#               paired= True,\n",
    "#               barfacecolor=PR_E,\n",
    "#               barlabels=['PR','PRNR'],\n",
    "#               barlabeloffset=0.04,\n",
    "#               barfacecolor_option='individual',\n",
    "#               fontsize = 15,\n",
    "#               scattersize=110,\n",
    "#               scatteralpha=0.7,\n",
    "#               spaced=True,\n",
    "#               linewidth=1.5,\n",
    "#               ax=ax[0,0])\n",
    "\n",
    "\n",
    "\n",
    "\n",
    "# ax[0,0].set_ylabel('Number of licks',fontsize = 15)\n",
    "# ax[0,0].set_yticks([500,1000,1500])\n",
    "# ax[0,1].set_yticks([500,1000,1500])\n",
    "# ax[0,0].set_yticklabels([500,1000,1500], fontsize = 15)\n",
    "\n"
   ]
  },
  {
   "cell_type": "code",
   "execution_count": 9,
   "id": "e51524be-48e3-428e-a5ea-12a37f11410c",
   "metadata": {
    "tags": []
   },
   "outputs": [
    {
     "data": {
      "image/png": "[encoded data removed]",
      "text/plain": [
       "<Figure size 432x720 with 6 Axes>"
      ]
     },
     "metadata": {
      "needs_background": "light"
     },
     "output_type": "display_data"
    }
   ],
   "source": [
    "colors_PR_E=['forestgreen','darkgreen']\n",
    "colors_PR_C=['b','midnightblue']\n",
    "colors_PR_M=['r','maroon']\n",
    "colors_NR=['black','dimgray']\n",
    "\n",
    "f,ax=plt.subplots (figsize=(6,10), ncols=2, nrows=3, sharey='row')\n",
    "f.subplots_adjust(wspace=0.15,hspace=0.35, bottom=0.05, left=0.15)\n",
    "\n",
    "\n",
    "\n",
    "#Ensure PR and PRNR \n",
    "tp.barscatter([PR_E,PRNR_E],\n",
    "              paired=True,\n",
    "              barlabels=['PR','PRNR'],\n",
    "              barlabeloffset=0.04,\n",
    "              barfacecolor=colors_PR_E, \n",
    "              barfacecolor_option=\"individual\",\n",
    "              fontsize=15,\n",
    "              scattersize=110, \n",
    "              scatteralpha=0.7, \n",
    "              spaced=True,\n",
    "              linewidth=1.5,\n",
    "              ax=ax[0,0])\n",
    "\n",
    "\n",
    "# Ensure NR and NRPR\n",
    "tp.barscatter([NR_E,NRPR_E],\n",
    "              paired= True,\n",
    "              barlabels=['NR','NRPR'],\n",
    "              fontsize=15,\n",
    "              barfacecolor=colors_NR,\n",
    "              barfacecolor_option='individual',\n",
    "              scattersize=110,\n",
    "              scatteralpha=0.7,\n",
    "              spaced=True, \n",
    "              linewidth=1.5,\n",
    "              ax=ax[0,1])\n",
    "\n",
    "#Casein PR and PRNR\n",
    "tp.barscatter([PR_C,PRNR_C],\n",
    "              paired=True,\n",
    "              barlabels=['PR','PRNR'],\n",
    "              barlabeloffset=0.04,\n",
    "              fontsize=15,\n",
    "              barfacecolor=colors_PR_C, \n",
    "              barfacecolor_option=\"individual\",\n",
    "              scattersize=110, \n",
    "              scatteralpha=0.7, \n",
    "              spaced=True,\n",
    "              linewidth=1.5,\n",
    "              ax=ax[1,0])\n",
    "\n",
    "\n",
    "# Casein NR and NRPR\n",
    "tp.barscatter([NR_C,NRPR_C],\n",
    "              paired= True,\n",
    "              barlabels=['NR','NRPR'],\n",
    "              fontsize=15,\n",
    "              barfacecolor=colors_NR,\n",
    "              barfacecolor_option='individual',\n",
    "              scattersize=110,\n",
    "              scatteralpha=0.7,\n",
    "              spaced=True, \n",
    "              linewidth=1.5,\n",
    "              ax=ax[1,1])\n",
    "\n",
    "#Malt PR and PRNR\n",
    "tp.barscatter([PR_M,PRNR_M],\n",
    "              paired=True,\n",
    "              barlabels=['PR','PRNR'],\n",
    "              barlabeloffset=0.04,\n",
    "              fontsize=15,\n",
    "              barfacecolor=colors_PR_M, \n",
    "              barfacecolor_option=\"individual\",\n",
    "              scattersize=110, \n",
    "              scatteralpha=0.7, \n",
    "              spaced=True,\n",
    "              linewidth=1.5,\n",
    "              ax=ax[2,0])\n",
    "\n",
    "\n",
    "# Casein NR and NRPR\n",
    "tp.barscatter([NR_M,NRPR_M],\n",
    "              paired= True,\n",
    "              barlabels=['NR','NRPR'],\n",
    "              fontsize=15,\n",
    "              barfacecolor=colors_NR,\n",
    "              barfacecolor_option='individual',\n",
    "              scattersize=110,\n",
    "              scatteralpha=0.7,\n",
    "              spaced=True, \n",
    "              linewidth=1.5,\n",
    "              ax=ax[2,1])\n",
    "\n",
    "\n",
    "ax[0,0].set_ylabel('Intake (grams)',fontsize = 15)\n",
    "ax[0,0].set_yticks([0,5,10,15,20]), ax[0,1].set_yticks([0,5,10,15,20])\n",
    "ax[0,0].set_yticklabels([0,5,10,15,20], fontsize = 15)\n",
    "\n",
    "ax[1,0].set_ylabel('Intake (grams)',fontsize = 15)\n",
    "ax[1,0].set_yticks([0,5,10,15]), ax[1,1].set_yticks([0,5,10,15])\n",
    "ax[1,0].set_yticklabels([0,5,10,15], fontsize = 15)\n",
    "\n",
    "ax[2,0].set_ylabel('Intake (grams)',fontsize = 15)\n",
    "ax[2,0].set_yticks([0,5,10,15]),ax[2,1].set_yticks([0,5,10,15])\n",
    "ax[2,0].set_yticklabels([0,5,10,15,], fontsize = 15)\n",
    "\n",
    "ax[0,0].set_title('Ensure', fontsize =15)\n",
    "ax[1,0].set_title('Casein', fontsize =15)\n",
    "ax[2,0].set_title('Maltodextrin', fontsize =15)\n",
    "\n",
    "\n",
    "f.savefig('C:\\\\Users\\\\mko102\\\\GitHub\\\\VGP\\\\output\\\\Homecage.png')"
   ]
  },
  {
   "cell_type": "markdown",
   "id": "1098b9a4-4595-4c24-95b6-b98edbd3606c",
   "metadata": {},
   "source": [
    "Plots- different solutions in one group (PR, NR, PRNR, NRPR) "
   ]
  },
  {
   "cell_type": "code",
   "execution_count": 10,
   "id": "0f756493-2400-4d77-8e21-e48a7da8350a",
   "metadata": {},
   "outputs": [
    {
     "name": "stderr",
     "output_type": "stream",
     "text": [
      "C:\\Users\\mko102\\Anaconda3\\lib\\site-packages\\trompy\\barscatter.py:304: UserWarning: xfontsize is not a functional keyword argument. Check spelling or barscatter version.\n",
      "  warnings.warn(\"{} is not a functional keyword argument. Check spelling or barscatter version.\".format(key))\n",
      "C:\\Users\\mko102\\Anaconda3\\lib\\site-packages\\trompy\\barscatter.py:304: UserWarning: barfacecoloroption is not a functional keyword argument. Check spelling or barscatter version.\n",
      "  warnings.warn(\"{} is not a functional keyword argument. Check spelling or barscatter version.\".format(key))\n",
      "C:\\Users\\mko102\\Anaconda3\\lib\\site-packages\\trompy\\barscatter.py:304: UserWarning: xfontsize is not a functional keyword argument. Check spelling or barscatter version.\n",
      "  warnings.warn(\"{} is not a functional keyword argument. Check spelling or barscatter version.\".format(key))\n",
      "C:\\Users\\mko102\\Anaconda3\\lib\\site-packages\\trompy\\barscatter.py:304: UserWarning: barfacecoloroption is not a functional keyword argument. Check spelling or barscatter version.\n",
      "  warnings.warn(\"{} is not a functional keyword argument. Check spelling or barscatter version.\".format(key))\n",
      "C:\\Users\\mko102\\Anaconda3\\lib\\site-packages\\trompy\\barscatter.py:304: UserWarning: xfontsize is not a functional keyword argument. Check spelling or barscatter version.\n",
      "  warnings.warn(\"{} is not a functional keyword argument. Check spelling or barscatter version.\".format(key))\n",
      "C:\\Users\\mko102\\Anaconda3\\lib\\site-packages\\trompy\\barscatter.py:304: UserWarning: barfacecoloroption is not a functional keyword argument. Check spelling or barscatter version.\n",
      "  warnings.warn(\"{} is not a functional keyword argument. Check spelling or barscatter version.\".format(key))\n"
     ]
    },
    {
     "name": "stdout",
     "output_type": "stream",
     "text": [
      "Could not space all sets of points.\n",
      "Could not space all sets of points.\n",
      "Could not space all sets of points.\n"
     ]
    },
    {
     "data": {
      "image/png": "[encoded data removed]",
      "text/plain": [
       "<Figure size 648x432 with 4 Axes>"
      ]
     },
     "metadata": {
      "needs_background": "light"
     },
     "output_type": "display_data"
    }
   ],
   "source": [
    "colors_PR=['forestgreen','blue','crimson']\n",
    "colors_NR=['darkgreen','darkblue','darkred']\n",
    "\n",
    "\n",
    "f,ax=plt.subplots (figsize=(9,6), ncols=2, nrows=2, sharey=True)\n",
    "f.subplots_adjust(wspace=0.2, hspace=0.5, bottom=0.15, left=0.3)\n",
    "\n",
    "#PR \n",
    "tp.barscatter([PR_E,PR_C,PR_M],\n",
    "              paired=True,\n",
    "              barlabels=['E','C','M'],\n",
    "              barlabeloffset=0.04,\n",
    "              xfontsize=15,\n",
    "              barfacecolor=colors_PR, \n",
    "              barfacecoloroption=\"individual\",\n",
    "              scattersize=110, \n",
    "              scatteralpha=0.7, \n",
    "              spaced=True,\n",
    "              linewidth=1.5,\n",
    "              ax=ax[0,0])\n",
    "#PRNR\n",
    "tp.barscatter([PRNR_E,PRNR_C,PRNR_M],\n",
    "#               paired=True,\n",
    "              barlabels=['E','C','M'],\n",
    "              barlabeloffset=0.04,\n",
    "              xfontsize=15,\n",
    "              barfacecolor=colors_NR, \n",
    "              barfacecoloroption=\"individual\",\n",
    "              scattersize=110, \n",
    "              scatteralpha=0.7, \n",
    "              spaced=True,\n",
    "              linewidth=1.5,\n",
    "              ax=ax[0,1])\n",
    "#NR\n",
    "tp.barscatter([NR_E,NR_C,NR_M],\n",
    "              paired=True,\n",
    "              barlabels=['E','C','M'],\n",
    "              barlabeloffset=0.04,\n",
    "              xfontsize=15,\n",
    "              barfacecolor=colors_NR, \n",
    "              barfacecoloroption=\"individual\",\n",
    "              scattersize=110, \n",
    "              scatteralpha=0.7, \n",
    "              spaced=True,\n",
    "              linewidth=1.5,\n",
    "              ax=ax[1,0])\n",
    "\n",
    "\n",
    "#NRPR\n",
    "tp.barscatter([NRPR_E,NRPR_C,NRPR_M],\n",
    "              paired=True,\n",
    "              barlabels=['E','C','M'],\n",
    "              barlabeloffset=0.04,\n",
    "              xfontsize=15,\n",
    "              barfacecolor=colors_PR, \n",
    "              barfacecoloroption=\"individual\",\n",
    "              scattersize=110, \n",
    "              scatteralpha=0.7, \n",
    "              spaced=True,\n",
    "              linewidth=1.5,\n",
    "              ax=ax[1,1])\n",
    "\n",
    "\n",
    "ax[0,0].set_ylabel('Intake (grams)',fontsize = 15)\n",
    "ax[0,0].set_yticks([0,5,10,15,20]), ax[0,1].set_yticks([0,5,10,15,20])\n",
    "ax[0,0].set_yticklabels([0,5,10,15,20], fontsize = 15)\n",
    "\n",
    "ax[1,0].set_ylabel('Intake (grams)',fontsize = 15)\n",
    "ax[1,0].set_yticks([0,5,10,15,20]), ax[1,1].set_yticks([0,5,10,15,20])\n",
    "ax[1,0].set_yticklabels([0,5,10,15,20], fontsize = 15)\n",
    "\n",
    "ax[0,0].set_title('PR', fontsize =15)\n",
    "ax[0,1].set_title('PRNR', fontsize =15)\n",
    "ax[1,0].set_title('NR', fontsize =15)\n",
    "ax[1,1].set_title('NRPR', fontsize =15)\n",
    "\n",
    "f.savefig('homecageintake_group.pdf')"
   ]
  },
  {
   "cell_type": "code",
   "execution_count": null,
   "id": "63e5bbaa-8426-4e91-8b87-6ee2b862ea62",
   "metadata": {},
   "outputs": [],
   "source": []
  }
 ],
 "metadata": {
  "kernelspec": {
   "display_name": "Python 3",
   "language": "python",
   "name": "python3"
  },
  "language_info": {
   "codemirror_mode": {
    "name": "ipython",
    "version": 3
   },
   "file_extension": ".py",
   "mimetype": "text/x-python",
   "name": "python",
   "nbconvert_exporter": "python",
   "pygments_lexer": "ipython3",
   "version": "3.8.8"
  }
 },
 "nbformat": 4,
 "nbformat_minor": 5
}
