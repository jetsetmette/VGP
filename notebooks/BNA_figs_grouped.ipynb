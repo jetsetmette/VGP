{
 "cells": [
  {
   "cell_type": "code",
   "execution_count": 1,
   "id": "7330008b",
   "metadata": {},
   "outputs": [],
   "source": [
    "import os\n",
    "import trompy as tp\n",
    "\n",
    "%run \"..//src//vgp_helper_fx\""
   ]
  },
  {
   "cell_type": "code",
   "execution_count": 2,
   "id": "21ce0118",
   "metadata": {
    "scrolled": true
   },
   "outputs": [
    {
     "name": "stdout",
     "output_type": "stream",
     "text": [
      "File is excel file. Making csv metafile first\n"
     ]
    }
   ],
   "source": [
    "ROOT_FOLDER = \"D:\\\\TestData\\\\2photon\"\n",
    "\n",
    "DATA_FOLDER = os.path.join(ROOT_FOLDER, \"VGP_procd_data_22-12-05\")\n",
    "BEHAV_FOLDER = os.path.join(ROOT_FOLDER, \"bonsai\")\n",
    "METAFILE = os.path.join(ROOT_FOLDER, \"Metafile_VGP2.2.xls\")\n",
    "rows, header = tp.metafilereader(METAFILE, sheetname=\"2panalysispilot\")\n"
   ]
  },
  {
   "cell_type": "code",
   "execution_count": 3,
   "id": "51918ae5",
   "metadata": {},
   "outputs": [],
   "source": [
    "# Goes through metafile assembling data from s2p files where possible\n",
    "\n",
    "cell_data={}\n",
    "\n",
    "for row in rows:\n",
    "    try:\n",
    "        key=row[0]+'_'+row[1]\n",
    "        animal=row[0]\n",
    "        day=row[1]\n",
    "        date=int(row[3])\n",
    "        \n",
    "        s2p_folder = os.path.join(DATA_FOLDER, \"sub-{}\\\\ses-{}\".format(animal, day))\n",
    "        events_file = os.path.join(BEHAV_FOLDER, \"sub-{0}\\\\ses-{1}-{2}\\\\sub-{0}_ses-{1}_events.csv\".format(animal, day, date))\n",
    "        \n",
    "        cell_data[key] = assemble_data(s2p_folder,events_file)\n",
    "        cell_data[key]['animal'] = row[0]\n",
    "        cell_data[key]['diet'] = row[4]\n",
    "        cell_data[key]['solution'] = row[2]\n",
    "        \n",
    "    except FileNotFoundError:\n",
    "        print('Cannot find file for', key)\n",
    "        "
   ]
  },
  {
   "cell_type": "code",
   "execution_count": 4,
   "id": "8be13c8a",
   "metadata": {},
   "outputs": [
    {
     "data": {
      "text/html": [
       "<div>\n",
       "<style scoped>\n",
       "    .dataframe tbody tr th:only-of-type {\n",
       "        vertical-align: middle;\n",
       "    }\n",
       "\n",
       "    .dataframe tbody tr th {\n",
       "        vertical-align: top;\n",
       "    }\n",
       "\n",
       "    .dataframe thead th {\n",
       "        text-align: right;\n",
       "    }\n",
       "</style>\n",
       "<table border=\"1\" class=\"dataframe\">\n",
       "  <thead>\n",
       "    <tr style=\"text-align: right;\">\n",
       "      <th></th>\n",
       "      <th>responsive</th>\n",
       "      <th>activated</th>\n",
       "      <th>inhibited</th>\n",
       "    </tr>\n",
       "  </thead>\n",
       "  <tbody>\n",
       "    <tr>\n",
       "      <th>pump</th>\n",
       "      <td>4</td>\n",
       "      <td>6</td>\n",
       "      <td>0</td>\n",
       "    </tr>\n",
       "    <tr>\n",
       "      <th>lick</th>\n",
       "      <td>10</td>\n",
       "      <td>7</td>\n",
       "      <td>5</td>\n",
       "    </tr>\n",
       "    <tr>\n",
       "      <th>both</th>\n",
       "      <td>10</td>\n",
       "      <td>8</td>\n",
       "      <td>0</td>\n",
       "    </tr>\n",
       "    <tr>\n",
       "      <th>neither</th>\n",
       "      <td>50</td>\n",
       "      <td>53</td>\n",
       "      <td>69</td>\n",
       "    </tr>\n",
       "  </tbody>\n",
       "</table>\n",
       "</div>"
      ],
      "text/plain": [
       "         responsive  activated  inhibited\n",
       "pump              4          6          0\n",
       "lick             10          7          5\n",
       "both             10          8          0\n",
       "neither          50         53         69"
      ]
     },
     "execution_count": 4,
     "metadata": {},
     "output_type": "execute_result"
    }
   ],
   "source": [
    "cell_data[\"VGP302_029\"][\"df_responsive\"]"
   ]
  },
  {
   "cell_type": "code",
   "execution_count": 5,
   "id": "4ba9a3c4",
   "metadata": {},
   "outputs": [],
   "source": [
    "cols = [\"animal\", \"diet\", \"solution\", \"lick_activated\"]\n",
    "df_activated = pd.DataFrame(columns=cols)\n",
    "\n",
    "for key, d in cell_data.items():\n",
    "    percent_act = d[\"df_responsive\"].loc[\"lick\", \"activated\"] / np.sum(d[\"df_responsive\"].loc[:,\"activated\"]) * 100\n",
    "    data = np.array([d[\"animal\"], d[\"diet\"], d[\"solution\"], percent_act])\n",
    "    df_temp = pd.DataFrame({col: value for col, value in zip(cols, data)},\n",
    "                          index=[key.split(\"_\")[0]])\n",
    "\n",
    "    df_activated = pd.concat([df_activated, df_temp])"
   ]
  },
  {
   "cell_type": "code",
   "execution_count": 59,
   "id": "1440031e",
   "metadata": {},
   "outputs": [],
   "source": [
    "df_pref = (df_activated.pivot_table(index=[\"animal\", \"diet\"],\n",
    "                         columns=[\"solution\"],\n",
    "                         values=\"lick_activated\",\n",
    "                         aggfunc=\"sum\")\n",
    "             .astype({\"cas\": \"float\", \"malt\": \"float\"})\n",
    "#              .assign(pref=lambda df_: df_.cas / (df_.cas + df_.malt))\n",
    "             .assign(pref=lambda df_: df_.cas - df_.malt)\n",
    "            )\n"
   ]
  },
  {
   "cell_type": "code",
   "execution_count": 60,
   "id": "18efdc9e",
   "metadata": {},
   "outputs": [
    {
     "name": "stderr",
     "output_type": "stream",
     "text": [
      "C:\\Users\\jmc010\\AppData\\Local\\Temp\\ipykernel_20816\\2691001650.py:4: FutureWarning: The default value of numeric_only in DataFrame.mean is deprecated. In a future version, it will default to False. In addition, specifying 'numeric_only=None' is deprecated. Select only valid columns or specify the value of numeric_only to silence this warning.\n",
      "  (df_pref\n"
     ]
    },
    {
     "data": {
      "text/plain": [
       "pref    2.155869\n",
       "dtype: float64"
      ]
     },
     "execution_count": 60,
     "metadata": {},
     "output_type": "execute_result"
    }
   ],
   "source": [
    "PRs = [\"PR\", \"NRPR\"]\n",
    "NRs = [\"NR\", \"PRNR\"]\n",
    "\n",
    "(df_pref\n",
    " .droplevel(0)\n",
    " .pref\n",
    " .reset_index()\n",
    " .query(\"diet in @NRs\")\n",
    " .mean()\n",
    "#  .loc[\"PR\"]\n",
    ")"
   ]
  },
  {
   "cell_type": "code",
   "execution_count": 75,
   "id": "109a15f9",
   "metadata": {},
   "outputs": [
    {
     "data": {
      "image/png": "[encoded data removed]",
      "text/plain": [
       "<Figure size 400x400 with 1 Axes>"
      ]
     },
     "metadata": {},
     "output_type": "display_data"
    }
   ],
   "source": [
    "import matplotlib.pyplot as plt\n",
    "import seaborn as sns\n",
    "\n",
    "df = (df_pref\n",
    " .reset_index()\n",
    " .pivot_table(index=\"animal\",\n",
    "              columns=\"diet\",\n",
    "              values=\"pref\")\n",
    " .fillna(0)\n",
    " .assign(NR=lambda df_: df_.NR + df_.PRNR,\n",
    "         PR=lambda df_: df_.PR + df_.NRPR)\n",
    " .drop(columns=[\"NRPR\", \"PRNR\"])\n",
    ")\n",
    "\n",
    "f, ax = plt.subplots(figsize=(4,4))\n",
    "x = [1,2]\n",
    "for row in df.iterrows():\n",
    "    y = [row[1].NR, row[1].PR]\n",
    "#     ax.plot(x, y, color=\"grey\")\n",
    "    ax.scatter(x, y, s=150, color=[\"red\", \"green\"], zorder=20, alpha=0.5)\n",
    "    \n",
    "ax.bar(x, [df.NR.mean(), df.PR.mean()], width=0.7, zorder=-1, color=\"lightgrey\")\n",
    "    \n",
    "ax.set_ylabel(\"Proportion of cells activated by casein vs maltodextrin\")\n",
    "ax.set_yticks([0, 0.5, 1.0])\n",
    "\n",
    "ax.set_xticks([1,2], labels=[\"NR\", \"PR\"])\n",
    "ax.set_xlim([0.4,2.6])\n",
    "\n",
    "ax.spines[\"top\"].set_visible(False)\n",
    "ax.spines[\"right\"].set_visible(False)"
   ]
  },
  {
   "cell_type": "code",
   "execution_count": 70,
   "id": "e851231c",
   "metadata": {},
   "outputs": [
    {
     "data": {
      "text/plain": [
       "animal\n",
       "VGP118     8.888889\n",
       "VGP202    24.137931\n",
       "VGP203   -12.155172\n",
       "VGP302    43.540541\n",
       "VGP310     4.760522\n",
       "Name: PR, dtype: float64"
      ]
     },
     "execution_count": 70,
     "metadata": {},
     "output_type": "execute_result"
    }
   ],
   "source": [
    "df.PR"
   ]
  },
  {
   "cell_type": "code",
   "execution_count": 91,
   "id": "ae1abd92",
   "metadata": {},
   "outputs": [
    {
     "name": "stderr",
     "output_type": "stream",
     "text": [
      "C:\\Users\\jmc010\\Miniconda3\\lib\\site-packages\\seaborn\\categorical.py:82: FutureWarning: iteritems is deprecated and will be removed in a future version. Use .items instead.\n",
      "  plot_data = [np.asarray(s, float) for k, s in iter_data]\n"
     ]
    },
    {
     "data": {
      "image/png": "[encoded data removed]",
      "text/plain": [
       "<Figure size 600x300 with 1 Axes>"
      ]
     },
     "metadata": {},
     "output_type": "display_data"
    }
   ],
   "source": [
    "f, ax = plt.subplots(figsize=(6,3),\n",
    "                     gridspec_kw={\"left\": 0.25, \"bottom\": 0.2})\n",
    "\n",
    "sns.boxplot(data=df, orient=\"h\", ax=ax)\n",
    "\n",
    "ax.set_ylabel(\"\")\n",
    "ax.set_yticklabels([\"Non-restricted\", \"Protein-restricted\"])\n",
    "ax.set_xticks([-20, 0, 20, 40])\n",
    "ax.set_xlabel(\"Lick-activated cells (casein - maltodextrin)\")\n",
    "\n",
    "ax.axvline(0, color=\"lightgrey\", linestyle=\"--\", zorder=-1)\n",
    "\n",
    "ax.spines[\"top\"].set_visible(False)\n",
    "ax.spines[\"right\"].set_visible(False)\n",
    "\n",
    "f.savefig(\"..//output//grouped_casmalt_diff.png\")"
   ]
  },
  {
   "cell_type": "code",
   "execution_count": 71,
   "id": "97bb5438",
   "metadata": {},
   "outputs": [],
   "source": [
    "sns.boxplot?"
   ]
  },
  {
   "cell_type": "code",
   "execution_count": null,
   "id": "0f13b03a",
   "metadata": {},
   "outputs": [],
   "source": []
  }
 ],
 "metadata": {
  "kernelspec": {
   "display_name": "Python 3 (ipykernel)",
   "language": "python",
   "name": "python3"
  },
  "language_info": {
   "codemirror_mode": {
    "name": "ipython",
    "version": 3
   },
   "file_extension": ".py",
   "mimetype": "text/x-python",
   "name": "python",
   "nbconvert_exporter": "python",
   "pygments_lexer": "ipython3",
   "version": "3.9.16"
  }
 },
 "nbformat": 4,
 "nbformat_minor": 5
}
