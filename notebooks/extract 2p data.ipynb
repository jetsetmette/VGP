{
 "cells": [
  {
   "cell_type": "code",
   "execution_count": 1,
   "id": "711bb838-3add-42a8-a3cc-ad43a09199bf",
   "metadata": {},
   "outputs": [],
   "source": [
    "import os\n",
    "import numpy as np\n",
    "from scipy import signal\n",
    "import matplotlib.pyplot as plt\n",
    "import trompy as tp\n",
    "import pandas as pd\n",
    "from scipy import stats"
   ]
  },
  {
   "cell_type": "code",
   "execution_count": 2,
   "id": "9e9b4d48-8f1c-4fea-bf61-abdaada7499a",
   "metadata": {},
   "outputs": [],
   "source": [
    "def get_number_cells (s2p_folder):\n",
    "    iscell = np.load(os.path.join(s2p_folder, 'iscell.npy'))\n",
    "    return sum(iscell[:,0])\n",
    "    "
   ]
  },
  {
   "cell_type": "code",
   "execution_count": 3,
   "id": "31d9c02c-06b7-4323-9330-a8155b8e8f6b",
   "metadata": {},
   "outputs": [],
   "source": [
    "def get_frames(events_file,s2p_length):\n",
    "    df = pd.read_csv(events_file)\n",
    "\n",
    "    pump_frames = list(df[df['Item1'] == 'pump_on']['Item2.Item2'])\n",
    "\n",
    "    pump_frames=[frame for frame in pump_frames if frame < s2p_length-100] #removes event if too close to the end\n",
    "\n",
    "    licks_frames = list (df[df['Item1']== 'Lick']['Item2.Item2'])\n",
    "    \n",
    "    return pump_frames, licks_frames"
   ]
  },
  {
   "cell_type": "code",
   "execution_count": 4,
   "id": "a2379cc2-f10b-4e8a-ba97-6b09ed3baa94",
   "metadata": {},
   "outputs": [],
   "source": [
    "def filter_cell(x):\n",
    "\n",
    "    t = np.arange(0,len(x)/10,0.1)\n",
    "    filt = signal.butter(4, 1, 'low', fs=10, output='sos')\n",
    "    filtered = signal.sosfilt(filt, x)\n",
    "    \n",
    "    return filtered\n",
    "    "
   ]
  },
  {
   "cell_type": "code",
   "execution_count": 17,
   "id": "8360663f-375b-45ee-95ef-2f84e95dca0c",
   "metadata": {},
   "outputs": [],
   "source": [
    "def get_activated_cells (s2p_folder,events_file):\n",
    "    raw_F = np.load(os.path.join(s2p_folder, 'F.npy'))\n",
    "    neu_F = np.load(os.path.join(s2p_folder, 'Fneu.npy'))\n",
    "    iscell = np.load(os.path.join(s2p_folder, 'iscell.npy'))\n",
    "#     stats=np.load(os.path.join(s2p_folder, 'stat.npy'), allow_pickle=True)\n",
    "    \n",
    "    s2p_length=len(raw_F[0,:])\n",
    "    print(s2p_length)\n",
    "    \n",
    "    pump_frames, licks_frames= get_frames(events_file,s2p_length)\n",
    "    \n",
    "    cell_idx = [idx for idx,vals in enumerate(iscell) if vals[0]==1]\n",
    "    \n",
    "    activated_cells=0\n",
    "\n",
    "    for i, cell in enumerate(cell_idx):\n",
    "        x = raw_F[cell, :] - 0.7*(neu_F[cell, :])\n",
    "        x = raw_F[cell, :]\n",
    "        x = (x - np.mean(x))/np.std(x)\n",
    "        x = filter_cell(x)\n",
    "        \n",
    "        \n",
    "        snips = []\n",
    "        pre=[]\n",
    "        post=[]\n",
    "        \n",
    "        for p in pump_frames:\n",
    "            snips.append(x[p-50:p+100])\n",
    "            pre.append(np.mean(x[p-50:p]))\n",
    "            post.append(np.mean(x[p:p+50]))\n",
    "        result= stats.ttest_ind(pre, post)\n",
    "        \n",
    "        print(result[1])\n",
    "        \n",
    "# paired t-test\n",
    "#hit trials\n"
   ]
  },
  {
   "cell_type": "code",
   "execution_count": null,
   "id": "b24bc2a5-705a-43ca-922a-7441fb5e3634",
   "metadata": {},
   "outputs": [],
   "source": []
  },
  {
   "cell_type": "code",
   "execution_count": 18,
   "id": "4008317a-22a1-4b5c-9201-10a4a13a0675",
   "metadata": {},
   "outputs": [],
   "source": [
    "animal=\"VGP302\"\n",
    "day=\"031\"\n",
    "date=\"20221110\"\n",
    "s2p_folder = \"C:\\\\Users\\\\mko102\\\\UiT Office 365\\\\O365-Pipette 2 - Dokumenter\\\\People\\\\Mette\\\\GitHub\\\\2P\\\\Processed\\\\VGP_procd_data_22-12-05\\\\sub-{}\\\\ses-{}\".format(animal, day)\n",
    "events_file = \"C:\\\\Users\\\\mko102\\\\UiT Office 365\\\\O365-Pipette 2 - Dokumenter\\\\People\\\\Mette\\\\GitHub\\\\2P\\\\Processed\\\\behav\\\\sub-{0}\\\\ses-{1}-{2}\\\\sub-{0}_ses-{1}_events.csv\".format(animal, day, date)\n"
   ]
  },
  {
   "cell_type": "code",
   "execution_count": 19,
   "id": "919c830e-2135-41d7-a1ed-0ff2dad57067",
   "metadata": {},
   "outputs": [
    {
     "data": {
      "text/plain": [
       "76.0"
      ]
     },
     "execution_count": 19,
     "metadata": {},
     "output_type": "execute_result"
    }
   ],
   "source": [
    "get_number_cells(s2p_folder)"
   ]
  },
  {
   "cell_type": "code",
   "execution_count": 20,
   "id": "3e8d5164-43c6-4662-8c2e-cf0670767caf",
   "metadata": {},
   "outputs": [
    {
     "name": "stdout",
     "output_type": "stream",
     "text": [
      "11680\n",
      "0.8813977297981109\n",
      "0.7859575681040613\n",
      "0.42264044844512494\n",
      "0.6610098666126161\n",
      "0.9895217348615957\n",
      "0.9925517142810266\n",
      "0.972676691964709\n",
      "0.9058220660429561\n",
      "0.9645292071451894\n",
      "0.785549245032089\n",
      "0.9454973820790022\n",
      "0.47804540848874544\n",
      "0.6816889483793537\n",
      "0.9305406642309428\n",
      "0.6896683089311197\n",
      "0.8825977624564799\n",
      "0.9039800163949154\n",
      "0.534001166486227\n",
      "0.6923130428706274\n",
      "0.9898974149259889\n",
      "0.7895930319721837\n",
      "0.6652541294566572\n",
      "0.7873151522505004\n",
      "0.5913526312515818\n",
      "0.9962963731025647\n",
      "0.8414995052903755\n",
      "0.8363991261553017\n",
      "0.9972567927510362\n",
      "0.6442464792585956\n",
      "0.8289671716503979\n",
      "0.9129273153475667\n",
      "0.9800552588397354\n",
      "0.40796359591219433\n",
      "0.9922055056090823\n",
      "0.7476851238129197\n",
      "0.6041000228176209\n",
      "0.6216698066870932\n",
      "0.7898311577186617\n",
      "0.4592069697065535\n",
      "0.8630167308487253\n",
      "0.2507137683508466\n",
      "0.41820152631918583\n",
      "0.2459941325695157\n",
      "0.9089866005157152\n",
      "0.7220189545539685\n",
      "0.2576511705268936\n",
      "0.583919058053048\n",
      "0.8869294713114851\n",
      "0.7741191234523879\n",
      "0.8674389486109828\n",
      "0.5768227056637267\n",
      "0.1761986514655879\n",
      "0.7272033152935589\n",
      "0.7719069530728734\n",
      "0.4307179810111521\n",
      "0.6861677521231042\n",
      "0.7482373455888793\n",
      "0.6479464372873631\n",
      "0.7547823304475405\n",
      "0.43806485363526404\n",
      "0.19706448795648832\n",
      "0.6495010722845452\n",
      "0.2599884403417728\n",
      "0.848600218794379\n",
      "0.384474585268778\n",
      "0.46062423825625043\n",
      "0.5262590902451056\n",
      "0.30370606678394896\n",
      "0.41767310427017434\n",
      "0.7518623584358298\n",
      "0.6481946433445971\n",
      "0.5562990472573155\n",
      "0.9617483388983719\n",
      "0.7850104432642533\n",
      "0.14038626030911805\n",
      "0.30047523916060914\n"
     ]
    }
   ],
   "source": [
    "get_activated_cells(s2p_folder,events_file)"
   ]
  },
  {
   "cell_type": "code",
   "execution_count": null,
   "id": "1a4352c6-5d24-4d74-b80d-bae9038fe007",
   "metadata": {},
   "outputs": [],
   "source": []
  }
 ],
 "metadata": {
  "kernelspec": {
   "display_name": "Python 3",
   "language": "python",
   "name": "python3"
  },
  "language_info": {
   "codemirror_mode": {
    "name": "ipython",
    "version": 3
   },
   "file_extension": ".py",
   "mimetype": "text/x-python",
   "name": "python",
   "nbconvert_exporter": "python",
   "pygments_lexer": "ipython3",
   "version": "3.8.8"
  }
 },
 "nbformat": 4,
 "nbformat_minor": 5
}
