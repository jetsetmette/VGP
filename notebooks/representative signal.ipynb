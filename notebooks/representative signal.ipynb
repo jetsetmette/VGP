{
 "cells": [
  {
   "cell_type": "code",
   "execution_count": 1,
   "id": "9e305da9-d318-4ef7-b07d-a2bce50d8760",
   "metadata": {},
   "outputs": [],
   "source": [
    "import os\n",
    "import numpy as np\n",
    "\n",
    "import matplotlib.pyplot as plt\n",
    "import seaborn as sns\n",
    "\n",
    "import trompy as tp\n",
    "\n",
    "%run \"..//src//vgp_helper_fx\""
   ]
  },
  {
   "cell_type": "code",
   "execution_count": 5,
   "id": "0d4839fa-47ff-4f75-83cb-9b44f9a9604d",
   "metadata": {},
   "outputs": [
    {
     "name": "stdout",
     "output_type": "stream",
     "text": [
      "File is excel file. Making csv metafile first\n"
     ]
    }
   ],
   "source": [
    "DATA_FOLDER = \"C:\\\\Users\\\\mko102\\\\UiT Office 365\\\\O365-Pipette 2 - Dokumenter\\\\People\\\\Mette\\\\GitHub\\\\2P\\\\Processed\\\\\"\n",
    "\n",
    "#casein session\n",
    "animal=\"VGP403\"\n",
    "day=\"034\"\n",
    "day_meta='034'\n",
    "date=\"20230324\"\n",
    "\n",
    "\n",
    "\n",
    "s2p_folder = os.path.join(DATA_FOLDER,\n",
    "                          \"s2p\",\n",
    "                          \"sub-{}\\\\ses-{}\"\n",
    "                          .format(animal, day))\n",
    "\n",
    "# events_file = os.path.join(DATA_FOLDER,\n",
    "#                            \"behav\",\n",
    "#                            \"sub-{0}\\\\ses-{1}-{2}\\\\sub-{0}_ses-{1}_events.csv\"\n",
    "#                            .format(animal, day, date))\n",
    "\n",
    "# to get event file in single folder\n",
    "rows,header=tp.metafilereader('C:\\\\Users\\\\mko102\\\\UiT Office 365\\\\O365-Pipette 2 - Dokumenter\\\\People\\\\Mette\\\\GitHub\\\\2P\\\\Metafile_VGP2.3.xls',sheetname='Behavior')\n",
    "folder= 'C:\\\\Users\\\\mko102\\\\UiT Office 365\\\\O365-Pipette 2 - Dokumenter\\\\People\\\\Mette\\\\GitHub\\\\2P\\\\VGP2\\\\Bonsai\\\\'\n",
    "\n",
    "\n",
    "for row in rows: \n",
    "    if row[0]== animal and row[4] == day_meta: \n",
    "        events_file=folder+row[1]\n",
    "\n",
    "data = assemble_data(s2p_folder,events_file,animal=\"VGP403\", diet=\"NR\", solution=\"Casein\")"
   ]
  },
  {
   "cell_type": "code",
   "execution_count": 6,
   "id": "49d09d08-1ff5-45fb-9b8a-34aa3d157055",
   "metadata": {},
   "outputs": [],
   "source": [
    "s2p_length=len(data['raw_F'][0,:])\n",
    "pump_frames,lick_frames=get_frames(events_file,s2p_length)"
   ]
  },
  {
   "cell_type": "code",
   "execution_count": 75,
   "id": "9488fc54-5038-4c47-8430-1ca27822be67",
   "metadata": {},
   "outputs": [
    {
     "data": {
      "image/png": "[encoded data removed]",
      "text/plain": [
       "<Figure size 432x288 with 1 Axes>"
      ]
     },
     "metadata": {
      "needs_background": "light"
     },
     "output_type": "display_data"
    }
   ],
   "source": [
    "def z_score(signal):\n",
    "    mean=np.mean(signal)\n",
    "    sd=np.std(signal)\n",
    "    z=(signal-mean)/sd\n",
    "    \n",
    "    return z\n",
    "\n",
    "start_frame=6000\n",
    "n_frames=1200\n",
    "frames_to_plot=range(start_frame,start_frame+n_frames)\n",
    "cell_to_plot=44\n",
    "licks_to_plot=[lick-start_frame for lick in lick_frames]\n",
    "signal_to_plot = z_score(data['raw_F'][cell_to_plot,frames_to_plot])\n",
    "\n",
    "\n",
    "\n",
    "f,ax=plt.subplots()\n",
    "ax.plot(signal_to_plot)\n",
    "ax.vlines(licks_to_plot,5,6)\n",
    "ax.set_xlim(0,n_frames)\n",
    "\n",
    "#time scale bar\n",
    "scale_bar_y=-3\n",
    "scale_bar_x=100\n",
    "ax.plot([scale_bar_x,scale_bar_x+100],[scale_bar_y,scale_bar_y],color='k')\n",
    "ax.text(scale_bar_x+50,scale_bar_y-0.2,' 10 sec',ha='center',va='top')\n",
    "\n",
    "# z scale bar\n",
    "scale_bar_y=0\n",
    "scale_bar_x=-50\n",
    "ax.plot([scale_bar_x,scale_bar_x],[scale_bar_y,scale_bar_y+2],color='k',clip_on=False)\n",
    "\n",
    "ax.text(scale_bar_x-25,scale_bar_y+1,' 2 Z',ha='right',va='center')\n",
    "\n",
    "ax.text(0,5.5,' licks',ha='right',va='center')\n",
    "tp.invisible_axes(ax)\n"
   ]
  },
  {
   "cell_type": "code",
   "execution_count": 38,
   "id": "d33d9654-36e9-4251-9432-99516ae2c7ec",
   "metadata": {},
   "outputs": [
    {
     "data": {
      "text/plain": [
       "83"
      ]
     },
     "execution_count": 38,
     "metadata": {},
     "output_type": "execute_result"
    }
   ],
   "source": [
    "len(data['raw_F'])"
   ]
  },
  {
   "cell_type": "code",
   "execution_count": 67,
   "id": "ec5e4f75-e3b9-4fda-bed8-aef3899b6bbb",
   "metadata": {},
   "outputs": [
    {
     "data": {
      "text/plain": [
       "\u001b[1;31mSignature:\u001b[0m \u001b[0mtp\u001b[0m\u001b[1;33m.\u001b[0m\u001b[0minvisible_axes\u001b[0m\u001b[1;33m(\u001b[0m\u001b[0max\u001b[0m\u001b[1;33m)\u001b[0m\u001b[1;33m\u001b[0m\u001b[1;33m\u001b[0m\u001b[0m\n",
       "\u001b[1;31mDocstring:\u001b[0m Sets axes to invisible. \n",
       "\u001b[1;31mFile:\u001b[0m      c:\\users\\mko102\\anaconda3\\lib\\site-packages\\trompy\\fig_utils.py\n",
       "\u001b[1;31mType:\u001b[0m      function\n"
      ]
     },
     "metadata": {},
     "output_type": "display_data"
    }
   ],
   "source": [
    "tp.invisible_axes?"
   ]
  },
  {
   "cell_type": "code",
   "execution_count": null,
   "id": "b255a738-981f-4c87-b7f4-14d17bfaf2a2",
   "metadata": {},
   "outputs": [],
   "source": []
  }
 ],
 "metadata": {
  "kernelspec": {
   "display_name": "Python 3",
   "language": "python",
   "name": "python3"
  },
  "language_info": {
   "codemirror_mode": {
    "name": "ipython",
    "version": 3
   },
   "file_extension": ".py",
   "mimetype": "text/x-python",
   "name": "python",
   "nbconvert_exporter": "python",
   "pygments_lexer": "ipython3",
   "version": "3.8.8"
  }
 },
 "nbformat": 4,
 "nbformat_minor": 5
}
