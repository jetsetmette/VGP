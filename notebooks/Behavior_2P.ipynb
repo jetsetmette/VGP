{
 "cells": [
  {
   "cell_type": "markdown",
   "id": "76c530f6-6fc3-4a23-9f84-a042a26ab9bc",
   "metadata": {},
   "source": [
    "## Imports"
   ]
  },
  {
   "cell_type": "code",
   "execution_count": 1,
   "id": "8f6724f0-a833-4285-baf4-9f38b22d2cbb",
   "metadata": {},
   "outputs": [],
   "source": [
    "import csv\n",
    "import matplotlib.pyplot as plt\n",
    "\n",
    "import numpy as np\n",
    "import trompy as tp\n",
    "from datetime import datetime\n",
    "import pandas as pd\n",
    "import pickle \n",
    "\n",
    "%matplotlib inline\n",
    "\n",
    "\n",
    "from scipy import stats"
   ]
  },
  {
   "cell_type": "code",
   "execution_count": 2,
   "id": "6f5ead6c-98d3-4752-babf-e6ee9315db81",
   "metadata": {},
   "outputs": [],
   "source": [
    "def extract_event_fn(filename): \n",
    "    '''\n",
    "    function to extract framenumber of events (licks and pump_on) in framenumber\n",
    "    \n",
    "    args\n",
    "    filename - string \n",
    "    \n",
    "    returns \n",
    "    licks_fn - lits of integers\n",
    "        framenumber of licks\n",
    "    pump_on_fn - list of integers \n",
    "        framenumber when pump turns on\n",
    "    \n",
    "    '''\n",
    "    df= pd.read_csv(filename)\n",
    "    \n",
    "    #Extracts pump on framenumber\n",
    "    pump_fn = list(df[df['Item1'] == 'pump_on']['Item2.Item2'])\n",
    "    \n",
    "    \n",
    "    #Extracts licks framenumber\n",
    "    licks_fn = list (df[df['Item1']== 'Lick']['Item2.Item2'])\n",
    "\n",
    "      \n",
    "    return pump_fn, licks_fn\n",
    "        \n"
   ]
  },
  {
   "cell_type": "code",
   "execution_count": 3,
   "id": "5ab60faf-2a32-46eb-ae33-a4ff4c241d57",
   "metadata": {},
   "outputs": [],
   "source": [
    "def get_hit_miss_trial (pump_fn, licks_fn): \n",
    "    '''\n",
    "    function to get hit and miss trials\n",
    "    \n",
    "    arg \n",
    "    pump_fn - list of integers\n",
    "        framenumber for when the pump turns on \n",
    "    licks_fn - list of integers\n",
    "        framenumber for all licks\n",
    "    triallenght - int float (optional, default set to 100 frames (10sec))\n",
    "    \n",
    "    returns \n",
    "    hit_trial - list of int \n",
    "        pump on frame number in hit trials (lick > 0)\n",
    "    miss_trial - list of int \n",
    "        pump on frame number in missed trials (lick = 0)\n",
    "    \n",
    "    '''\n",
    "    hit_trial=[]\n",
    "    miss_trial=[]\n",
    "    for p in pump_fn: \n",
    "        temp=[]\n",
    "        for lick in licks_fn: \n",
    "            if lick > p and lick < p + 100: \n",
    "                temp.append(lick)\n",
    "            \n",
    "        if len(temp)> 0:\n",
    "            hit_trial.append(p)\n",
    "        if len(temp) == 0: \n",
    "            miss_trial.append(p)\n",
    "    return hit_trial, miss_trial"
   ]
  },
  {
   "cell_type": "code",
   "execution_count": 4,
   "id": "8ab8d7ef-0fb6-47fb-9063-8fb2cfeb538f",
   "metadata": {},
   "outputs": [],
   "source": [
    "def get_licks_trial (pump_fn, licks_fn, triallength=100):\n",
    "    '''\n",
    "    function to get licks within one trial \n",
    "    licks aligned to pump on (pump_fn)\n",
    "    \n",
    "    arg \n",
    "    pump_fn - list of integers\n",
    "        framenumber for when the pump turns on \n",
    "    licks_fn - list of integers\n",
    "        framenumber for all licks\n",
    "    triallenght - int float (optional, default set to 100 frames (10sec))\n",
    "    \n",
    "    returns \n",
    "    licks_trial - list of list of integers\n",
    "        list of all licks in all trials aligned to pump on (in frames)\n",
    "    licks_all_trial - list of integers\n",
    "        number of licks of each trial \n",
    "    licks_hit_trial - list of integers \n",
    "        number of licks per trial for hit trials \n",
    "    latency - list of integers\n",
    "        latency to first lick after pump on (in frames)\n",
    "        \n",
    "    \n",
    "    '''\n",
    "\n",
    "    # All licks aligned to pump on \n",
    "    licks_trial=[]\n",
    "    for p in pump_fn:\n",
    "        temp=[]\n",
    "        for lick in licks_fn: \n",
    "            if lick > p and lick < p + 100:\n",
    "                temp.append(lick - p)\n",
    "        licks_trial.append(temp)\n",
    "        \n",
    "        \n",
    "    #licks per trial (all and hit trials) aligned to pump on \n",
    "    licks_all_trial=[]\n",
    "    licks_hit_trial=[]\n",
    "    for trial in licks_trial: \n",
    "        licks_all_trial.append(len(trial))\n",
    "        if len(trial) > 0: \n",
    "            licks_hit_trial.append(len(trial))\n",
    "            \n",
    "            \n",
    "    #Latency to first lick after pump on\n",
    "    temp_latency=[]\n",
    "    for trial in licks_trial:\n",
    "        if len(trial) > 0: \n",
    "            temp_latency.append(trial[:1])\n",
    "    \n",
    "    latency=[trial for sublist in temp_latency for trial in sublist] #List comprehension to convert list of lists to flat list     \n",
    "            \n",
    "        \n",
    "    return licks_trial, licks_all_trial, licks_hit_trial, latency"
   ]
  },
  {
   "cell_type": "code",
   "execution_count": 107,
   "id": "6df00038-d623-4161-879f-077c92a0731f",
   "metadata": {},
   "outputs": [],
   "source": [
    "def make_barscatter(data, ax=None, barlabels=['PR','PRNR','NR','NRPR'], barfacecolor = ['darkcyan','c', 'black', 'grey']):\n",
    "    \n",
    "    '''\n",
    "    function to make barscatter\n",
    "    \n",
    "    arg \n",
    "    data - list of lists of floats\n",
    "        The data you want to put into the plot\n",
    "    barlabels - list of strings\n",
    "        labels for the bars plotted (optional - defaulte : 'PR','PRNR','NR','NRPR' )\n",
    "    barfacecolors - list of strings\n",
    "        colors for the bars (optional- default: ['darkcyan','c', 'black', 'grey'])\n",
    "    \n",
    "    \n",
    "    returns \n",
    "    ax - ax to put into sublot\n",
    "    \n",
    "    '''\n",
    "    if ax == None: \n",
    "        f,ax = plt.subplots()\n",
    "        \n",
    "    tp.barscatter(data, \n",
    "                  paired= True,\n",
    "                  barfacecolor=barfacecolor,\n",
    "                  barlabels=barlabels,\n",
    "                  barlabeloffset=0.04,\n",
    "                  barfacecolor_option='individual',\n",
    "                  fontsize = 15,\n",
    "                  scattersize=110,\n",
    "                  scatteralpha=0.7,\n",
    "                  spaced=True,\n",
    "                  linewidth=1.5,\n",
    "                  ax=ax)\n",
    "    \n",
    "    return ax\n",
    "    "
   ]
  },
  {
   "cell_type": "markdown",
   "id": "e51167f9-0123-4f78-88e0-0fa43f98e971",
   "metadata": {},
   "source": [
    "## Metafile reader"
   ]
  },
  {
   "cell_type": "code",
   "execution_count": 108,
   "id": "98fc912a-3bc0-48da-933c-20cd468c0ec2",
   "metadata": {},
   "outputs": [
    {
     "name": "stdout",
     "output_type": "stream",
     "text": [
      "File is excel file. Making csv metafile first\n"
     ]
    }
   ],
   "source": [
    "rows,header=tp.metafilereader('C:\\\\Users\\\\mko102\\\\UiT Office 365\\\\O365-Pipette 2 - Dokumenter\\\\People\\\\Mette\\\\GitHub\\\\2P\\\\Metafile_VGP2.2.xls',sheetname='Behavior')\n",
    "# rows_homecage,header=tp.metafilereader('C:\\\\Users\\\\mko102\\\\UiT Office 365\\\\O365-Pipette 2 - Dokumenter\\\\People\\\\Mette\\\\GitHub\\\\2P\\\\Metafile_VGP2.2.xls',sheetname='Homecage')\n",
    "folder= 'C:\\\\Users\\\\mko102\\\\UiT Office 365\\\\O365-Pipette 2 - Dokumenter\\\\People\\\\Mette\\\\GitHub\\\\2P\\\\VGP2\\\\Bonsai\\\\'"
   ]
  },
  {
   "cell_type": "markdown",
   "id": "1631ce72-23a7-468a-bc34-fdb6ab427fa1",
   "metadata": {},
   "source": [
    "## Dictionary"
   ]
  },
  {
   "cell_type": "code",
   "execution_count": 109,
   "id": "68148ca4-ed59-4b35-8fff-26ddfeaaf66f",
   "metadata": {},
   "outputs": [],
   "source": [
    "all_data={}\n",
    "\n",
    "for row in rows: \n",
    "    try:\n",
    "        key=row[0]+ '_' + row[4]\n",
    "    \n",
    "        pump_fn, licks_fn = extract_event_fn(folder+row[1])\n",
    "        hit_trial, miss_trial = get_hit_miss_trial(pump_fn, licks_fn)\n",
    "        licks_trial, licks_all_trial, licks_hit_trial, latency = get_licks_trial(pump_fn, licks_fn)\n",
    "        \n",
    "        lick_number=[]\n",
    "        for number, lick in enumerate(licks_fn): \n",
    "            lick_number.append(number)\n",
    "    \n",
    "        \n",
    "    \n",
    "        all_data[key]={}\n",
    "\n",
    "        all_data[key]['mouse']=row[0]\n",
    "        all_data[key]['diet']=row[7]\n",
    "        all_data[key]['solution']=row[8]\n",
    "        all_data[key]['session']=row[10]\n",
    "    \n",
    "#         all_data[key]['file']=row[1]\n",
    "        all_data[key]['licks_fn']= licks_fn\n",
    "        all_data[key]['lick number']= lick_number\n",
    "        all_data[key]['pump_fn']= pump_fn\n",
    "        all_data[key]['licks trial']= licks_trial\n",
    "        all_data[key]['number of trials']=len(pump_fn)\n",
    "        all_data[key]['total licks']=len(licks_fn)\n",
    "        all_data[key]['hit trial'] = len(hit_trial)\n",
    "        all_data[key]['miss trials']= len(miss_trial)\n",
    "        all_data[key]['licks per trial']= np.mean(licks_all_trial)\n",
    "        all_data[key]['licks hit trial']= np.mean(licks_hit_trial)\n",
    "        all_data[key]['latency']= np.mean(latency)\n",
    "    \n",
    "    except FileNotFoundError: \n",
    "        print('Cannot find file for', key)"
   ]
  },
  {
   "cell_type": "code",
   "execution_count": 110,
   "id": "865a50ba-a3bd-4780-9cc4-bec865d35b5b",
   "metadata": {
    "tags": []
   },
   "outputs": [],
   "source": [
    "\n",
    "with open('..//output//behavdata.pickle', 'wb') as file:\n",
    "    pickle.dump(all_data, file, protocol=pickle.HIGHEST_PROTOCOL)\n",
    "\n",
    "with open('..//output//behavdata.pickle', 'rb') as file:\n",
    "    b = pickle.load(file)"
   ]
  },
  {
   "cell_type": "markdown",
   "id": "99d66709-a4f2-4ee3-9bb1-19d6467d6689",
   "metadata": {},
   "source": [
    "# Making groups and figures"
   ]
  },
  {
   "cell_type": "code",
   "execution_count": 111,
   "id": "c439d43d-3bd7-4627-b4a3-fb78a9d5ea9d",
   "metadata": {},
   "outputs": [],
   "source": [
    "mice=[]\n",
    "\n",
    "for key in all_data.keys(): \n",
    "    d=all_data[key]\n",
    "    mouseid=d['mouse']\n",
    "    if mouseid not in mice: mice.append(mouseid)\n",
    "\n",
    "\n",
    "for m in mice: \n",
    "    if m == 'VGP305':\n",
    "        mice.remove(m)\n"
   ]
  },
  {
   "cell_type": "markdown",
   "id": "7702743b-cb50-4b7b-bb3a-e98ffa50247c",
   "metadata": {
    "tags": []
   },
   "source": [
    "## Total number of licks"
   ]
  },
  {
   "cell_type": "markdown",
   "id": "d646a070-d617-4465-b780-10c3b065f250",
   "metadata": {},
   "source": [
    "Baseline"
   ]
  },
  {
   "cell_type": "code",
   "execution_count": 112,
   "id": "a8b475f6-f405-4982-a1a3-7728721803c7",
   "metadata": {},
   "outputs": [],
   "source": [
    "baseline_NR=[]\n",
    "baseline_PR=[]\n",
    "\n",
    "for mouse in mice: \n",
    "    temp_NR=[]\n",
    "    temp_PR=[]\n",
    "    \n",
    "    for key in all_data.keys():\n",
    "        d=all_data[key]\n",
    "        if d['mouse']==mouse and d['solution']=='Baseline'and d['diet']== 'PR':\n",
    "            temp_PR.append(d['total licks'])\n",
    "        elif d['mouse']==mouse and d['solution']=='Baseline' and d['diet']== 'NR':\n",
    "            temp_NR.append(d['total licks'])\n",
    "\n",
    "                \n",
    "    if len(temp_PR)> 0:\n",
    "        baseline_PR.append(np.mean(temp_PR))\n",
    "    if len(temp_NR)>0:\n",
    "        baseline_NR.append(np.mean(temp_NR))"
   ]
  },
  {
   "cell_type": "code",
   "execution_count": 113,
   "id": "ed8bd3e6-c5b8-4550-8b81-547ca9ac4beb",
   "metadata": {},
   "outputs": [
    {
     "name": "stdout",
     "output_type": "stream",
     "text": [
      "PR [309.3333333333333, 626.3333333333334, 1617.3333333333333, 1008.6666666666666, 1933.0]\n",
      "NR [704.0, 339.6666666666667, 927.0]\n"
     ]
    }
   ],
   "source": [
    "print('PR',baseline_PR)\n",
    "print('NR',baseline_NR)"
   ]
  },
  {
   "cell_type": "markdown",
   "id": "7d0a6ea3-37eb-42d1-a07c-edae779918e8",
   "metadata": {},
   "source": [
    "Ensure"
   ]
  },
  {
   "cell_type": "code",
   "execution_count": 114,
   "id": "814d563e-653c-4c5d-8e6d-1c73205bdb84",
   "metadata": {},
   "outputs": [],
   "source": [
    "ensure_NR=[]\n",
    "ensure_PR=[]\n",
    "\n",
    "ensure_NRPR=[]\n",
    "ensure_PRNR=[]\n",
    "\n",
    "\n",
    "for mouse in mice: \n",
    "    temp_NR=[]\n",
    "    temp_PR=[]\n",
    "    \n",
    "    temp_NRPR=[]\n",
    "    temp_PRNR=[]\n",
    "    \n",
    "    for key in all_data.keys():\n",
    "        d=all_data[key]\n",
    "        if d['mouse']==mouse and d['solution']=='Ensure'and d['diet']== 'PR':\n",
    "            temp_PR.append(d['total licks'])\n",
    "        elif d['mouse']==mouse and d['solution']=='Ensure' and d['diet']== 'NR':\n",
    "            temp_NR.append(d['total licks'])\n",
    "        elif d['mouse']==mouse and d['solution']=='Ensure' and d['diet']== 'PRNR':\n",
    "            temp_PRNR.append(d['total licks'])\n",
    "        elif d['mouse']==mouse and d['solution']=='Ensure' and d['diet']== 'NRPR':\n",
    "            temp_NRPR.append(d['total licks'])\n",
    "\n",
    "                \n",
    "    if len(temp_PR)> 0:\n",
    "        ensure_PR.append(np.mean(temp_PR))\n",
    "    if len(temp_NR)>0:\n",
    "        ensure_NR.append(np.mean(temp_NR))\n",
    "    if len(temp_PRNR)>0:\n",
    "        ensure_PRNR.append(np.mean(temp_PRNR))\n",
    "    if len(temp_NRPR)>0:\n",
    "        ensure_NRPR.append(np.mean(temp_NRPR))"
   ]
  },
  {
   "cell_type": "code",
   "execution_count": 115,
   "id": "747d79b6-0377-49d6-b559-afb0eed2fad0",
   "metadata": {},
   "outputs": [
    {
     "name": "stdout",
     "output_type": "stream",
     "text": [
      "PR [562.3333333333334, 376.3333333333333, 505.6666666666667, 711.6666666666666, 1389.0]\n",
      "PRNR [744.3333333333334, 276.0, 485.0, 597.6666666666666, 969.0]\n",
      "  \n",
      "NR [122.33333333333333, 280.6666666666667, 453.0]\n",
      "NRPR [472.6666666666667, 749.6666666666666, 623.3333333333334]\n"
     ]
    }
   ],
   "source": [
    "print('PR',ensure_PR)\n",
    "print('PRNR', ensure_PRNR)\n",
    "print('  ')\n",
    "print('NR',ensure_NR)\n",
    "print('NRPR', ensure_NRPR)"
   ]
  },
  {
   "cell_type": "markdown",
   "id": "f0a36616-b025-4cb2-bc0b-48b422333b40",
   "metadata": {},
   "source": [
    "Casein"
   ]
  },
  {
   "cell_type": "code",
   "execution_count": 116,
   "id": "8cdda829-09b1-4128-8bcb-4f8bd18673c7",
   "metadata": {},
   "outputs": [],
   "source": [
    "cas_NR=[]\n",
    "cas_PR=[]\n",
    "\n",
    "cas_NRPR=[]\n",
    "cas_PRNR=[]\n",
    "\n",
    "\n",
    "for mouse in mice: \n",
    "    temp_NR=[]\n",
    "    temp_PR=[]\n",
    "    \n",
    "    temp_NRPR=[]\n",
    "    temp_PRNR=[]\n",
    "    \n",
    "    for key in all_data.keys():\n",
    "        d=all_data[key]\n",
    "        if d['mouse']==mouse and d['solution']=='Cas'and d['diet']== 'PR':\n",
    "            temp_PR.append(d['total licks'])\n",
    "        elif d['mouse']==mouse and d['solution']=='Cas' and d['diet']== 'NR':\n",
    "            temp_NR.append(d['total licks'])\n",
    "        elif d['mouse']==mouse and d['solution']=='Cas' and d['diet']== 'PRNR':\n",
    "            temp_PRNR.append(d['total licks'])\n",
    "        elif d['mouse']==mouse and d['solution']=='Cas' and d['diet']== 'NRPR':\n",
    "            temp_NRPR.append(d['total licks'])\n",
    "\n",
    "                \n",
    "    if len(temp_PR)> 0:\n",
    "        cas_PR.append(np.mean(temp_PR))\n",
    "    if len(temp_NR)>0:\n",
    "        cas_NR.append(np.mean(temp_NR))\n",
    "    if len(temp_PRNR)>0:\n",
    "        cas_PRNR.append(np.mean(temp_PRNR))\n",
    "    if len(temp_NRPR)>0:\n",
    "        cas_NRPR.append(np.mean(temp_NRPR))"
   ]
  },
  {
   "cell_type": "code",
   "execution_count": 117,
   "id": "62ddc70f-09ea-4a75-9e02-b474135e0ec7",
   "metadata": {},
   "outputs": [
    {
     "name": "stdout",
     "output_type": "stream",
     "text": [
      "PR [289.3333333333333, 233.66666666666666, 306.3333333333333, 350.0, 427.3333333333333]\n",
      "PRNR [663.0, 258.6666666666667, 334.5, 200.0, 171.5]\n",
      "  \n",
      "NR [133.66666666666666, 144.0, 236.66666666666666]\n",
      "NRPR [241.0, 345.3333333333333, 506.5]\n"
     ]
    }
   ],
   "source": [
    "print('PR',cas_PR)\n",
    "print('PRNR', cas_PRNR)\n",
    "print('  ')\n",
    "print('NR',cas_NR)\n",
    "print('NRPR', cas_NRPR)"
   ]
  },
  {
   "cell_type": "markdown",
   "id": "04e2c217-03fc-4f2a-b521-cfbaefe27079",
   "metadata": {},
   "source": [
    "Maltodextrin"
   ]
  },
  {
   "cell_type": "code",
   "execution_count": 118,
   "id": "6ee0619b-b026-4551-a85b-a3e3de0d9c73",
   "metadata": {},
   "outputs": [],
   "source": [
    "malt_NR=[]\n",
    "malt_PR=[]\n",
    "\n",
    "malt_NRPR=[]\n",
    "malt_PRNR=[]\n",
    "\n",
    "\n",
    "for mouse in mice: \n",
    "    temp_NR=[]\n",
    "    temp_PR=[]\n",
    "    \n",
    "    temp_NRPR=[]\n",
    "    temp_PRNR=[]\n",
    "    \n",
    "    for key in all_data.keys():\n",
    "        d=all_data[key]\n",
    "        if d['mouse']==mouse and d['solution']=='Malt.'and d['diet']== 'PR':\n",
    "            temp_PR.append(d['total licks'])\n",
    "        elif d['mouse']==mouse and d['solution']=='Malt.' and d['diet']== 'NR':\n",
    "            temp_NR.append(d['total licks'])\n",
    "        elif d['mouse']==mouse and d['solution']=='Malt.' and d['diet']== 'PRNR':\n",
    "            temp_PRNR.append(d['total licks'])\n",
    "        elif d['mouse']==mouse and d['solution']=='Malt.' and d['diet']== 'NRPR':\n",
    "            temp_NRPR.append(d['total licks'])\n",
    "\n",
    "                \n",
    "    if len(temp_PR)> 0:\n",
    "        malt_PR.append(np.mean(temp_PR))\n",
    "    if len(temp_NR)>0:\n",
    "        malt_NR.append(np.mean(temp_NR))\n",
    "    if len(temp_PRNR)>0:\n",
    "        malt_PRNR.append(np.mean(temp_PRNR))\n",
    "    if len(temp_NRPR)>0:\n",
    "        malt_NRPR.append(np.mean(temp_NRPR))"
   ]
  },
  {
   "cell_type": "code",
   "execution_count": 119,
   "id": "81a4fbf7-7ed0-48bf-8b79-d30bdbe9d277",
   "metadata": {},
   "outputs": [
    {
     "name": "stdout",
     "output_type": "stream",
     "text": [
      "PR [274.6666666666667, 146.0, 222.33333333333334, 414.3333333333333, 328.0]\n",
      "PRNR [457.0, 204.66666666666666, 225.5, 265.5, 243.0]\n",
      "  \n",
      "NR [209.0, 222.5, 205.33333333333334]\n",
      "NRPR [207.33333333333334, 235.66666666666666, 134.0]\n"
     ]
    }
   ],
   "source": [
    "print('PR', malt_PR)\n",
    "print('PRNR', malt_PRNR)\n",
    "print('  ')\n",
    "print('NR', malt_NR)\n",
    "print('NRPR', malt_NRPR)"
   ]
  },
  {
   "cell_type": "code",
   "execution_count": 120,
   "id": "3089aaaf-e7f7-4ee3-bae3-9d3755447854",
   "metadata": {
    "tags": []
   },
   "outputs": [
    {
     "data": {
      "image/png": "[encoded data removed]",
      "text/plain": [
       "<Figure size 360x720 with 3 Axes>"
      ]
     },
     "metadata": {
      "needs_background": "light"
     },
     "output_type": "display_data"
    }
   ],
   "source": [
    "f,ax=plt.subplots(figsize=(5,10), ncols=1, nrows=3, sharey='row')\n",
    "f.subplots_adjust(wspace=0.15,hspace=0.35, bottom=0.05, left=0.15)\n",
    "\n",
    "colors_E=['Darkgreen','green','black', 'grey']\n",
    "colors_C=['darkblue','blue','black', 'grey']\n",
    "colors_M=['darkred','red','black', 'grey']\n",
    "ax[0]= make_barscatter([[ensure_PR,ensure_PRNR],[ensure_NR,ensure_NRPR]], ax=ax[0], barfacecolor=colors_E)\n",
    "ax[1]= make_barscatter([[cas_PR,cas_PRNR],[cas_NR,cas_NRPR]], ax=ax[1],barfacecolor= colors_C)\n",
    "ax[2] = make_barscatter([[malt_PR,malt_PRNR],[malt_NR,malt_NRPR]], ax=ax[2],barfacecolor= colors_M)\n",
    "\n",
    "\n",
    "\n",
    "ax[0].set_ylabel('Total number of licks',fontsize = 15)\n",
    "ax[0].set_yticks([500,1000,1500])\n",
    "ax[0].set_yticklabels([500,1000,1500], fontsize = 15)\n",
    "\n",
    "ax[1].set_ylabel('Total number of licks',fontsize = 15)\n",
    "ax[1].set_yticks([250,500,750])\n",
    "ax[1].set_yticklabels([250,500,750], fontsize = 15)\n",
    "\n",
    "ax[2].set_ylabel('Total number of licks',fontsize = 15)\n",
    "ax[2].set_yticks([250,500,750])\n",
    "ax[2].set_yticklabels([250,500,750], fontsize = 15)\n",
    "\n",
    "ax[0].set_title('Ensure', fontsize =15)\n",
    "ax[1].set_title('Casein', fontsize =15)\n",
    "ax[2].set_title('Maltodextrin', fontsize =15)\n",
    "\n",
    "\n",
    "f.savefig('C:\\\\Users\\\\mko102\\\\GitHub\\\\VGP\\\\output\\\\total_licks.png')"
   ]
  },
  {
   "cell_type": "markdown",
   "id": "125d1bed-afd3-4380-8480-8578ceb7b616",
   "metadata": {},
   "source": [
    "proteinpaired "
   ]
  },
  {
   "cell_type": "code",
   "execution_count": 121,
   "id": "ef6caab1-e1a6-446d-b118-eef46a819642",
   "metadata": {},
   "outputs": [
    {
     "name": "stdout",
     "output_type": "stream",
     "text": [
      "PR [385.0, 126.0, 477.0, 412.0, 277.0]\n",
      "PRNR [355.0, 155.0, 294.0, 320.0]\n",
      "  \n",
      "NR [261.0, 195.0, 109.0]\n",
      "NRPR [269.0, 241.0, 180.0]\n"
     ]
    }
   ],
   "source": [
    "ppaired_NR=[]\n",
    "ppaired_PR=[]\n",
    "\n",
    "ppaired_NRPR=[]\n",
    "ppaired_PRNR=[]\n",
    "\n",
    "\n",
    "for mouse in mice: \n",
    "    temp_NR=[]\n",
    "    temp_PR=[]\n",
    "    \n",
    "    temp_NRPR=[]\n",
    "    temp_PRNR=[]\n",
    "    \n",
    "    for key in all_data.keys():\n",
    "        d=all_data[key]\n",
    "        if d['mouse']==mouse and d['solution']=='ppaired'and d['diet']== 'PR':\n",
    "            temp_PR.append(d['total licks'])\n",
    "        elif d['mouse']==mouse and d['solution']=='ppaired' and d['diet']== 'NR':\n",
    "            temp_NR.append(d['total licks'])\n",
    "        elif d['mouse']==mouse and d['solution']=='ppaired' and d['diet']== 'PRNR':\n",
    "            temp_PRNR.append(d['total licks'])\n",
    "        elif d['mouse']==mouse and d['solution']=='ppaired' and d['diet']== 'NRPR':\n",
    "            temp_NRPR.append(d['total licks'])\n",
    "\n",
    "                \n",
    "    if len(temp_PR)> 0:\n",
    "        ppaired_PR.append(np.mean(temp_PR))\n",
    "    if len(temp_NR)>0:\n",
    "        ppaired_NR.append(np.mean(temp_NR))\n",
    "    if len(temp_PRNR)>0:\n",
    "        ppaired_PRNR.append(np.mean(temp_PRNR))\n",
    "    if len(temp_NRPR)>0:\n",
    "        ppaired_NRPR.append(np.mean(temp_NRPR))\n",
    "        \n",
    "print('PR', ppaired_PR)\n",
    "print('PRNR', ppaired_PRNR)\n",
    "print('  ')\n",
    "print('NR', ppaired_NR)\n",
    "print('NRPR', ppaired_NRPR)"
   ]
  },
  {
   "cell_type": "code",
   "execution_count": 122,
   "id": "970d90cf-136b-467d-8622-219f60f80c6e",
   "metadata": {},
   "outputs": [
    {
     "name": "stdout",
     "output_type": "stream",
     "text": [
      "PR [243.0, 174.0, 177.0, 373.0, 406.0]\n",
      "PRNR [321.0, 31.0, 263.0, 346.0, 416.0]\n",
      "  \n",
      "NR [355.0, 195.0, 210.0]\n",
      "NRPR [304.0, 171.0, 147.0]\n"
     ]
    }
   ],
   "source": [
    "mpaierd_NR=[]\n",
    "mpaierd_PR=[]\n",
    "\n",
    "mpaierd_NRPR=[]\n",
    "mpaierd_PRNR=[]\n",
    "\n",
    "\n",
    "for mouse in mice: \n",
    "    temp_NR=[]\n",
    "    temp_PR=[]\n",
    "    \n",
    "    temp_NRPR=[]\n",
    "    temp_PRNR=[]\n",
    "    \n",
    "    for key in all_data.keys():\n",
    "        d=all_data[key]\n",
    "        if d['mouse']==mouse and d['solution']=='mpaired'and d['diet']== 'PR':\n",
    "            temp_PR.append(d['total licks'])\n",
    "        elif d['mouse']==mouse and d['solution']=='mpaired' and d['diet']== 'NR':\n",
    "            temp_NR.append(d['total licks'])\n",
    "        elif d['mouse']==mouse and d['solution']=='mpaired' and d['diet']== 'PRNR':\n",
    "            temp_PRNR.append(d['total licks'])\n",
    "        elif d['mouse']==mouse and d['solution']=='mpaired' and d['diet']== 'NRPR':\n",
    "            temp_NRPR.append(d['total licks'])\n",
    "\n",
    "                \n",
    "    if len(temp_PR)> 0:\n",
    "        mpaierd_PR.append(np.mean(temp_PR))\n",
    "    if len(temp_NR)>0:\n",
    "        mpaierd_NR.append(np.mean(temp_NR))\n",
    "    if len(temp_PRNR)>0:\n",
    "        mpaierd_PRNR.append(np.mean(temp_PRNR))\n",
    "    if len(temp_NRPR)>0:\n",
    "        mpaierd_NRPR.append(np.mean(temp_NRPR))\n",
    "        \n",
    "print('PR', mpaierd_PR)\n",
    "print('PRNR', mpaierd_PRNR)\n",
    "print('  ')\n",
    "print('NR', mpaierd_NR)\n",
    "print('NRPR', mpaierd_NRPR)"
   ]
  },
  {
   "cell_type": "code",
   "execution_count": 106,
   "id": "8ac12958-b456-4054-b11e-a8b8c39651f7",
   "metadata": {},
   "outputs": [
    {
     "name": "stdout",
     "output_type": "stream",
     "text": [
      "Could not space all sets of points.\n",
      "Could not space all sets of points.\n",
      "Could not space all sets of points.\n",
      "Could not space all sets of points.\n",
      "Could not space all sets of points.\n",
      "Could not space all sets of points.\n",
      "Could not space all sets of points.\n",
      "Could not space all sets of points.\n",
      "Could not space all sets of points.\n",
      "Could not space all sets of points.\n",
      "Could not space all sets of points.\n",
      "Could not space all sets of points.\n",
      "Could not space all sets of points.\n",
      "Could not space all sets of points.\n",
      "Could not space all sets of points.\n",
      "Could not space all sets of points.\n"
     ]
    },
    {
     "data": {
      "image/png": "[encoded data removed]",
      "text/plain": [
       "<Figure size 360x720 with 4 Axes>"
      ]
     },
     "metadata": {
      "needs_background": "light"
     },
     "output_type": "display_data"
    }
   ],
   "source": [
    "f,ax=plt.subplots(figsize=(5,10), ncols=1, nrows=4)\n",
    "f.subplots_adjust(wspace=0.15,hspace=0.35, bottom=0.05, left=0.15)\n",
    "\n",
    "\n",
    "colors_C=['darkblue','blue','black', 'grey']\n",
    "colors_PP=['skyblue','steelblue','darkgrey','lightgrey']\n",
    "colors_M=['darkred','red','black', 'grey']\n",
    "colors_CP=['lightcoral','indianred','darkgrey','lightgrey']\n",
    "\n",
    "ax[0]= make_barscatter([[cas_PR,cas_PRNR],[cas_NR,cas_NRPR]], ax=ax[0],barfacecolor= colors_C)\n",
    "ax[1]= make_barscatter([[ppaired_PR,ppaired_PRNR],[ppaired_NR,ppaired_NRPR]], ax=ax[1],barfacecolor= colors_PP)\n",
    "ax[2] = make_barscatter([[malt_PR,malt_PRNR],[malt_NR,malt_NRPR]], ax=ax[2],barfacecolor= colors_M)\n",
    "ax[3] = make_barscatter([[mpaierd_PR,mpaierd_PRNR],[mpaierd_NR,mpaierd_NRPR]], ax=ax[3],barfacecolor= colors_CP)\n",
    "\n",
    "\n",
    "ax[0].set_ylabel('# of licks',fontsize = 15)\n",
    "ax[0].set_yticks([250,500,750])\n",
    "ax[0].set_yticklabels([250,500,750], fontsize = 15)\n",
    "\n",
    "ax[1].set_ylabel('# of licks',fontsize = 15)\n",
    "ax[1].set_yticks([250,500,750])\n",
    "ax[1].set_yticklabels([250,500,750], fontsize = 15)\n",
    "\n",
    "ax[2].set_ylabel('# of licks',fontsize = 15)\n",
    "ax[2].set_yticks([250,500,750])\n",
    "ax[2].set_yticklabels([250,500,750], fontsize = 15)\n",
    "\n",
    "ax[3].set_ylabel('# of licks',fontsize = 15)\n",
    "ax[3].set_yticks([250,500,750])\n",
    "ax[3].set_yticklabels([250,500,750], fontsize = 15)\n",
    "\n",
    "ax[0].set_title('Protein', fontsize =15)\n",
    "ax[1].set_title('Protein paired', fontsize =15)\n",
    "ax[2].set_title('Carb', fontsize =15)\n",
    "ax[3].set_title('Carb paired', fontsize =15)\n",
    "\n",
    "f.savefig('C:\\\\Users\\\\mko102\\\\GitHub\\\\VGP\\\\output\\\\total_licks_koolaid.png')\n",
    "\n"
   ]
  },
  {
   "cell_type": "markdown",
   "id": "03f6a54a-c485-42bf-b60b-61609591b3e3",
   "metadata": {},
   "source": [
    "## Licks per trial (all)"
   ]
  },
  {
   "cell_type": "markdown",
   "id": "e9ee7afa-36c8-4403-a5be-6be23a4b4549",
   "metadata": {},
   "source": [
    "Baseline"
   ]
  },
  {
   "cell_type": "code",
   "execution_count": 123,
   "id": "bac54d52-de4b-4c48-95a8-f2446425045b",
   "metadata": {},
   "outputs": [],
   "source": [
    "baseline_NR=[]\n",
    "baseline_PR=[]\n",
    "\n",
    "for mouse in mice: \n",
    "    temp_NR=[]\n",
    "    temp_PR=[]\n",
    "    \n",
    "    for key in all_data.keys():\n",
    "        d=all_data[key]\n",
    "        if d['mouse']==mouse and d['solution']=='Baseline'and d['diet']== 'PR':\n",
    "            temp_PR.append(d['licks per trial'])\n",
    "        elif d['mouse']==mouse and d['solution']=='Baseline' and d['diet']== 'NR':\n",
    "            temp_NR.append(d['licks per trial'])\n",
    "\n",
    "                \n",
    "    if len(temp_PR)> 0:\n",
    "        baseline_PR.append(np.mean(temp_PR))\n",
    "    if len(temp_NR)>0:\n",
    "        baseline_NR.append(np.mean(temp_NR))"
   ]
  },
  {
   "cell_type": "code",
   "execution_count": 124,
   "id": "91ad7748-4a04-4152-950c-89e910d02135",
   "metadata": {},
   "outputs": [
    {
     "name": "stdout",
     "output_type": "stream",
     "text": [
      "PR [2.7579476756306023, 7.543081543081542, 19.995951417004047, 10.494548087571344, 21.53663375919474]\n",
      "NR [10.444512195121952, 3.9015969410706255, 10.949343339587243]\n"
     ]
    }
   ],
   "source": [
    "print('PR',baseline_PR)\n",
    "print('NR',baseline_NR)"
   ]
  },
  {
   "cell_type": "markdown",
   "id": "e3fc7e16-0cbd-48ba-a1de-4df5842207cd",
   "metadata": {},
   "source": [
    "Ensure"
   ]
  },
  {
   "cell_type": "code",
   "execution_count": 125,
   "id": "e4bdd428-7558-4571-acc8-d2fc1f8fbc74",
   "metadata": {},
   "outputs": [
    {
     "name": "stdout",
     "output_type": "stream",
     "text": [
      "PR [6.975770218228498, 3.8492424242424246, 5.508072753804462, 8.010920177383591, 15.44890943575154]\n",
      "PRNR [9.738633982820028, 2.4134146341463416, 6.346690590111643, 8.065740740740742, 15.108396858396858]\n",
      "  \n",
      "NR [1.2965645821871752, 4.117405867405867, 5.10534188034188]\n",
      "NRPR [5.859744120613686, 11.449561403508772, 8.755578139114723]\n"
     ]
    }
   ],
   "source": [
    "ensure_NR=[]\n",
    "ensure_PR=[]\n",
    "\n",
    "ensure_NRPR=[]\n",
    "ensure_PRNR=[]\n",
    "\n",
    "\n",
    "for mouse in mice: \n",
    "    temp_NR=[]\n",
    "    temp_PR=[]\n",
    "    \n",
    "    temp_NRPR=[]\n",
    "    temp_PRNR=[]\n",
    "    \n",
    "    for key in all_data.keys():\n",
    "        d=all_data[key]\n",
    "        if d['mouse']==mouse and d['solution']=='Ensure'and d['diet']== 'PR':\n",
    "            temp_PR.append(d['licks per trial'])\n",
    "        elif d['mouse']==mouse and d['solution']=='Ensure' and d['diet']== 'NR':\n",
    "            temp_NR.append(d['licks per trial'])\n",
    "        elif d['mouse']==mouse and d['solution']=='Ensure' and d['diet']== 'PRNR':\n",
    "            temp_PRNR.append(d['licks per trial'])\n",
    "        elif d['mouse']==mouse and d['solution']=='Ensure' and d['diet']== 'NRPR':\n",
    "            temp_NRPR.append(d['licks per trial'])\n",
    "\n",
    "                \n",
    "    if len(temp_PR)> 0:\n",
    "        ensure_PR.append(np.mean(temp_PR))\n",
    "    if len(temp_NR)>0:\n",
    "        ensure_NR.append(np.mean(temp_NR))\n",
    "    if len(temp_PRNR)>0:\n",
    "        ensure_PRNR.append(np.mean(temp_PRNR))\n",
    "    if len(temp_NRPR)>0:\n",
    "        ensure_NRPR.append(np.mean(temp_NRPR))\n",
    "        \n",
    "print('PR',ensure_PR)\n",
    "print('PRNR', ensure_PRNR)\n",
    "print('  ')\n",
    "print('NR',ensure_NR)\n",
    "print('NRPR', ensure_NRPR)"
   ]
  },
  {
   "cell_type": "markdown",
   "id": "e2506c41-27d1-423b-bf6f-9ccae370c8a7",
   "metadata": {},
   "source": [
    "Casein"
   ]
  },
  {
   "cell_type": "code",
   "execution_count": 126,
   "id": "e75b2130-2fbf-49ed-aeaf-673a45e89c35",
   "metadata": {},
   "outputs": [
    {
     "name": "stdout",
     "output_type": "stream",
     "text": [
      "PR [2.7364522417153996, 2.3086303939962476, 2.900877192982456, 4.231435231435231, 4.978778883183568]\n",
      "PRNR [7.753508771929824, 2.4960156802262063, 3.625779625779626, 5.280555555555555, 1.7402027027027027]\n",
      "  \n",
      "NR [1.200404858299595, 1.2601779317604616, 2.537626116573485]\n",
      "NRPR [3.005430242272347, 5.448717948717949, 7.268537768537769]\n"
     ]
    }
   ],
   "source": [
    "cas_NR=[]\n",
    "cas_PR=[]\n",
    "\n",
    "cas_NRPR=[]\n",
    "cas_PRNR=[]\n",
    "\n",
    "\n",
    "for mouse in mice: \n",
    "    temp_NR=[]\n",
    "    temp_PR=[]\n",
    "    \n",
    "    temp_NRPR=[]\n",
    "    temp_PRNR=[]\n",
    "    \n",
    "    for key in all_data.keys():\n",
    "        d=all_data[key]\n",
    "        if d['mouse']==mouse and d['solution']=='Cas'and d['diet']== 'PR':\n",
    "            temp_PR.append(d['licks per trial'])\n",
    "        elif d['mouse']==mouse and d['solution']=='Cas' and d['diet']== 'NR':\n",
    "            temp_NR.append(d['licks per trial'])\n",
    "        elif d['mouse']==mouse and d['solution']=='Cas' and d['diet']== 'PRNR':\n",
    "            temp_PRNR.append(d['licks per trial'])\n",
    "        elif d['mouse']==mouse and d['solution']=='Cas' and d['diet']== 'NRPR':\n",
    "            temp_NRPR.append(d['licks per trial'])\n",
    "\n",
    "                \n",
    "    if len(temp_PR)> 0:\n",
    "        cas_PR.append(np.mean(temp_PR))\n",
    "    if len(temp_NR)>0:\n",
    "        cas_NR.append(np.mean(temp_NR))\n",
    "    if len(temp_PRNR)>0:\n",
    "        cas_PRNR.append(np.mean(temp_PRNR))\n",
    "    if len(temp_NRPR)>0:\n",
    "        cas_NRPR.append(np.mean(temp_NRPR))\n",
    "        \n",
    "        \n",
    "print('PR',cas_PR)\n",
    "print('PRNR', cas_PRNR)\n",
    "print('  ')\n",
    "print('NR',cas_NR)\n",
    "print('NRPR', cas_NRPR)"
   ]
  },
  {
   "cell_type": "markdown",
   "id": "d4750eee-847d-41ce-82f5-13c1ab3ae11e",
   "metadata": {},
   "source": [
    "Maltodextrin"
   ]
  },
  {
   "cell_type": "code",
   "execution_count": 127,
   "id": "67e59a51-e026-4126-a672-8cdc3fa452ba",
   "metadata": {},
   "outputs": [
    {
     "name": "stdout",
     "output_type": "stream",
     "text": [
      "PR [3.5341130604288495, 1.5707317073170735, 2.482905982905983, 3.9434542422347296, 2.9451754385964914]\n",
      "PRNR [4.4558060084375875, 2.1532677848467325, 1.5964714714714714, 2.569337979094077, 2.8080745341614906]\n",
      "  \n",
      "NR [1.5737080103359176, 2.361788617886179, 2.230958230958231]\n",
      "NRPR [1.896049896049896, 1.7040791187132651, 1.04800853485064]\n"
     ]
    }
   ],
   "source": [
    "malt_NR=[]\n",
    "malt_PR=[]\n",
    "\n",
    "malt_NRPR=[]\n",
    "malt_PRNR=[]\n",
    "\n",
    "\n",
    "for mouse in mice: \n",
    "    temp_NR=[]\n",
    "    temp_PR=[]\n",
    "    \n",
    "    temp_NRPR=[]\n",
    "    temp_PRNR=[]\n",
    "    \n",
    "    for key in all_data.keys():\n",
    "        d=all_data[key]\n",
    "        if d['mouse']==mouse and d['solution']=='Malt.'and d['diet']== 'PR':\n",
    "            temp_PR.append(d['licks per trial'])\n",
    "        elif d['mouse']==mouse and d['solution']=='Malt.' and d['diet']== 'NR':\n",
    "            temp_NR.append(d['licks per trial'])\n",
    "        elif d['mouse']==mouse and d['solution']=='Malt.' and d['diet']== 'PRNR':\n",
    "            temp_PRNR.append(d['licks per trial'])\n",
    "        elif d['mouse']==mouse and d['solution']=='Malt.' and d['diet']== 'NRPR':\n",
    "            temp_NRPR.append(d['licks per trial'])\n",
    "\n",
    "                \n",
    "    if len(temp_PR)> 0:\n",
    "        malt_PR.append(np.mean(temp_PR))\n",
    "    if len(temp_NR)>0:\n",
    "        malt_NR.append(np.mean(temp_NR))\n",
    "    if len(temp_PRNR)>0:\n",
    "        malt_PRNR.append(np.mean(temp_PRNR))\n",
    "    if len(temp_NRPR)>0:\n",
    "        malt_NRPR.append(np.mean(temp_NRPR))\n",
    "        \n",
    "print('PR', malt_PR)\n",
    "print('PRNR', malt_PRNR)\n",
    "print('  ')\n",
    "print('NR', malt_NR)\n",
    "print('NRPR', malt_NRPR)"
   ]
  },
  {
   "cell_type": "markdown",
   "id": "1b7784b0-239f-49d3-9385-c696762d751b",
   "metadata": {},
   "source": [
    "## Figures licks per trial"
   ]
  },
  {
   "cell_type": "code",
   "execution_count": 128,
   "id": "95519d88-50ed-42c3-b9e4-8e01f706a20b",
   "metadata": {},
   "outputs": [
    {
     "data": {
      "image/png": "[encoded data removed]",
      "text/plain": [
       "<Figure size 360x720 with 3 Axes>"
      ]
     },
     "metadata": {
      "needs_background": "light"
     },
     "output_type": "display_data"
    }
   ],
   "source": [
    "f,ax=plt.subplots(figsize=(5,10), ncols=1, nrows=3, sharey='row')\n",
    "f.subplots_adjust(wspace=0.15,hspace=0.35, bottom=0.05, left=0.15)\n",
    "\n",
    "colors_E=['Darkgreen','green','black', 'grey']\n",
    "colors_C=['darkblue','blue','black', 'grey']\n",
    "colors_M=['darkred','red','black', 'grey']\n",
    "ax[0]= make_barscatter([[ensure_PR,ensure_PRNR],[ensure_NR,ensure_NRPR]], ax=ax[0], barfacecolor=colors_E)\n",
    "ax[1]= make_barscatter([[cas_PR,cas_PRNR],[cas_NR,cas_NRPR]], ax=ax[1],barfacecolor= colors_C)\n",
    "ax[2] = make_barscatter([[malt_PR,malt_PRNR],[malt_NR,malt_NRPR]], ax=ax[2],barfacecolor= colors_M)\n",
    "\n",
    "\n",
    "\n",
    "ax[0].set_ylabel('Lick per trial',fontsize = 15)\n",
    "ax[0].set_yticks([10,20])\n",
    "ax[0].set_yticklabels([10,20], fontsize = 15)\n",
    "\n",
    "ax[1].set_ylabel('Lick per trial',fontsize = 15)\n",
    "ax[1].set_yticks([5,10])\n",
    "ax[1].set_yticklabels([5,10], fontsize = 15)\n",
    "\n",
    "ax[2].set_ylabel('Lick per trial',fontsize = 15)\n",
    "ax[2].set_yticks([5,10])\n",
    "ax[2].set_yticklabels([5,10], fontsize = 15)\n",
    "\n",
    "ax[0].set_title('Ensure', fontsize =15)\n",
    "ax[1].set_title('Casein', fontsize =15)\n",
    "ax[2].set_title('Maltodextrin', fontsize =15)\n",
    "\n",
    "\n",
    "f.savefig('C:\\\\Users\\\\mko102\\\\GitHub\\\\VGP\\\\output\\\\licks_per_trial.png')"
   ]
  },
  {
   "cell_type": "markdown",
   "id": "f70d623b-e3e3-4d94-a987-a36cf8cb2934",
   "metadata": {},
   "source": [
    "## Number of hit trials"
   ]
  },
  {
   "cell_type": "code",
   "execution_count": 129,
   "id": "d04c65c2-c824-4e11-9e2e-d2ff91c1ac47",
   "metadata": {},
   "outputs": [],
   "source": [
    "baseline_NR=[]\n",
    "baseline_PR=[]\n",
    "\n",
    "for mouse in mice: \n",
    "    temp_NR=[]\n",
    "    temp_PR=[]\n",
    "    \n",
    "    for key in all_data.keys():\n",
    "        d=all_data[key]\n",
    "        if d['mouse']==mouse and d['solution']=='Baseline'and d['diet']== 'PR':\n",
    "            temp_PR.append(d['hit trial'])\n",
    "        elif d['mouse']==mouse and d['solution']=='Baseline' and d['diet']== 'NR':\n",
    "            temp_NR.append(d['hit trial'])\n",
    "\n",
    "                \n",
    "    if len(temp_PR)> 0:\n",
    "        baseline_PR.append(np.mean(temp_PR))\n",
    "    if len(temp_NR)>0:\n",
    "        baseline_NR.append(np.mean(temp_NR))"
   ]
  },
  {
   "cell_type": "code",
   "execution_count": 130,
   "id": "2c289803-36d7-492b-b9ba-c63cb8360d11",
   "metadata": {},
   "outputs": [
    {
     "name": "stdout",
     "output_type": "stream",
     "text": [
      "PR [27.0, 33.333333333333336, 36.666666666666664, 36.333333333333336, 36.666666666666664]\n",
      "NR [31.333333333333332, 18.0, 39.0]\n"
     ]
    }
   ],
   "source": [
    "print('PR',baseline_PR)\n",
    "print('NR',baseline_NR)"
   ]
  },
  {
   "cell_type": "markdown",
   "id": "9602581a-3017-4730-8500-3a3d01bdb1e6",
   "metadata": {},
   "source": [
    "Ensure"
   ]
  },
  {
   "cell_type": "code",
   "execution_count": 131,
   "id": "7ca0ea8b-0cb9-455c-b0f2-d7fb80b4ad21",
   "metadata": {},
   "outputs": [
    {
     "name": "stdout",
     "output_type": "stream",
     "text": [
      "PR [26.333333333333332, 21.0, 24.0, 40.333333333333336, 35.0]\n",
      "PRNR [39.333333333333336, 7.666666666666667, 29.0, 28.333333333333332, 35.0]\n",
      "  \n",
      "NR [12.333333333333334, 22.333333333333332, 27.333333333333332]\n",
      "NRPR [31.0, 35.333333333333336, 36.0]\n"
     ]
    }
   ],
   "source": [
    "ensure_NR=[]\n",
    "ensure_PR=[]\n",
    "\n",
    "ensure_NRPR=[]\n",
    "ensure_PRNR=[]\n",
    "\n",
    "\n",
    "for mouse in mice: \n",
    "    temp_NR=[]\n",
    "    temp_PR=[]\n",
    "    \n",
    "    temp_NRPR=[]\n",
    "    temp_PRNR=[]\n",
    "    \n",
    "    for key in all_data.keys():\n",
    "        d=all_data[key]\n",
    "        if d['mouse']==mouse and d['solution']=='Ensure'and d['diet']== 'PR':\n",
    "            temp_PR.append(d['hit trial'])\n",
    "        elif d['mouse']==mouse and d['solution']=='Ensure' and d['diet']== 'NR':\n",
    "            temp_NR.append(d['hit trial'])\n",
    "        elif d['mouse']==mouse and d['solution']=='Ensure' and d['diet']== 'PRNR':\n",
    "            temp_PRNR.append(d['hit trial'])\n",
    "        elif d['mouse']==mouse and d['solution']=='Ensure' and d['diet']== 'NRPR':\n",
    "            temp_NRPR.append(d['hit trial'])\n",
    "\n",
    "                \n",
    "    if len(temp_PR)> 0:\n",
    "        ensure_PR.append(np.mean(temp_PR))\n",
    "    if len(temp_NR)>0:\n",
    "        ensure_NR.append(np.mean(temp_NR))\n",
    "    if len(temp_PRNR)>0:\n",
    "        ensure_PRNR.append(np.mean(temp_PRNR))\n",
    "    if len(temp_NRPR)>0:\n",
    "        ensure_NRPR.append(np.mean(temp_NRPR))\n",
    "        \n",
    "print('PR',ensure_PR)\n",
    "print('PRNR', ensure_PRNR)\n",
    "print('  ')\n",
    "print('NR',ensure_NR)\n",
    "print('NRPR', ensure_NRPR)"
   ]
  },
  {
   "cell_type": "markdown",
   "id": "85643fd9-6a3b-48be-b51b-e4c8b56b3887",
   "metadata": {},
   "source": [
    "Casein"
   ]
  },
  {
   "cell_type": "code",
   "execution_count": 132,
   "id": "32a5090c-5596-4053-84ad-f72eb927935e",
   "metadata": {},
   "outputs": [
    {
     "name": "stdout",
     "output_type": "stream",
     "text": [
      "PR [17.666666666666668, 12.666666666666666, 15.333333333333334, 21.333333333333332, 22.0]\n",
      "PRNR [38.666666666666664, 9.666666666666666, 24.0, 10.5, 17.0]\n",
      "  \n",
      "NR [11.333333333333334, 12.333333333333334, 17.333333333333332]\n",
      "NRPR [17.0, 29.666666666666668, 29.0]\n"
     ]
    }
   ],
   "source": [
    "cas_NR=[]\n",
    "cas_PR=[]\n",
    "\n",
    "cas_NRPR=[]\n",
    "cas_PRNR=[]\n",
    "\n",
    "\n",
    "for mouse in mice: \n",
    "    temp_NR=[]\n",
    "    temp_PR=[]\n",
    "    \n",
    "    temp_NRPR=[]\n",
    "    temp_PRNR=[]\n",
    "    \n",
    "    for key in all_data.keys():\n",
    "        d=all_data[key]\n",
    "        if d['mouse']==mouse and d['solution']=='Cas'and d['diet']== 'PR':\n",
    "            temp_PR.append(d['hit trial'])\n",
    "        elif d['mouse']==mouse and d['solution']=='Cas' and d['diet']== 'NR':\n",
    "            temp_NR.append(d['hit trial'])\n",
    "        elif d['mouse']==mouse and d['solution']=='Cas' and d['diet']== 'PRNR':\n",
    "            temp_PRNR.append(d['hit trial'])\n",
    "        elif d['mouse']==mouse and d['solution']=='Cas' and d['diet']== 'NRPR':\n",
    "            temp_NRPR.append(d['hit trial'])\n",
    "\n",
    "                \n",
    "    if len(temp_PR)> 0:\n",
    "        cas_PR.append(np.mean(temp_PR))\n",
    "    if len(temp_NR)>0:\n",
    "        cas_NR.append(np.mean(temp_NR))\n",
    "    if len(temp_PRNR)>0:\n",
    "        cas_PRNR.append(np.mean(temp_PRNR))\n",
    "    if len(temp_NRPR)>0:\n",
    "        cas_NRPR.append(np.mean(temp_NRPR))\n",
    "        \n",
    "        \n",
    "print('PR',cas_PR)\n",
    "print('PRNR', cas_PRNR)\n",
    "print('  ')\n",
    "print('NR',cas_NR)\n",
    "print('NRPR', cas_NRPR)"
   ]
  },
  {
   "cell_type": "markdown",
   "id": "2f3f2efd-0d29-4d19-8740-217a1ead4c04",
   "metadata": {},
   "source": [
    "Maltodextrin"
   ]
  },
  {
   "cell_type": "code",
   "execution_count": 133,
   "id": "8c33a3ef-3472-4aa1-b927-bd8a41d3a3c4",
   "metadata": {},
   "outputs": [
    {
     "name": "stdout",
     "output_type": "stream",
     "text": [
      "PR [18.666666666666668, 12.666666666666666, 14.0, 23.333333333333332, 14.333333333333334]\n",
      "PRNR [27.333333333333332, 19.0, 13.5, 19.5, 16.5]\n",
      "  \n",
      "NR [18.666666666666668, 17.0, 13.333333333333334]\n",
      "NRPR [16.0, 21.0, 11.5]\n"
     ]
    }
   ],
   "source": [
    "malt_NR=[]\n",
    "malt_PR=[]\n",
    "\n",
    "malt_NRPR=[]\n",
    "malt_PRNR=[]\n",
    "\n",
    "\n",
    "for mouse in mice: \n",
    "    temp_NR=[]\n",
    "    temp_PR=[]\n",
    "    \n",
    "    temp_NRPR=[]\n",
    "    temp_PRNR=[]\n",
    "    \n",
    "    for key in all_data.keys():\n",
    "        d=all_data[key]\n",
    "        if d['mouse']==mouse and d['solution']=='Malt.'and d['diet']== 'PR':\n",
    "            temp_PR.append(d['hit trial'])\n",
    "        elif d['mouse']==mouse and d['solution']=='Malt.' and d['diet']== 'NR':\n",
    "            temp_NR.append(d['hit trial'])\n",
    "        elif d['mouse']==mouse and d['solution']=='Malt.' and d['diet']== 'PRNR':\n",
    "            temp_PRNR.append(d['hit trial'])\n",
    "        elif d['mouse']==mouse and d['solution']=='Malt.' and d['diet']== 'NRPR':\n",
    "            temp_NRPR.append(d['hit trial'])\n",
    "\n",
    "                \n",
    "    if len(temp_PR)> 0:\n",
    "        malt_PR.append(np.mean(temp_PR))\n",
    "    if len(temp_NR)>0:\n",
    "        malt_NR.append(np.mean(temp_NR))\n",
    "    if len(temp_PRNR)>0:\n",
    "        malt_PRNR.append(np.mean(temp_PRNR))\n",
    "    if len(temp_NRPR)>0:\n",
    "        malt_NRPR.append(np.mean(temp_NRPR))\n",
    "        \n",
    "print('PR', malt_PR)\n",
    "print('PRNR', malt_PRNR)\n",
    "print('  ')\n",
    "print('NR', malt_NR)\n",
    "print('NRPR', malt_NRPR)"
   ]
  },
  {
   "cell_type": "markdown",
   "id": "a6ebde44-7f49-4d59-81f2-e116b8370282",
   "metadata": {},
   "source": [
    "## Figures licks per trial"
   ]
  },
  {
   "cell_type": "code",
   "execution_count": 135,
   "id": "0c6f8f4b-70a6-4d63-8165-9c3aaeda61a9",
   "metadata": {},
   "outputs": [
    {
     "data": {
      "image/png": "[encoded data removed]",
      "text/plain": [
       "<Figure size 360x720 with 3 Axes>"
      ]
     },
     "metadata": {
      "needs_background": "light"
     },
     "output_type": "display_data"
    }
   ],
   "source": [
    "f,ax=plt.subplots(figsize=(5,10), ncols=1, nrows=3, sharey='row')\n",
    "f.subplots_adjust(wspace=0.15,hspace=0.35, bottom=0.05, left=0.15)\n",
    "\n",
    "colors_E=['Darkgreen','green','black', 'grey']\n",
    "colors_C=['darkblue','blue','black', 'grey']\n",
    "colors_M=['darkred','red','black', 'grey']\n",
    "ax[0]= make_barscatter([[ensure_PR,ensure_PRNR],[ensure_NR,ensure_NRPR]], ax=ax[0], barfacecolor=colors_E)\n",
    "ax[1]= make_barscatter([[cas_PR,cas_PRNR],[cas_NR,cas_NRPR]], ax=ax[1],barfacecolor= colors_C)\n",
    "ax[2] = make_barscatter([[malt_PR,malt_PRNR],[malt_NR,malt_NRPR]], ax=ax[2],barfacecolor= colors_M)\n",
    "\n",
    "\n",
    "\n",
    "ax[0].set_ylabel('# hit trials',fontsize = 15)\n",
    "ax[0].set_yticks([10,20,30,40])\n",
    "ax[0].set_yticklabels([10,20,30,40], fontsize = 15)\n",
    "\n",
    "ax[1].set_ylabel('# hit trials',fontsize = 15)\n",
    "ax[1].set_yticks([10,20,30,40])\n",
    "ax[1].set_yticklabels([10,20,30,40], fontsize = 15)\n",
    "\n",
    "ax[2].set_ylabel('# hit trials',fontsize = 15)\n",
    "ax[2].set_yticks([10,20,30,40])\n",
    "ax[2].set_yticklabels([10,20,30,40], fontsize = 15)\n",
    "\n",
    "ax[0].set_title('Ensure', fontsize =15)\n",
    "ax[1].set_title('Casein', fontsize =15)\n",
    "ax[2].set_title('Maltodextrin', fontsize =15)\n",
    "\n",
    "\n",
    "f.savefig('C:\\\\Users\\\\mko102\\\\GitHub\\\\VGP\\\\output\\\\lick_hit_trial.png')"
   ]
  },
  {
   "cell_type": "markdown",
   "id": "10d67a35-d7c6-4268-a214-d5641071f36c",
   "metadata": {},
   "source": [
    "## Latency to first lick"
   ]
  },
  {
   "cell_type": "code",
   "execution_count": 136,
   "id": "03c506b1-45f2-4a21-8ba0-0bd5b06e58d5",
   "metadata": {},
   "outputs": [],
   "source": [
    "baseline_NR=[]\n",
    "baseline_PR=[]\n",
    "\n",
    "for mouse in mice: \n",
    "    temp_NR=[]\n",
    "    temp_PR=[]\n",
    "    \n",
    "    for key in all_data.keys():\n",
    "        d=all_data[key]\n",
    "        if d['mouse']==mouse and d['solution']=='Baseline'and d['diet']== 'PR':\n",
    "            temp_PR.append(d['latency'])\n",
    "        elif d['mouse']==mouse and d['solution']=='Baseline' and d['diet']== 'NR':\n",
    "            temp_NR.append(d['latency'])\n",
    "\n",
    "                \n",
    "    if len(temp_PR)> 0:\n",
    "        baseline_PR.append(np.mean(temp_PR))\n",
    "    if len(temp_NR)>0:\n",
    "        baseline_NR.append(np.mean(temp_NR))"
   ]
  },
  {
   "cell_type": "code",
   "execution_count": 137,
   "id": "bcea2536-5c5c-42f3-9e94-7bac47dd4cc3",
   "metadata": {},
   "outputs": [
    {
     "name": "stdout",
     "output_type": "stream",
     "text": [
      "PR [28.75308641975309, 23.156555525435977, 22.979468942626838, 22.08265934607398, 19.81091617933723]\n",
      "NR [23.3158670597695, 35.688795518207286, 20.188061617458278]\n"
     ]
    }
   ],
   "source": [
    "print('PR',baseline_PR)\n",
    "print('NR',baseline_NR)"
   ]
  },
  {
   "cell_type": "markdown",
   "id": "9a8fc5f0-6432-4234-bb19-6ed46a65374d",
   "metadata": {},
   "source": [
    "Ensure"
   ]
  },
  {
   "cell_type": "code",
   "execution_count": 138,
   "id": "37fd3203-e289-4807-89c1-3e5689949851",
   "metadata": {},
   "outputs": [
    {
     "name": "stdout",
     "output_type": "stream",
     "text": [
      "PR [28.44069069069069, 29.86538241027405, 23.093177093177093, 26.507723577235776, 19.030550514216575]\n",
      "PRNR [26.597423004399747, 29.88888888888889, 29.407692307692304, 28.07794427794428, 20.378736827012688]\n",
      "  \n",
      "NR [29.8, 37.53402777777777, 23.77977747332586]\n",
      "NRPR [31.951992753623188, 26.547953216374268, 26.32146603724102]\n"
     ]
    }
   ],
   "source": [
    "ensure_NR=[]\n",
    "ensure_PR=[]\n",
    "\n",
    "ensure_NRPR=[]\n",
    "ensure_PRNR=[]\n",
    "\n",
    "\n",
    "for mouse in mice: \n",
    "    temp_NR=[]\n",
    "    temp_PR=[]\n",
    "    \n",
    "    temp_NRPR=[]\n",
    "    temp_PRNR=[]\n",
    "    \n",
    "    for key in all_data.keys():\n",
    "        d=all_data[key]\n",
    "        if d['mouse']==mouse and d['solution']=='Ensure'and d['diet']== 'PR':\n",
    "            temp_PR.append(d['latency'])\n",
    "        elif d['mouse']==mouse and d['solution']=='Ensure' and d['diet']== 'NR':\n",
    "            temp_NR.append(d['latency'])\n",
    "        elif d['mouse']==mouse and d['solution']=='Ensure' and d['diet']== 'PRNR':\n",
    "            temp_PRNR.append(d['latency'])\n",
    "        elif d['mouse']==mouse and d['solution']=='Ensure' and d['diet']== 'NRPR':\n",
    "            temp_NRPR.append(d['latency'])\n",
    "\n",
    "                \n",
    "    if len(temp_PR)> 0:\n",
    "        ensure_PR.append(np.mean(temp_PR))\n",
    "    if len(temp_NR)>0:\n",
    "        ensure_NR.append(np.mean(temp_NR))\n",
    "    if len(temp_PRNR)>0:\n",
    "        ensure_PRNR.append(np.mean(temp_PRNR))\n",
    "    if len(temp_NRPR)>0:\n",
    "        ensure_NRPR.append(np.mean(temp_NRPR))\n",
    "        \n",
    "print('PR',ensure_PR)\n",
    "print('PRNR', ensure_PRNR)\n",
    "print('  ')\n",
    "print('NR',ensure_NR)\n",
    "print('NRPR', ensure_NRPR)"
   ]
  },
  {
   "cell_type": "markdown",
   "id": "2a743f39-c4b2-40f9-af81-23184a1d565c",
   "metadata": {},
   "source": [
    "Casein"
   ]
  },
  {
   "cell_type": "code",
   "execution_count": 139,
   "id": "63d8c44d-70b4-40fc-aa8c-9668ec43975d",
   "metadata": {},
   "outputs": [
    {
     "name": "stdout",
     "output_type": "stream",
     "text": [
      "PR [35.41020114942528, 34.125, 33.15299773755657, 40.4324074074074, 29.187207602339182]\n",
      "PRNR [31.890902667373258, 30.24848484848485, 42.02182163187856, 27.39285714285714, 37.36363636363636]\n",
      "  \n",
      "NR [28.191666666666666, 44.989417989417994, 27.41956043956044]\n",
      "NRPR [39.520880632954935, 38.17266067266067, 27.316363636363636]\n"
     ]
    }
   ],
   "source": [
    "cas_NR=[]\n",
    "cas_PR=[]\n",
    "\n",
    "cas_NRPR=[]\n",
    "cas_PRNR=[]\n",
    "\n",
    "\n",
    "for mouse in mice: \n",
    "    temp_NR=[]\n",
    "    temp_PR=[]\n",
    "    \n",
    "    temp_NRPR=[]\n",
    "    temp_PRNR=[]\n",
    "    \n",
    "    for key in all_data.keys():\n",
    "        d=all_data[key]\n",
    "        if d['mouse']==mouse and d['solution']=='Cas'and d['diet']== 'PR':\n",
    "            temp_PR.append(d['latency'])\n",
    "        elif d['mouse']==mouse and d['solution']=='Cas' and d['diet']== 'NR':\n",
    "            temp_NR.append(d['latency'])\n",
    "        elif d['mouse']==mouse and d['solution']=='Cas' and d['diet']== 'PRNR':\n",
    "            temp_PRNR.append(d['latency'])\n",
    "        elif d['mouse']==mouse and d['solution']=='Cas' and d['diet']== 'NRPR':\n",
    "            temp_NRPR.append(d['latency'])\n",
    "\n",
    "                \n",
    "    if len(temp_PR)> 0:\n",
    "        cas_PR.append(np.mean(temp_PR))\n",
    "    if len(temp_NR)>0:\n",
    "        cas_NR.append(np.mean(temp_NR))\n",
    "    if len(temp_PRNR)>0:\n",
    "        cas_PRNR.append(np.mean(temp_PRNR))\n",
    "    if len(temp_NRPR)>0:\n",
    "        cas_NRPR.append(np.mean(temp_NRPR))\n",
    "        \n",
    "        \n",
    "print('PR',cas_PR)\n",
    "print('PRNR', cas_PRNR)\n",
    "print('  ')\n",
    "print('NR',cas_NR)\n",
    "print('NRPR', cas_NRPR)"
   ]
  },
  {
   "cell_type": "markdown",
   "id": "7bcc64fa-12c6-4b4b-b6dd-a739f97f3d0a",
   "metadata": {},
   "source": [
    "Maltodextrin"
   ]
  },
  {
   "cell_type": "code",
   "execution_count": 140,
   "id": "a4e3b5d4-69f1-473d-90b9-cbdc7c4c81e0",
   "metadata": {},
   "outputs": [
    {
     "name": "stdout",
     "output_type": "stream",
     "text": [
      "PR [27.145146520146522, 40.031590413943356, 30.694444444444443, 26.46385640025991, 37.738344988344984]\n",
      "PRNR [27.333333333333332, 19.0, 13.5, 19.5, 16.5]\n",
      "  \n",
      "NR [28.71759259259259, 33.21969696969697, 37.299572649572646]\n",
      "NRPR [30.745238095238097, 24.871794871794872, 22.53333333333333]\n"
     ]
    }
   ],
   "source": [
    "malt_NR=[]\n",
    "malt_PR=[]\n",
    "\n",
    "malt_NRPR=[]\n",
    "malt_PRNR=[]\n",
    "\n",
    "\n",
    "for mouse in mice: \n",
    "    temp_NR=[]\n",
    "    temp_PR=[]\n",
    "    \n",
    "    temp_NRPR=[]\n",
    "    temp_PRNR=[]\n",
    "    \n",
    "    for key in all_data.keys():\n",
    "        d=all_data[key]\n",
    "        if d['mouse']==mouse and d['solution']=='Malt.'and d['diet']== 'PR':\n",
    "            temp_PR.append(d['latency'])\n",
    "        elif d['mouse']==mouse and d['solution']=='Malt.' and d['diet']== 'NR':\n",
    "            temp_NR.append(d['latency'])\n",
    "        elif d['mouse']==mouse and d['solution']=='Malt.' and d['diet']== 'PRNR':\n",
    "            temp_PRNR.append(d['hit trial'])\n",
    "        elif d['mouse']==mouse and d['solution']=='Malt.' and d['diet']== 'NRPR':\n",
    "            temp_NRPR.append(d['latency'])\n",
    "\n",
    "                \n",
    "    if len(temp_PR)> 0:\n",
    "        malt_PR.append(np.mean(temp_PR))\n",
    "    if len(temp_NR)>0:\n",
    "        malt_NR.append(np.mean(temp_NR))\n",
    "    if len(temp_PRNR)>0:\n",
    "        malt_PRNR.append(np.mean(temp_PRNR))\n",
    "    if len(temp_NRPR)>0:\n",
    "        malt_NRPR.append(np.mean(temp_NRPR))\n",
    "        \n",
    "print('PR', malt_PR)\n",
    "print('PRNR', malt_PRNR)\n",
    "print('  ')\n",
    "print('NR', malt_NR)\n",
    "print('NRPR', malt_NRPR)"
   ]
  },
  {
   "cell_type": "markdown",
   "id": "aaaaefbf-d7cc-48e5-89d2-ecb465d6cd32",
   "metadata": {},
   "source": [
    "## Figures Latency"
   ]
  },
  {
   "cell_type": "code",
   "execution_count": 141,
   "id": "65625cb6-9a3f-47ad-bffc-571fd78126fc",
   "metadata": {},
   "outputs": [
    {
     "data": {
      "image/png": "[encoded data removed]",
      "text/plain": [
       "<Figure size 360x720 with 3 Axes>"
      ]
     },
     "metadata": {
      "needs_background": "light"
     },
     "output_type": "display_data"
    }
   ],
   "source": [
    "f,ax=plt.subplots(figsize=(5,10), ncols=1, nrows=3, sharey='row')\n",
    "f.subplots_adjust(wspace=0.15,hspace=0.35, bottom=0.05, left=0.15)\n",
    "\n",
    "colors_E=['Darkgreen','green','black', 'grey']\n",
    "colors_C=['darkblue','blue','black', 'grey']\n",
    "colors_M=['darkred','red','black', 'grey']\n",
    "ax[0]= make_barscatter([[ensure_PR,ensure_PRNR],[ensure_NR,ensure_NRPR]], ax=ax[0], barfacecolor=colors_E)\n",
    "ax[1]= make_barscatter([[cas_PR,cas_PRNR],[cas_NR,cas_NRPR]], ax=ax[1],barfacecolor= colors_C)\n",
    "ax[2] = make_barscatter([[malt_PR,malt_PRNR],[malt_NR,malt_NRPR]], ax=ax[2],barfacecolor= colors_M)\n",
    "\n",
    "\n",
    "\n",
    "ax[0].set_ylabel('Latency (sec)',fontsize = 15)\n",
    "ax[0].set_yticks([10,20,30,40,50])\n",
    "ax[0].set_yticklabels([1,2,3,4,5], fontsize = 15)\n",
    "\n",
    "ax[1].set_ylabel('Latency (sec)',fontsize = 15)\n",
    "ax[1].set_yticks([10,20,30,40,50])\n",
    "ax[1].set_yticklabels([1,2,3,4,5], fontsize = 15)\n",
    "\n",
    "ax[2].set_ylabel('Latency (sec)',fontsize = 15)\n",
    "ax[2].set_yticks([10,20,30,40,50])\n",
    "ax[2].set_yticklabels([1,2,3,4,5], fontsize = 15)\n",
    "\n",
    "ax[0].set_title('Ensure', fontsize =15)\n",
    "ax[1].set_title('Casein', fontsize =15)\n",
    "ax[2].set_title('Maltodextrin', fontsize =15)\n",
    "\n",
    "\n",
    "f.savefig('C:\\\\Users\\\\mko102\\\\GitHub\\\\VGP\\\\output\\\\latency.png')"
   ]
  },
  {
   "cell_type": "code",
   "execution_count": null,
   "id": "fe5d3a4e-4c0b-47f5-86cf-8f9af9003922",
   "metadata": {},
   "outputs": [],
   "source": []
  }
 ],
 "metadata": {
  "kernelspec": {
   "display_name": "Python 3",
   "language": "python",
   "name": "python3"
  },
  "language_info": {
   "codemirror_mode": {
    "name": "ipython",
    "version": 3
   },
   "file_extension": ".py",
   "mimetype": "text/x-python",
   "name": "python",
   "nbconvert_exporter": "python",
   "pygments_lexer": "ipython3",
   "version": "3.8.8"
  }
 },
 "nbformat": 4,
 "nbformat_minor": 5
}
