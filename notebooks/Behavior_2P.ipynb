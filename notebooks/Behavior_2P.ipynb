{
 "cells": [
  {
   "cell_type": "markdown",
   "id": "76c530f6-6fc3-4a23-9f84-a042a26ab9bc",
   "metadata": {},
   "source": [
    "## Imports"
   ]
  },
  {
   "cell_type": "code",
   "execution_count": 1,
   "id": "8f6724f0-a833-4285-baf4-9f38b22d2cbb",
   "metadata": {},
   "outputs": [],
   "source": [
    "import csv\n",
    "import matplotlib.pyplot as plt\n",
    "\n",
    "import numpy as np\n",
    "import trompy as tp\n",
    "from datetime import datetime\n",
    "import pandas as pd\n",
    "\n",
    "%matplotlib inline\n",
    "\n",
    "\n",
    "from scipy import stats"
   ]
  },
  {
   "cell_type": "code",
   "execution_count": 2,
   "id": "6f5ead6c-98d3-4752-babf-e6ee9315db81",
   "metadata": {},
   "outputs": [],
   "source": [
    "def extract_event_fn(filename): \n",
    "    '''\n",
    "    function to extract framenumber of events (licks and pump_on) in framenumber\n",
    "    \n",
    "    args\n",
    "    filename - string \n",
    "    \n",
    "    returns \n",
    "    licks_fn - lits of integers\n",
    "        framenumber of licks\n",
    "    pump_on_fn - list of integers \n",
    "        framenumber when pump turns on\n",
    "    \n",
    "    '''\n",
    "    df= pd.read_csv(filename)\n",
    "    \n",
    "    #Extracts pump on framenumber\n",
    "    pump_fn = list(df[df['Item1'] == 'pump_on']['Item2.Item2'])\n",
    "    \n",
    "    \n",
    "    #Extracts licks framenumber\n",
    "    licks_fn = list (df[df['Item1']== 'Lick']['Item2.Item2'])\n",
    "\n",
    "      \n",
    "    return pump_fn, licks_fn\n",
    "        \n"
   ]
  },
  {
   "cell_type": "code",
   "execution_count": 3,
   "id": "5ab60faf-2a32-46eb-ae33-a4ff4c241d57",
   "metadata": {},
   "outputs": [],
   "source": [
    "def get_hit_miss_trial (pump_fn, licks_fn): \n",
    "    '''\n",
    "    function to get hit and miss trials\n",
    "    \n",
    "    arg \n",
    "    pump_fn - list of integers\n",
    "        framenumber for when the pump turns on \n",
    "    licks_fn - list of integers\n",
    "        framenumber for all licks\n",
    "    triallenght - int float (optional, default set to 100 frames (10sec))\n",
    "    \n",
    "    returns \n",
    "    hit_trial - list of int \n",
    "        pump on frame number in hit trials (lick > 0)\n",
    "    miss_trial - list of int \n",
    "        pump on frame number in missed trials (lick = 0)\n",
    "    \n",
    "    '''\n",
    "    hit_trial=[]\n",
    "    miss_trial=[]\n",
    "    for p in pump_fn: \n",
    "        temp=[]\n",
    "        for lick in licks_fn: \n",
    "            if lick > p and lick < p + 100: \n",
    "                temp.append(lick)\n",
    "            \n",
    "        if len(temp)> 0:\n",
    "            hit_trial.append(p)\n",
    "        if len(temp) == 0: \n",
    "            miss_trial.append(p)\n",
    "    return hit_trial, miss_trial"
   ]
  },
  {
   "cell_type": "code",
   "execution_count": 4,
   "id": "8ab8d7ef-0fb6-47fb-9063-8fb2cfeb538f",
   "metadata": {},
   "outputs": [],
   "source": [
    "def get_licks_trial (pump_fn, licks_fn, triallength=100):\n",
    "    '''\n",
    "    function to get licks within one trial \n",
    "    licks aligned to pump on (pump_fn)\n",
    "    \n",
    "    arg \n",
    "    pump_fn - list of integers\n",
    "        framenumber for when the pump turns on \n",
    "    licks_fn - list of integers\n",
    "        framenumber for all licks\n",
    "    triallenght - int float (optional, default set to 100 frames (10sec))\n",
    "    \n",
    "    returns \n",
    "    licks_trial - list of list of integers\n",
    "        list of all licks in all trials aligned to pump on (in frames)\n",
    "    licks_all_trial - list of integers\n",
    "        number of licks of each trial \n",
    "    licks_hit_trial - list of integers \n",
    "        number of licks per trial for hit trials \n",
    "    latency - list of integers\n",
    "        latency to first lick after pump on (in frames)\n",
    "        \n",
    "    \n",
    "    '''\n",
    "\n",
    "    # All licks aligned to pump on \n",
    "    licks_trial=[]\n",
    "    for p in pump_fn:\n",
    "        temp=[]\n",
    "        for lick in licks_fn: \n",
    "            if lick > p and lick < p + 100:\n",
    "                temp.append(lick - p)\n",
    "        licks_trial.append(temp)\n",
    "        \n",
    "        \n",
    "    #licks per trial (all and hit trials) aligned to pump on \n",
    "    licks_all_trial=[]\n",
    "    licks_hit_trial=[]\n",
    "    for trial in licks_trial: \n",
    "        licks_all_trial.append(len(trial))\n",
    "        if len(trial) > 0: \n",
    "            licks_hit_trial.append(len(trial))\n",
    "            \n",
    "            \n",
    "    #Latency to first lick after pump on\n",
    "    temp_latency=[]\n",
    "    for trial in licks_trial:\n",
    "        if len(trial) > 0: \n",
    "            temp_latency.append(trial[:1])\n",
    "    \n",
    "    latency=[trial for sublist in temp_latency for trial in sublist] #List comprehension to convert list of lists to flat list     \n",
    "            \n",
    "        \n",
    "    return licks_trial, licks_all_trial, licks_hit_trial, latency"
   ]
  },
  {
   "cell_type": "markdown",
   "id": "e51167f9-0123-4f78-88e0-0fa43f98e971",
   "metadata": {},
   "source": [
    "## Metafile reader"
   ]
  },
  {
   "cell_type": "code",
   "execution_count": 5,
   "id": "98fc912a-3bc0-48da-933c-20cd468c0ec2",
   "metadata": {},
   "outputs": [
    {
     "name": "stdout",
     "output_type": "stream",
     "text": [
      "File is excel file. Making csv metafile first\n"
     ]
    }
   ],
   "source": [
    "rows,header=tp.metafilereader('C:\\\\Users\\\\mko102\\\\UiT Office 365\\\\O365-Pipette 2 - Dokumenter\\\\People\\\\Mette\\\\GitHub\\\\2P\\\\Metafile_VGP2.2.xls',sheetname='Behavior')\n",
    "folder= 'C:\\\\Users\\\\mko102\\\\UiT Office 365\\\\O365-Pipette 2 - Dokumenter\\\\People\\\\Mette\\\\GitHub\\\\2P\\\\VGP2\\\\Bonsai\\\\'"
   ]
  },
  {
   "cell_type": "markdown",
   "id": "1631ce72-23a7-468a-bc34-fdb6ab427fa1",
   "metadata": {},
   "source": [
    "## Dictionary"
   ]
  },
  {
   "cell_type": "code",
   "execution_count": 6,
   "id": "68148ca4-ed59-4b35-8fff-26ddfeaaf66f",
   "metadata": {},
   "outputs": [],
   "source": [
    "all_data={}\n",
    "\n",
    "for row in rows: \n",
    "    try:\n",
    "        key=row[0]+ '_' + row[4]\n",
    "    \n",
    "        pump_fn, licks_fn = extract_event_fn(folder+row[1])\n",
    "        hit_trial, miss_trial = get_hit_miss_trial(pump_fn, licks_fn)\n",
    "        licks_trial, licks_all_trial, licks_hit_trial, latency = get_licks_trial(pump_fn, licks_fn)\n",
    "        \n",
    "    \n",
    "        all_data[key]={}\n",
    "\n",
    "        all_data[key]['mouse']=row[0]\n",
    "        all_data[key]['diet']=row[7]\n",
    "        all_data[key]['solution']=row[8]\n",
    "    \n",
    "#         all_data[key]['file']=row[1]\n",
    "#         all_data[key]['licks_fn']= licks_fn\n",
    "#         all_data[key]['pump_fn']= pump_fn\n",
    "#         all_data[key]['licks trial']= licks_trial\n",
    "        all_data[key]['number of trials']=len(pump_fn)\n",
    "        all_data[key]['total licks']=len(licks_fn)\n",
    "        all_data[key]['hit trial'] = len(hit_trial)\n",
    "        all_data[key]['miss trials']= len(miss_trial)\n",
    "        all_data[key]['licks per trial']= np.mean(licks_all_trial)\n",
    "        all_data[key]['licks hit trial']= np.mean(licks_hit_trial)\n",
    "        all_data[key]['latency']= np.mean(latency)\n",
    "    \n",
    "        \n",
    "    except FileNotFoundError: \n",
    "        print('Cannot find file for', key)"
   ]
  },
  {
   "cell_type": "code",
   "execution_count": null,
   "id": "865a50ba-a3bd-4780-9cc4-bec865d35b5b",
   "metadata": {
    "tags": []
   },
   "outputs": [],
   "source": []
  },
  {
   "cell_type": "markdown",
   "id": "99d66709-a4f2-4ee3-9bb1-19d6467d6689",
   "metadata": {},
   "source": [
    "# Making groups and figures"
   ]
  },
  {
   "cell_type": "code",
   "execution_count": 17,
   "id": "c439d43d-3bd7-4627-b4a3-fb78a9d5ea9d",
   "metadata": {},
   "outputs": [
    {
     "data": {
      "text/plain": [
       "['VGP118',\n",
       " 'VGP202',\n",
       " 'VGP203',\n",
       " 'VGP204',\n",
       " 'VGP302',\n",
       " 'VGP305',\n",
       " 'VGP310',\n",
       " 'VGP306',\n",
       " 'VGP307']"
      ]
     },
     "execution_count": 17,
     "metadata": {},
     "output_type": "execute_result"
    }
   ],
   "source": [
    "mice=[]\n",
    "\n",
    "for key in all_data.keys(): \n",
    "    d=all_data[key]\n",
    "    mouseid=d['mouse']\n",
    "    if mouseid not in mice: mice.append(mouseid)\n",
    "        \n",
    "mice"
   ]
  },
  {
   "cell_type": "markdown",
   "id": "7702743b-cb50-4b7b-bb3a-e98ffa50247c",
   "metadata": {
    "tags": []
   },
   "source": [
    "## Total number of licks"
   ]
  },
  {
   "cell_type": "markdown",
   "id": "d646a070-d617-4465-b780-10c3b065f250",
   "metadata": {},
   "source": [
    "Baseline"
   ]
  },
  {
   "cell_type": "code",
   "execution_count": 18,
   "id": "a8b475f6-f405-4982-a1a3-7728721803c7",
   "metadata": {},
   "outputs": [],
   "source": [
    "baseline_NR=[]\n",
    "baseline_PR=[]\n",
    "\n",
    "for mouse in mice: \n",
    "    temp_NR=[]\n",
    "    temp_PR=[]\n",
    "    \n",
    "    for key in all_data.keys():\n",
    "        d=all_data[key]\n",
    "        if d['mouse']==mouse and d['solution']=='Baseline'and d['diet']== 'PR':\n",
    "            temp_PR.append(d['total licks'])\n",
    "        elif d['mouse']==mouse and d['solution']=='Baseline' and d['diet']== 'NR':\n",
    "            temp_NR.append(d['total licks'])\n",
    "\n",
    "                \n",
    "    if len(temp_PR)> 0:\n",
    "        baseline_PR.append(np.mean(temp_PR))\n",
    "    if len(temp_NR)>0:\n",
    "        baseline_NR.append(np.mean(temp_NR))"
   ]
  },
  {
   "cell_type": "code",
   "execution_count": 19,
   "id": "ed8bd3e6-c5b8-4550-8b81-547ca9ac4beb",
   "metadata": {},
   "outputs": [
    {
     "name": "stdout",
     "output_type": "stream",
     "text": [
      "PR [309.3333333333333, 626.3333333333334, 1617.3333333333333, 1008.6666666666666, 1933.0]\n",
      "NR [704.0, 339.6666666666667, 920.6666666666666, 927.0]\n"
     ]
    }
   ],
   "source": [
    "print('PR',baseline_PR)\n",
    "print('NR',baseline_NR)"
   ]
  },
  {
   "cell_type": "markdown",
   "id": "7d0a6ea3-37eb-42d1-a07c-edae779918e8",
   "metadata": {},
   "source": [
    "Ensure"
   ]
  },
  {
   "cell_type": "code",
   "execution_count": 20,
   "id": "814d563e-653c-4c5d-8e6d-1c73205bdb84",
   "metadata": {},
   "outputs": [],
   "source": [
    "ensure_NR=[]\n",
    "ensure_PR=[]\n",
    "\n",
    "ensure_NRPR=[]\n",
    "ensure_PRNR=[]\n",
    "\n",
    "\n",
    "for mouse in mice: \n",
    "    temp_NR=[]\n",
    "    temp_PR=[]\n",
    "    \n",
    "    temp_NRPR=[]\n",
    "    temp_PRNR=[]\n",
    "    \n",
    "    for key in all_data.keys():\n",
    "        d=all_data[key]\n",
    "        if d['mouse']==mouse and d['solution']=='Ensure'and d['diet']== 'PR':\n",
    "            temp_PR.append(d['total licks'])\n",
    "        elif d['mouse']==mouse and d['solution']=='Ensure' and d['diet']== 'NR':\n",
    "            temp_NR.append(d['total licks'])\n",
    "        elif d['mouse']==mouse and d['solution']=='Ensure' and d['diet']== 'PRNR':\n",
    "            temp_PRNR.append(d['total licks'])\n",
    "        elif d['mouse']==mouse and d['solution']=='Ensure' and d['diet']== 'NRPR':\n",
    "            temp_NRPR.append(d['total licks'])\n",
    "\n",
    "                \n",
    "    if len(temp_PR)> 0:\n",
    "        ensure_PR.append(np.mean(temp_PR))\n",
    "    if len(temp_NR)>0:\n",
    "        ensure_NR.append(np.mean(temp_NR))\n",
    "    if len(temp_PRNR)>0:\n",
    "        ensure_PRNR.append(np.mean(temp_PRNR))\n",
    "    if len(temp_NRPR)>0:\n",
    "        ensure_NRPR.append(np.mean(temp_NRPR))"
   ]
  },
  {
   "cell_type": "code",
   "execution_count": 21,
   "id": "747d79b6-0377-49d6-b559-afb0eed2fad0",
   "metadata": {},
   "outputs": [
    {
     "name": "stdout",
     "output_type": "stream",
     "text": [
      "PR [562.3333333333334, 376.3333333333333, 505.6666666666667, 711.6666666666666, 1389.0]\n",
      "PRNR [744.3333333333334, 276.0, 485.0, 597.6666666666666, 969.0]\n",
      "  \n",
      "NR [122.33333333333333, 280.6666666666667, 163.33333333333334, 453.0]\n",
      "NRPR [472.6666666666667, 749.6666666666666, 623.3333333333334]\n"
     ]
    }
   ],
   "source": [
    "print('PR',ensure_PR)\n",
    "print('PRNR', ensure_PRNR)\n",
    "print('  ')\n",
    "print('NR',ensure_NR)\n",
    "print('NRPR', ensure_NRPR)"
   ]
  },
  {
   "cell_type": "markdown",
   "id": "f0a36616-b025-4cb2-bc0b-48b422333b40",
   "metadata": {},
   "source": [
    "Casein"
   ]
  },
  {
   "cell_type": "code",
   "execution_count": 22,
   "id": "8cdda829-09b1-4128-8bcb-4f8bd18673c7",
   "metadata": {},
   "outputs": [],
   "source": [
    "cas_NR=[]\n",
    "cas_PR=[]\n",
    "\n",
    "cas_NRPR=[]\n",
    "cas_PRNR=[]\n",
    "\n",
    "\n",
    "for mouse in mice: \n",
    "    temp_NR=[]\n",
    "    temp_PR=[]\n",
    "    \n",
    "    temp_NRPR=[]\n",
    "    temp_PRNR=[]\n",
    "    \n",
    "    for key in all_data.keys():\n",
    "        d=all_data[key]\n",
    "        if d['mouse']==mouse and d['solution']=='Cas'and d['diet']== 'PR':\n",
    "            temp_PR.append(d['total licks'])\n",
    "        elif d['mouse']==mouse and d['solution']=='Cas' and d['diet']== 'NR':\n",
    "            temp_NR.append(d['total licks'])\n",
    "        elif d['mouse']==mouse and d['solution']=='Cas' and d['diet']== 'PRNR':\n",
    "            temp_PRNR.append(d['total licks'])\n",
    "        elif d['mouse']==mouse and d['solution']=='Cas' and d['diet']== 'NRPR':\n",
    "            temp_NRPR.append(d['total licks'])\n",
    "\n",
    "                \n",
    "    if len(temp_PR)> 0:\n",
    "        cas_PR.append(np.mean(temp_PR))\n",
    "    if len(temp_NR)>0:\n",
    "        cas_NR.append(np.mean(temp_NR))\n",
    "    if len(temp_PRNR)>0:\n",
    "        cas_PRNR.append(np.mean(temp_PRNR))\n",
    "    if len(temp_NRPR)>0:\n",
    "        cas_NRPR.append(np.mean(temp_NRPR))"
   ]
  },
  {
   "cell_type": "code",
   "execution_count": 23,
   "id": "62ddc70f-09ea-4a75-9e02-b474135e0ec7",
   "metadata": {},
   "outputs": [
    {
     "name": "stdout",
     "output_type": "stream",
     "text": [
      "PR [289.3333333333333, 233.66666666666666, 306.3333333333333, 350.0, 427.3333333333333]\n",
      "PRNR [663.0, 258.6666666666667, 334.5, 200.0, 171.5]\n",
      "  \n",
      "NR [133.66666666666666, 144.0, 285.0, 236.66666666666666]\n",
      "NRPR [241.0, 345.3333333333333, 506.5]\n"
     ]
    }
   ],
   "source": [
    "print('PR',cas_PR)\n",
    "print('PRNR', cas_PRNR)\n",
    "print('  ')\n",
    "print('NR',cas_NR)\n",
    "print('NRPR', cas_NRPR)"
   ]
  },
  {
   "cell_type": "markdown",
   "id": "04e2c217-03fc-4f2a-b521-cfbaefe27079",
   "metadata": {},
   "source": [
    "Maltodextrin"
   ]
  },
  {
   "cell_type": "code",
   "execution_count": 24,
   "id": "6ee0619b-b026-4551-a85b-a3e3de0d9c73",
   "metadata": {},
   "outputs": [],
   "source": [
    "malt_NR=[]\n",
    "malt_PR=[]\n",
    "\n",
    "malt_NRPR=[]\n",
    "malt_PRNR=[]\n",
    "\n",
    "\n",
    "for mouse in mice: \n",
    "    temp_NR=[]\n",
    "    temp_PR=[]\n",
    "    \n",
    "    temp_NRPR=[]\n",
    "    temp_PRNR=[]\n",
    "    \n",
    "    for key in all_data.keys():\n",
    "        d=all_data[key]\n",
    "        if d['mouse']==mouse and d['solution']=='Malt.'and d['diet']== 'PR':\n",
    "            temp_PR.append(d['total licks'])\n",
    "        elif d['mouse']==mouse and d['solution']=='Malt.' and d['diet']== 'NR':\n",
    "            temp_NR.append(d['total licks'])\n",
    "        elif d['mouse']==mouse and d['solution']=='Malt.' and d['diet']== 'PRNR':\n",
    "            temp_PRNR.append(d['total licks'])\n",
    "        elif d['mouse']==mouse and d['solution']=='Malt.' and d['diet']== 'NRPR':\n",
    "            temp_NRPR.append(d['total licks'])\n",
    "\n",
    "                \n",
    "    if len(temp_PR)> 0:\n",
    "        malt_PR.append(np.mean(temp_PR))\n",
    "    if len(temp_NR)>0:\n",
    "        malt_NR.append(np.mean(temp_NR))\n",
    "    if len(temp_PRNR)>0:\n",
    "        malt_PRNR.append(np.mean(temp_PRNR))\n",
    "    if len(temp_NRPR)>0:\n",
    "        malt_NRPR.append(np.mean(temp_NRPR))"
   ]
  },
  {
   "cell_type": "code",
   "execution_count": 25,
   "id": "81a4fbf7-7ed0-48bf-8b79-d30bdbe9d277",
   "metadata": {},
   "outputs": [
    {
     "name": "stdout",
     "output_type": "stream",
     "text": [
      "PR [274.6666666666667, 146.0, 222.33333333333334, 414.3333333333333, 328.0]\n",
      "PRNR [457.0, 204.66666666666666, 225.5, 265.5, 243.0]\n",
      "  \n",
      "NR [209.0, 222.5, 207.5, 205.33333333333334]\n",
      "NRPR [207.33333333333334, 235.66666666666666, 134.0]\n"
     ]
    }
   ],
   "source": [
    "print('PR', malt_PR)\n",
    "print('PRNR', malt_PRNR)\n",
    "print('  ')\n",
    "print('NR', malt_NR)\n",
    "print('NRPR', malt_NRPR)"
   ]
  },
  {
   "cell_type": "markdown",
   "id": "01115702-e40a-4d43-8ab1-de90da77ed4d",
   "metadata": {},
   "source": [
    "## Figures"
   ]
  },
  {
   "cell_type": "markdown",
   "id": "125d1bed-afd3-4380-8480-8578ceb7b616",
   "metadata": {},
   "source": [
    "Ensure"
   ]
  },
  {
   "cell_type": "code",
   "execution_count": 160,
   "id": "44013e8f-681d-4960-84a7-fe8835294270",
   "metadata": {},
   "outputs": [
    {
     "data": {
      "text/plain": [
       "Text(0.5, 1.0, 'Maltodextrin')"
      ]
     },
     "execution_count": 160,
     "metadata": {},
     "output_type": "execute_result"
    },
    {
     "data": {
      "image/png": "[encoded data removed]",
      "text/plain": [
       "<Figure size 432x720 with 6 Axes>"
      ]
     },
     "metadata": {
      "needs_background": "light"
     },
     "output_type": "display_data"
    }
   ],
   "source": [
    "PR_E=['forestgreen','darkgreen']\n",
    "PR_C=['b','midnightblue']\n",
    "PR_M=['r','maroon']\n",
    "NR=['black','dimgray']\n",
    "\n",
    "f,ax=plt.subplots(figsize=(6,10), ncols=2, nrows=3, sharey='row')\n",
    "f.subplots_adjust(wspace=0.15, bottom=0.05, left=0.15)\n",
    "\n",
    "#Ensure\n",
    "tp.barscatter([ensure_PR,ensure_PRNR], \n",
    "              paired= True,\n",
    "              barfacecolor=PR_E,\n",
    "              barlabels=['PR','PRNR'],\n",
    "              barlabeloffset=0.04,\n",
    "              barfacecolor_option='individual',\n",
    "              fontsize = 15,\n",
    "              scattersize=110,\n",
    "              scatteralpha=0.7,\n",
    "              spaced=True,\n",
    "              linewidth=1.5,\n",
    "              ax=ax[0,0])\n",
    "\n",
    "tp.barscatter([ensure_NR,ensure_NRPR], \n",
    "              paired= True,\n",
    "              barfacecolor=NR,\n",
    "              barlabels=['NR','NRPR'],\n",
    "              barlabeloffset=0.04,\n",
    "              barfacecolor_option=\"individual\",\n",
    "              fontsize = 15,\n",
    "              scattersize=110,\n",
    "              scatteralpha=0.7,\n",
    "              spaced=True,\n",
    "              linewidth=1.5,\n",
    "              ax=ax[0,1])\n",
    "#casein\n",
    "\n",
    "tp.barscatter([cas_PR,cas_PRNR], \n",
    "              paired= True,\n",
    "              barfacecolor=PR_C,\n",
    "              barlabels=['PR','PRNR'],\n",
    "              barlabeloffset=0.04,\n",
    "              barfacecolor_option='individual',\n",
    "              fontsize = 15,\n",
    "              scattersize=110,\n",
    "              scatteralpha=0.7,\n",
    "              spaced=True,\n",
    "              linewidth=1.5,\n",
    "              ax=ax[1,0])\n",
    "\n",
    "tp.barscatter([cas_NR,cas_NRPR], \n",
    "              paired= True,\n",
    "              barfacecolor=NR,\n",
    "              barlabels=['NR','NRPR'],\n",
    "              barlabeloffset=0.04,\n",
    "              barfacecolor_option=\"individual\",\n",
    "              fontsize = 15,\n",
    "              scattersize=110,\n",
    "              scatteralpha=0.7,\n",
    "              spaced=True,\n",
    "              linewidth=1.5,\n",
    "              ax=ax[1,1])\n",
    "\n",
    "#maltodextrin\n",
    "\n",
    "tp.barscatter([malt_PR,malt_PRNR], \n",
    "              paired= True,\n",
    "              barfacecolor=PR_M,\n",
    "              barlabels=['PR','PRNR'],\n",
    "              barlabeloffset=0.04,\n",
    "              barfacecolor_option='individual',\n",
    "              fontsize = 15,\n",
    "              scattersize=110,\n",
    "              scatteralpha=0.7,\n",
    "              spaced=True,\n",
    "              linewidth=1.5,\n",
    "              ax=ax[2,0])\n",
    "\n",
    "tp.barscatter([malt_NR,malt_NRPR], \n",
    "              paired= True,\n",
    "              barfacecolor=NR,\n",
    "              barlabels=['NR','NRPR'],\n",
    "              barlabeloffset=0.04,\n",
    "              barfacecolor_option=\"individual\",\n",
    "              fontsize = 15,\n",
    "              scattersize=110,\n",
    "              scatteralpha=0.7,\n",
    "              spaced=True,\n",
    "              linewidth=1.5,\n",
    "              ax=ax[2,1])\n",
    "\n",
    "\n",
    "\n",
    "ax[0,0].set_ylabel('Number of licks',fontsize = 15)\n",
    "ax[0,0].set_yticks([500,1000,1500])\n",
    "ax[0,1].set_yticks([500,1000,1500])\n",
    "ax[0,0].set_yticklabels([500,1000,1500], fontsize = 15)\n",
    "\n",
    "ax[1,0].set_ylabel('Number of licks',fontsize = 15)\n",
    "ax[1,0].set_yticks([250,500,750])\n",
    "ax[1,1].set_yticks([250,500,750])\n",
    "ax[1,0].set_yticklabels([250,500,750], fontsize = 15)\n",
    "\n",
    "ax[2,0].set_ylabel('Number of licks',fontsize = 15)\n",
    "ax[2,0].set_yticks([250,500,750])\n",
    "ax[2,1].set_yticks([250,500,750])\n",
    "ax[2,0].set_yticklabels([250,500,750], fontsize = 15)\n",
    "\n",
    "ax[0,0].set_title('Ensure', fontsize =15)\n",
    "ax[1,0].set_title('Casein', fontsize =15)\n",
    "ax[2,0].set_title('Maltodextrin', fontsize =15)"
   ]
  },
  {
   "cell_type": "code",
   "execution_count": 61,
   "id": "e65cdfb2-90ef-4548-bf07-ea5bfab0bab8",
   "metadata": {},
   "outputs": [
    {
     "data": {
      "text/plain": [
       "\u001b[1;31mSignature:\u001b[0m\n",
       "\u001b[0mtp\u001b[0m\u001b[1;33m.\u001b[0m\u001b[0mbarscatter\u001b[0m\u001b[1;33m(\u001b[0m\u001b[1;33m\n",
       "\u001b[0m    \u001b[0mdata_in\u001b[0m\u001b[1;33m,\u001b[0m\u001b[1;33m\n",
       "\u001b[0m    \u001b[0max\u001b[0m\u001b[1;33m=\u001b[0m\u001b[1;33m[\u001b[0m\u001b[1;33m]\u001b[0m\u001b[1;33m,\u001b[0m\u001b[1;33m\n",
       "\u001b[0m    \u001b[0mtranspose\u001b[0m\u001b[1;33m=\u001b[0m\u001b[1;32mFalse\u001b[0m\u001b[1;33m,\u001b[0m\u001b[1;33m\n",
       "\u001b[0m    \u001b[0mpaired\u001b[0m\u001b[1;33m=\u001b[0m\u001b[1;32mFalse\u001b[0m\u001b[1;33m,\u001b[0m\u001b[1;33m\n",
       "\u001b[0m    \u001b[0mspaced\u001b[0m\u001b[1;33m=\u001b[0m\u001b[1;32mFalse\u001b[0m\u001b[1;33m,\u001b[0m\u001b[1;33m\n",
       "\u001b[0m    \u001b[0mxspace\u001b[0m\u001b[1;33m=\u001b[0m\u001b[1;36m0.1\u001b[0m\u001b[1;33m,\u001b[0m\u001b[1;33m\n",
       "\u001b[0m    \u001b[0myspace\u001b[0m\u001b[1;33m=\u001b[0m\u001b[1;36m20\u001b[0m\u001b[1;33m,\u001b[0m\u001b[1;33m\n",
       "\u001b[0m    \u001b[0mgroupwidth\u001b[0m\u001b[1;33m=\u001b[0m\u001b[1;36m0.75\u001b[0m\u001b[1;33m,\u001b[0m\u001b[1;33m\n",
       "\u001b[0m    \u001b[0mbarwidth\u001b[0m\u001b[1;33m=\u001b[0m\u001b[1;36m0.8\u001b[0m\u001b[1;33m,\u001b[0m\u001b[1;33m\n",
       "\u001b[0m    \u001b[0mbarfacecolor_option\u001b[0m\u001b[1;33m=\u001b[0m\u001b[1;34m'same'\u001b[0m\u001b[1;33m,\u001b[0m\u001b[1;33m\n",
       "\u001b[0m    \u001b[0mbarfacecolor\u001b[0m\u001b[1;33m=\u001b[0m\u001b[1;33m[\u001b[0m\u001b[1;34m'white'\u001b[0m\u001b[1;33m]\u001b[0m\u001b[1;33m,\u001b[0m\u001b[1;33m\n",
       "\u001b[0m    \u001b[0mbaredgecolor_option\u001b[0m\u001b[1;33m=\u001b[0m\u001b[1;34m'same'\u001b[0m\u001b[1;33m,\u001b[0m\u001b[1;33m\n",
       "\u001b[0m    \u001b[0mbaredgecolor\u001b[0m\u001b[1;33m=\u001b[0m\u001b[1;33m[\u001b[0m\u001b[1;34m'black'\u001b[0m\u001b[1;33m]\u001b[0m\u001b[1;33m,\u001b[0m\u001b[1;33m\n",
       "\u001b[0m    \u001b[0merrorbars\u001b[0m\u001b[1;33m=\u001b[0m\u001b[1;32mFalse\u001b[0m\u001b[1;33m,\u001b[0m\u001b[1;33m\n",
       "\u001b[0m    \u001b[0mscatteroffset\u001b[0m\u001b[1;33m=\u001b[0m\u001b[1;36m0\u001b[0m\u001b[1;33m,\u001b[0m\u001b[1;33m\n",
       "\u001b[0m    \u001b[0mscatterfacecolor_option\u001b[0m\u001b[1;33m=\u001b[0m\u001b[1;34m'same'\u001b[0m\u001b[1;33m,\u001b[0m\u001b[1;33m\n",
       "\u001b[0m    \u001b[0mscatterfacecolor\u001b[0m\u001b[1;33m=\u001b[0m\u001b[1;33m[\u001b[0m\u001b[1;34m'white'\u001b[0m\u001b[1;33m]\u001b[0m\u001b[1;33m,\u001b[0m\u001b[1;33m\n",
       "\u001b[0m    \u001b[0mscatteredgecolor_option\u001b[0m\u001b[1;33m=\u001b[0m\u001b[1;34m'same'\u001b[0m\u001b[1;33m,\u001b[0m\u001b[1;33m\n",
       "\u001b[0m    \u001b[0mscatteredgecolor\u001b[0m\u001b[1;33m=\u001b[0m\u001b[1;33m[\u001b[0m\u001b[1;34m'black'\u001b[0m\u001b[1;33m]\u001b[0m\u001b[1;33m,\u001b[0m\u001b[1;33m\n",
       "\u001b[0m    \u001b[0mscatterlinecolor\u001b[0m\u001b[1;33m=\u001b[0m\u001b[1;34m'grey'\u001b[0m\u001b[1;33m,\u001b[0m\u001b[1;33m\n",
       "\u001b[0m    \u001b[0mlinewidth\u001b[0m\u001b[1;33m=\u001b[0m\u001b[1;36m0.75\u001b[0m\u001b[1;33m,\u001b[0m\u001b[1;33m\n",
       "\u001b[0m    \u001b[0mscattersize\u001b[0m\u001b[1;33m=\u001b[0m\u001b[1;36m80\u001b[0m\u001b[1;33m,\u001b[0m\u001b[1;33m\n",
       "\u001b[0m    \u001b[0mgrouplabel\u001b[0m\u001b[1;33m=\u001b[0m\u001b[1;33m[\u001b[0m\u001b[1;33m]\u001b[0m\u001b[1;33m,\u001b[0m\u001b[1;33m\n",
       "\u001b[0m    \u001b[0mgrouplabeloffset\u001b[0m\u001b[1;33m=\u001b[0m\u001b[1;36m0\u001b[0m\u001b[1;33m,\u001b[0m\u001b[1;33m\n",
       "\u001b[0m    \u001b[0mbarlabels\u001b[0m\u001b[1;33m=\u001b[0m\u001b[1;33m[\u001b[0m\u001b[1;33m]\u001b[0m\u001b[1;33m,\u001b[0m\u001b[1;33m\n",
       "\u001b[0m    \u001b[0mbarlabeloffset\u001b[0m\u001b[1;33m=\u001b[0m\u001b[1;36m0.025\u001b[0m\u001b[1;33m,\u001b[0m\u001b[1;33m\n",
       "\u001b[0m    \u001b[0mitemlabels\u001b[0m\u001b[1;33m=\u001b[0m\u001b[1;33m[\u001b[0m\u001b[1;33m]\u001b[0m\u001b[1;33m,\u001b[0m\u001b[1;33m\n",
       "\u001b[0m    \u001b[0mshow_legend\u001b[0m\u001b[1;33m=\u001b[0m\u001b[1;32mFalse\u001b[0m\u001b[1;33m,\u001b[0m\u001b[1;33m\n",
       "\u001b[0m    \u001b[0mlegendloc\u001b[0m\u001b[1;33m=\u001b[0m\u001b[1;34m'upper right'\u001b[0m\u001b[1;33m,\u001b[0m\u001b[1;33m\n",
       "\u001b[0m    \u001b[0mfontsize\u001b[0m\u001b[1;33m=\u001b[0m\u001b[1;36m10\u001b[0m\u001b[1;33m,\u001b[0m\u001b[1;33m\n",
       "\u001b[0m    \u001b[0mbar_kwargs\u001b[0m\u001b[1;33m=\u001b[0m\u001b[1;33m{\u001b[0m\u001b[1;33m}\u001b[0m\u001b[1;33m,\u001b[0m\u001b[1;33m\n",
       "\u001b[0m    \u001b[0msc_kwargs\u001b[0m\u001b[1;33m=\u001b[0m\u001b[1;33m{\u001b[0m\u001b[1;34m'alpha'\u001b[0m\u001b[1;33m:\u001b[0m \u001b[1;36m0.7\u001b[0m\u001b[1;33m,\u001b[0m \u001b[1;34m'linewidth'\u001b[0m\u001b[1;33m:\u001b[0m \u001b[1;36m1.5\u001b[0m\u001b[1;33m,\u001b[0m \u001b[1;34m'zorder'\u001b[0m\u001b[1;33m:\u001b[0m \u001b[1;36m20\u001b[0m\u001b[1;33m,\u001b[0m \u001b[1;34m'clip_on'\u001b[0m\u001b[1;33m:\u001b[0m \u001b[1;32mFalse\u001b[0m\u001b[1;33m}\u001b[0m\u001b[1;33m,\u001b[0m\u001b[1;33m\n",
       "\u001b[0m    \u001b[0max_kwargs\u001b[0m\u001b[1;33m=\u001b[0m\u001b[1;33m{\u001b[0m\u001b[1;33m}\u001b[0m\u001b[1;33m,\u001b[0m\u001b[1;33m\n",
       "\u001b[0m    \u001b[1;33m**\u001b[0m\u001b[0mextra_kwargs\u001b[0m\u001b[1;33m,\u001b[0m\u001b[1;33m\n",
       "\u001b[0m\u001b[1;33m)\u001b[0m\u001b[1;33m\u001b[0m\u001b[1;33m\u001b[0m\u001b[0m\n",
       "\u001b[1;31mDocstring:\u001b[0m <no docstring>\n",
       "\u001b[1;31mFile:\u001b[0m      c:\\users\\mko102\\anaconda3\\lib\\site-packages\\trompy\\barscatter.py\n",
       "\u001b[1;31mType:\u001b[0m      function\n"
      ]
     },
     "metadata": {},
     "output_type": "display_data"
    }
   ],
   "source": [
    "tp.barscatter?"
   ]
  },
  {
   "cell_type": "code",
   "execution_count": 115,
   "id": "b56980a7-1549-4985-babf-f5f9a9469747",
   "metadata": {},
   "outputs": [
    {
     "name": "stdout",
     "output_type": "stream",
     "text": [
      "Object `AxesSubplot` not found.\n"
     ]
    }
   ],
   "source": [
    "AxesSubplot?"
   ]
  },
  {
   "cell_type": "code",
   "execution_count": null,
   "id": "96baebf7-71b4-450e-8dea-47ff5582bb30",
   "metadata": {},
   "outputs": [],
   "source": []
  }
 ],
 "metadata": {
  "kernelspec": {
   "display_name": "Python 3",
   "language": "python",
   "name": "python3"
  },
  "language_info": {
   "codemirror_mode": {
    "name": "ipython",
    "version": 3
   },
   "file_extension": ".py",
   "mimetype": "text/x-python",
   "name": "python",
   "nbconvert_exporter": "python",
   "pygments_lexer": "ipython3",
   "version": "3.8.8"
  }
 },
 "nbformat": 4,
 "nbformat_minor": 5
}
