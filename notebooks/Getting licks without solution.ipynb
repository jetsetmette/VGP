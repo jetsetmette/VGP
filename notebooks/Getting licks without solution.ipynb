{
 "cells": [
  {
   "cell_type": "code",
   "execution_count": 21,
   "id": "df7a6a20-4522-4a87-9045-3f13707afde5",
   "metadata": {},
   "outputs": [],
   "source": [
    "import os\n",
    "import numpy as np\n",
    "from scipy import signal\n",
    "\n",
    "import pandas as pd\n",
    "from scipy import stats\n",
    "\n",
    "import os\n",
    "import numpy as np\n",
    "\n",
    "import matplotlib.pyplot as plt\n",
    "import seaborn as sns\n",
    "\n",
    "import trompy as tp\n",
    "\n",
    "# %run \"..//src//vgp_helper_fx\""
   ]
  },
  {
   "cell_type": "code",
   "execution_count": 22,
   "id": "a4c0774d-4e09-42d9-9db2-dc2253487989",
   "metadata": {},
   "outputs": [],
   "source": [
    "def get_number_cells (s2p_folder):\n",
    "    iscell = np.load(os.path.join(s2p_folder, 'iscell.npy'))\n",
    "    return sum(iscell[:,0])\n",
    "\n",
    "\n",
    "def load_s2p_data(s2p_folder):\n",
    "    raw_F = np.load(os.path.join(s2p_folder, 'F.npy'))\n",
    "    neu_F = np.load(os.path.join(s2p_folder, 'Fneu.npy'))\n",
    "    iscell = np.load(os.path.join(s2p_folder, 'iscell.npy'))\n",
    "    s2p_length=len(raw_F[0,:])\n",
    "    return raw_F, neu_F, iscell, s2p_length\n"
   ]
  },
  {
   "cell_type": "code",
   "execution_count": 23,
   "id": "8ea83b94-94c8-45c2-9a53-c8d8581a702e",
   "metadata": {},
   "outputs": [],
   "source": [
    "def get_frames(events_file,s2p_length):\n",
    "    df = pd.read_csv(events_file)\n",
    "\n",
    "    pump_frames = list(df[df['Item1'] == 'pump_on']['Item2.Item2'])\n",
    "    pump_frames=[frame for frame in pump_frames if frame < s2p_length-100] #removes event if too close to the end\n",
    "\n",
    "    licks_frames = list (df[df['Item1']== 'Lick']['Item2.Item2'])\n",
    "    licks_frames=[frame for frame in licks_frames if frame < s2p_length-100] #removes event if too close to the end\n",
    "    \n",
    "    return pump_frames, licks_frames"
   ]
  },
  {
   "cell_type": "code",
   "execution_count": 24,
   "id": "90ad6139-c894-410c-9846-b75edbd6828d",
   "metadata": {},
   "outputs": [],
   "source": [
    "def process_cell(cell_idx, raw_F, neu_F, filter=True, normalization_method=\"vijay\"):\n",
    "    x = raw_F[cell_idx, :] - 0.7*(neu_F[cell_idx, :])\n",
    "    \n",
    "    if normalization_method == \"zscore\":\n",
    "        x = (x - np.mean(x))/np.std(x)\n",
    "    elif normalization_method == \"vijay\":\n",
    "        x = (x - np.median(x)) / (np.max(x) - np.min(x))\n",
    "    else:\n",
    "        print(f\"{normalization_method} is not a valid normalization method\")\n",
    "        \n",
    "    if filter:\n",
    "        x = filter_cell(x, rolling_average=True)\n",
    "    return x\n"
   ]
  },
  {
   "cell_type": "code",
   "execution_count": 25,
   "id": "a3b65fc3-a196-4ec5-afe2-3e91cc87e059",
   "metadata": {},
   "outputs": [],
   "source": [
    "\n",
    "def filter_cell(x, rolling_average=True):\n",
    "    if rolling_average:\n",
    "        window_size = 3\n",
    "\n",
    "        # Calculate the rolling average\n",
    "        filtered = np.convolve(x, np.ones(window_size) / window_size, mode='valid')\n",
    "    else:\n",
    "        t = np.arange(0,len(x)/10,0.1)\n",
    "        filt = signal.butter(4, 1, 'low', fs=10, output='sos')\n",
    "        filtered = signal.sosfilt(filt, x)\n",
    "    return filtered"
   ]
  },
  {
   "cell_type": "code",
   "execution_count": 26,
   "id": "7f55ff2e-5fe4-48be-8ffe-40a235ced2fb",
   "metadata": {},
   "outputs": [],
   "source": [
    "def get_snips(f, event_frames, baseline_frames=50, total_frames=150):\n",
    "    snips = []\n",
    "    for frame in event_frames:\n",
    "        snips.append(f [frame - baseline_frames : frame + (total_frames - baseline_frames)])\n",
    "\n",
    "    return np.array(snips)"
   ]
  },
  {
   "cell_type": "code",
   "execution_count": 27,
   "id": "5ec6fa58-c57f-4d6a-8486-7c9fb5a962bf",
   "metadata": {},
   "outputs": [],
   "source": [
    "def get_responsive(snips, range1=range(30,50), range2=range(50,70)):\n",
    "    pre = np.mean(snips[:, range1], axis=0)\n",
    "    post = np.mean(snips[:, range2], axis=0)\n",
    "    \n",
    "    return stats.ttest_rel(pre, post)\n"
   ]
  },
  {
   "cell_type": "code",
   "execution_count": 28,
   "id": "ef1f1bf3-8887-4e4e-89e9-3fe225cba16b",
   "metadata": {},
   "outputs": [],
   "source": [
    "def get_licks_per_trial(pump_frames, licks_frames, trial_end=100):\n",
    "\n",
    "    licks_per_trial=[]\n",
    "    for p in pump_frames: \n",
    "        temp=[]\n",
    "        for l in licks_frames: \n",
    "            if l > p and l < p + trial_end: \n",
    "                temp.append(l)                \n",
    "        licks_per_trial.append(temp)\n",
    "\n",
    "    return licks_per_trial\n"
   ]
  },
  {
   "cell_type": "code",
   "execution_count": 84,
   "id": "d626bba7-e9af-4b6d-a2fb-e54db0185296",
   "metadata": {},
   "outputs": [],
   "source": [
    "def get_first_lick(licks_per_trial):\n",
    "    \n",
    "    first_licks=[]\n",
    "    empty_lick=[]\n",
    "    for trial in licks_per_trial:\n",
    "        if len(trial) > 0:\n",
    "            first_licks.append(trial[0])\n",
    "        if len (trial) > 4:\n",
    "            empty_lick.append(trial[4])\n",
    "\n",
    "    return first_licks, empty_lick"
   ]
  },
  {
   "cell_type": "code",
   "execution_count": 85,
   "id": "fd8ba9b5-4023-421e-9f7f-d5966bdf3dae",
   "metadata": {},
   "outputs": [],
   "source": [
    "def get_ncells_overlap(cond1, cond2):\n",
    "    \n",
    "    n_both = sum(np.logical_and(cond1, cond2))\n",
    "    n_neither = sum(~np.logical_or(cond1, cond2))\n",
    "    n_cond1 = int(sum(cond1) - n_both)\n",
    "    n_cond2 = int(sum(cond2) - n_both)\n",
    "    \n",
    "#     print(n_cond1, n_cond2, n_both, n_neither)\n",
    "\n",
    "    return (int(sum(cond1)), int(sum(cond2)), n_cond1, n_cond2, n_both, n_neither)"
   ]
  },
  {
   "cell_type": "code",
   "execution_count": 86,
   "id": "bbac682a-6539-4778-b425-6dcc74c8943b",
   "metadata": {},
   "outputs": [],
   "source": [
    "def make_responsive_df(pump_responsive, lick_responsive):\n",
    "    pump_r = abs(pump_responsive)\n",
    "    lick_r = abs(lick_responsive)\n",
    "\n",
    "    # activated cells\n",
    "    pump_a = pump_responsive == 1\n",
    "    lick_a = lick_responsive == 1\n",
    "\n",
    "    # inhibited cells\n",
    "    pump_i = pump_responsive == -1\n",
    "    lick_i = lick_responsive == -1\n",
    "#     print(pump_r)\n",
    "#     print(pump_a)\n",
    "#     print(pump_i)\n",
    "\n",
    "    return pd.DataFrame([\n",
    "                    get_ncells_overlap(pump_r, lick_r),\n",
    "                    get_ncells_overlap(pump_a, lick_a),\n",
    "                    get_ncells_overlap(pump_i, lick_i)],\n",
    "                    columns=['pump_all','lick_all',\"pump_only\", \"lick_only\", \"both\", \"neither\"],\n",
    "                    index=[\"responsive\", \"activated\", \"inhibited\"]).T"
   ]
  },
  {
   "cell_type": "code",
   "execution_count": 87,
   "id": "20816e2f-4862-49b2-ba35-0fdcaff424ba",
   "metadata": {},
   "outputs": [],
   "source": [
    "def assemble_data(s2p_folder,events_file,\n",
    "                  animal=\"unnamed\", diet=\"ns\", solution=\"ns\",\n",
    "                  baseline_frames=50, total_frames=150):\n",
    "\n",
    "    raw_F, neu_F, iscell, s2p_length = load_s2p_data(s2p_folder)\n",
    "    \n",
    "    pump_frames, licks_frames= get_frames(events_file,s2p_length)\n",
    "    \n",
    "    cell_idx = [idx for idx,vals in enumerate(iscell) if vals[0]==1]\n",
    "\n",
    "    pump_snips_all = []\n",
    "    lick_snips_all = []\n",
    "    empy_lick_snips_all = [] # adding list \n",
    "    pump_responsive = np.zeros(len(cell_idx))\n",
    "    lick_responsive = np.zeros(len(cell_idx))\n",
    "\n",
    "    for i, cell in enumerate(cell_idx):\n",
    "        delta_f = process_cell(cell, raw_F, neu_F)\n",
    "\n",
    "        pump_snips = get_snips(delta_f, pump_frames, baseline_frames=baseline_frames, total_frames=total_frames)\n",
    "        r, p = get_responsive(pump_snips)\n",
    "\n",
    "        if (p < 0.05) & (r < 0):\n",
    "            pump_responsive[i] = 1\n",
    "        elif (p < 0.05) & (r > 0):\n",
    "            pump_responsive[i] = -1\n",
    "\n",
    "        licks_per_trial = get_licks_per_trial(pump_frames, licks_frames, trial_end=total_frames-baseline_frames)\n",
    "        first_lick_frames, empty_licks_frames = get_first_lick(licks_per_trial)# Added 'empty' licks (10 licks after the first lick of the trial)\n",
    "\n",
    "        lick_snips = get_snips(delta_f, first_lick_frames, baseline_frames=baseline_frames, total_frames=total_frames)\n",
    "        empty_lick_snips = get_snips(delta_f, empty_licks_frames, baseline_frames=baseline_frames, total_frames=total_frames) #getting snips from empty licks\n",
    "        r, p = get_responsive(lick_snips)\n",
    "\n",
    "        if (p < 0.05) & (r < 0):\n",
    "            lick_responsive[i] = 1\n",
    "        elif (p < 0.05) & (r > 0):\n",
    "            lick_responsive[i] = -1\n",
    "\n",
    "        pump_snips_all.append(pump_snips)\n",
    "        lick_snips_all.append(lick_snips)\n",
    "        empy_lick_snips_all.append(empty_lick_snips) # appending snips\n",
    "\n",
    "    df_responsive = make_responsive_df(pump_responsive, lick_responsive)\n",
    "\n",
    "    return {\"animal\": animal,\n",
    "            \"diet\": diet,\n",
    "            \"solution\": solution,\n",
    "            \"raw_F\": raw_F,\n",
    "            \"neu_F\": neu_F,\n",
    "            \"iscell\": iscell,\n",
    "            \"pump_snips_all\": np.array(pump_snips_all),\n",
    "            \"pump_responsive\": pump_responsive,\n",
    "            \"lick_snips_all\": np.array(lick_snips_all),\n",
    "            \"empty_lick_snips_all\": np.array(empty_lick_snips),\n",
    "            \"lick_responsive\": lick_responsive,\n",
    "            \"df_responsive\": df_responsive,\n",
    "            \"licks_trial\":licks_per_trial\n",
    "            }\n",
    "        "
   ]
  },
  {
   "cell_type": "code",
   "execution_count": 88,
   "id": "bceb04f1-1083-4322-9207-444df848b2ca",
   "metadata": {},
   "outputs": [
    {
     "name": "stdout",
     "output_type": "stream",
     "text": [
      "File is excel file. Making csv metafile first\n"
     ]
    }
   ],
   "source": [
    "DATA_FOLDER = \"D:\\VGP\"\n",
    "\n",
    "#casein session 1\n",
    "animal=\"VGP402\"\n",
    "day=\"030\"\n",
    "day_meta='C2'\n",
    "date=\"20230320\"\n",
    "\n",
    "\n",
    "\n",
    "s2p_folder = os.path.join(DATA_FOLDER,\n",
    "                          \"2P\",\n",
    "                          \"proc_s2p\\\\\"\n",
    "                          \"sub-{}\\\\ses-{}-{}\\\\suite2p\\\\plane0\"\n",
    "                          .format(animal, day, date))\n",
    "\n",
    "# to get event file in single folder\n",
    "# rows,header=tp.metafilereader('C:\\\\Users\\\\mko102\\\\UiT Office 365\\\\O365-Pipette 2 - Dokumenter\\\\People\\\\Mette\\\\GitHub\\\\2P\\\\Metafile_VGP2.4.xls',sheetname='analysis')\n",
    "rows,header=tp.metafilereader('C:\\\\Users\\\\mko102\\\\UiT Office 365\\\\O365-Pipette 2 - Dokumenter\\\\People\\\\Mette\\\\GitHub\\\\2P\\\\VGP2\\\\Metafile_VGP2.4.xls',sheetname='analysis')\n",
    "folder= \"D:\\\\VGP\\\\Bonsai\\\\\"\n",
    "\n",
    "for row in rows: \n",
    "    if row[0]== animal and row[3] == day_meta: \n",
    "        events_file=folder+row[6]\n",
    "C1 = assemble_data(s2p_folder,events_file,animal=\"VGP118\", diet=\"NR\", solution=\"Casein\")\n"
   ]
  },
  {
   "cell_type": "code",
   "execution_count": 101,
   "id": "4ddbe3c9-f5b6-4921-900b-073461ed2beb",
   "metadata": {},
   "outputs": [],
   "source": [
    "x=C1['empty_lick_snips_all']"
   ]
  },
  {
   "cell_type": "code",
   "execution_count": 104,
   "id": "3c256aa3-db4d-4ab4-802b-bd16ee95a455",
   "metadata": {},
   "outputs": [],
   "source": [
    "y1 = np.mean(x, axis=0)"
   ]
  },
  {
   "cell_type": "code",
   "execution_count": 107,
   "id": "4e0618bc-3e5a-483a-9564-b5999e73b772",
   "metadata": {},
   "outputs": [
    {
     "data": {
      "text/plain": [
       "array([-0.02105986, -0.01457898,  0.08975238,  0.17613033,  0.12530704,\n",
       "        0.05020406,  0.05452923,  0.0633479 ,  0.13035708,  0.11584595,\n",
       "        0.22541113,  0.27921635,  0.35308258,  0.2820935 ,  0.21381837,\n",
       "        0.11395133,  0.08392422,  0.13005991,  0.10746186,  0.05061116,\n",
       "       -0.03703618, -0.04229062, -0.06069921, -0.05596523, -0.07214252,\n",
       "       -0.03954745,  0.01393484, -0.0311376 , -0.04243147, -0.1055638 ,\n",
       "       -0.03737285, -0.03167008, -0.01800407,  0.03456441,  0.02508271,\n",
       "        0.06234304,  0.00333663,  0.05483498,  0.05469928,  0.1258464 ,\n",
       "        0.13241316,  0.14625782,  0.09469592,  0.12115536,  0.08609368,\n",
       "        0.13683452,  0.07822661,  0.08373184,  0.04822871,  0.02512221,\n",
       "        0.06535246,  0.03984805,  0.031555  , -0.03997001, -0.04709159,\n",
       "       -0.03761848, -0.02341826, -0.04460436, -0.00675829, -0.01935762,\n",
       "        0.04655223,  0.0093503 , -0.01528151, -0.0957523 , -0.10675245,\n",
       "       -0.04205186,  0.05453782,  0.10836193,  0.08492564,  0.07786589,\n",
       "        0.12632048,  0.13291473,  0.04374036,  0.01201101,  0.00384507,\n",
       "        0.05956552,  0.05500847,  0.09060779,  0.11188322,  0.14793773,\n",
       "        0.15831951,  0.22275386,  0.16802967,  0.09524215,  0.01586897,\n",
       "       -0.0124267 ,  0.03199988,  0.08282489,  0.16507007,  0.17968082,\n",
       "        0.18596073,  0.12039098,  0.03634738, -0.05721743, -0.02064589,\n",
       "       -0.00325418,  0.00740414,  0.04961489,  0.05996918,  0.10172302,\n",
       "        0.08214125,  0.03742609, -0.00274231, -0.14570816, -0.06971198,\n",
       "       -0.03882087,  0.03200675, -0.01099929, -0.03511064,  0.01923566,\n",
       "        0.09131205,  0.12134774,  0.15341376,  0.20163646,  0.16759852,\n",
       "        0.08183035,  0.05008211,  0.0178031 ,  0.02884275, -0.02503805,\n",
       "       -0.00321983,  0.00343282,  0.05535716,  0.04897075,  0.03858554,\n",
       "       -0.00947225,  0.08248994,  0.05598069,  0.03178174, -0.0493246 ,\n",
       "       -0.00050414,  0.02029033,  0.05503423,  0.05541728,  0.07580122,\n",
       "        0.09254192,  0.10558957,  0.09698733, -0.04636157, -0.15141779,\n",
       "       -0.23628761, -0.1460912 , -0.08985544, -0.07684902, -0.0156096 ,\n",
       "        0.07271279,  0.14405401,  0.01040325,  0.00645597,  0.0096612 ])"
      ]
     },
     "execution_count": 107,
     "metadata": {},
     "output_type": "execute_result"
    }
   ],
   "source": [
    "y1"
   ]
  },
  {
   "cell_type": "code",
   "execution_count": 109,
   "id": "f144abbe-99fe-4668-88cb-77ce6537fdb2",
   "metadata": {},
   "outputs": [
    {
     "data": {
      "text/plain": [
       "<AxesSubplot:>"
      ]
     },
     "execution_count": 109,
     "metadata": {},
     "output_type": "execute_result"
    },
    {
     "data": {
      "image/png": "[encoded data removed]",
      "text/plain": [
       "<Figure size 720x288 with 3 Axes>"
      ]
     },
     "metadata": {
      "needs_background": "light"
     },
     "output_type": "display_data"
    }
   ],
   "source": [
    "f, ax = plt.subplots(figsize=(10,4),ncols=3, sharey=True)\n",
    "tp.shadedError(ax[0], x, linecolor=\"#636363\")\n"
   ]
  },
  {
   "cell_type": "code",
   "execution_count": null,
   "id": "5498649d-6f95-4745-9315-907228132ee0",
   "metadata": {},
   "outputs": [],
   "source": []
  }
 ],
 "metadata": {
  "kernelspec": {
   "display_name": "Python 3",
   "language": "python",
   "name": "python3"
  },
  "language_info": {
   "codemirror_mode": {
    "name": "ipython",
    "version": 3
   },
   "file_extension": ".py",
   "mimetype": "text/x-python",
   "name": "python",
   "nbconvert_exporter": "python",
   "pygments_lexer": "ipython3",
   "version": "3.8.8"
  }
 },
 "nbformat": 4,
 "nbformat_minor": 5
}
